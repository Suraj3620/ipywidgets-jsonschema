{
 "cells": [
  {
   "cell_type": "code",
   "execution_count": null,
   "id": "0",
   "metadata": {
    "tags": []
   },
   "outputs": [],
   "source": [
    "%load_ext autoreload\n",
    "%autoreload 2"
   ]
  },
  {
   "cell_type": "code",
   "execution_count": null,
   "id": "1",
   "metadata": {
    "tags": []
   },
   "outputs": [],
   "source": [
    "from pydantic import BaseModel, field_validator, Field"
   ]
  },
  {
   "cell_type": "markdown",
   "id": "2",
   "metadata": {},
   "source": [
    "## JSON Schema specific limitations\n",
    "type contraints: no generics, no functions\n",
    "no custom validation function\n",
    "no native support for:\n"
   ]
  },
  {
   "cell_type": "markdown",
   "id": "3",
   "metadata": {},
   "source": [
    "## Basic pydantic models"
   ]
  },
  {
   "cell_type": "code",
   "execution_count": null,
   "id": "4",
   "metadata": {
    "tags": []
   },
   "outputs": [],
   "source": [
    "class StringSimple(BaseModel):\n",
    "    username: str\n",
    "    email: str\n",
    "\n",
    "\n",
    "print(StringSimple.model_json_schema())"
   ]
  },
  {
   "cell_type": "code",
   "execution_count": null,
   "id": "5",
   "metadata": {
    "tags": []
   },
   "outputs": [],
   "source": [
    "from ipywidgets_jsonschema import Form\n",
    "\n",
    "\n",
    "def show(model):\n",
    "    form = Form(model.model_json_schema())\n",
    "    form.show()"
   ]
  },
  {
   "cell_type": "markdown",
   "id": "6",
   "metadata": {},
   "source": [
    "## Nested Model"
   ]
  },
  {
   "cell_type": "code",
   "execution_count": null,
   "id": "7",
   "metadata": {
    "tags": []
   },
   "outputs": [],
   "source": [
    "from typing import List\n",
    "\n",
    "\n",
    "class Address(BaseModel):\n",
    "    street: str\n",
    "    city: str\n",
    "\n",
    "\n",
    "class StringNested(BaseModel):\n",
    "    name: str\n",
    "    adresses: List[Address]\n",
    "\n",
    "\n",
    "print(StringNested.model_json_schema())\n",
    "show(StringNested)"
   ]
  },
  {
   "cell_type": "code",
   "execution_count": null,
   "id": "8",
   "metadata": {
    "tags": []
   },
   "outputs": [],
   "source": [
    "class JSONContainer:\n",
    "    def __init__(self, data):\n",
    "        self._data = data\n",
    "\n",
    "    def _repr_json_(self):\n",
    "        return self._data"
   ]
  },
  {
   "cell_type": "code",
   "execution_count": null,
   "id": "9",
   "metadata": {
    "tags": []
   },
   "outputs": [],
   "source": [
    "JSONContainer(StringNested.model_json_schema())"
   ]
  },
  {
   "cell_type": "code",
   "execution_count": null,
   "id": "10",
   "metadata": {
    "tags": []
   },
   "outputs": [],
   "source": [
    "class StringAndInt(BaseModel):\n",
    "    name: str\n",
    "    age: int\n",
    "\n",
    "\n",
    "print(StringAndInt.model_json_schema())"
   ]
  },
  {
   "cell_type": "code",
   "execution_count": null,
   "id": "11",
   "metadata": {
    "tags": []
   },
   "outputs": [],
   "source": [
    "from pydantic import Field\n",
    "\n",
    "\n",
    "class FloatMultipleOfMinumumContraint(BaseModel):\n",
    "    price: float = Field(..., multiple_of=0.5, minimum=0.0)\n",
    "\n",
    "\n",
    "print(FloatMultipleOfMinumumContraint.model_json_schema())\n",
    "show(FloatMultipleOfMinumumContraint)"
   ]
  },
  {
   "cell_type": "code",
   "execution_count": null,
   "id": "12",
   "metadata": {
    "tags": []
   },
   "outputs": [],
   "source": [
    "from pydantic import Field\n",
    "\n",
    "\n",
    "class StringMinLengthMaxLengthContraint(BaseModel):\n",
    "    username: str = Field(..., min_length=3, max_length=30)\n",
    "    email: str = Field(..., format=\"email\")\n",
    "\n",
    "\n",
    "print(StringMinLengthMaxLengthContraint.model_json_schema())\n",
    "show(StringMinLengthMaxLengthContraint)"
   ]
  },
  {
   "cell_type": "code",
   "execution_count": null,
   "id": "13",
   "metadata": {
    "tags": []
   },
   "outputs": [],
   "source": [
    "from pydantic import Field\n",
    "\n",
    "\n",
    "class StringRegex(BaseModel):\n",
    "    username: str = Field(..., min_length=3, max_length=30, pattern=\"^[a-zA-Z0-9_]+$\")\n",
    "    email: str = Field(..., format=\"email\")\n",
    "\n",
    "\n",
    "print(StringRegex.model_json_schema())\n",
    "show(StringRegex)"
   ]
  },
  {
   "cell_type": "code",
   "execution_count": null,
   "id": "14",
   "metadata": {
    "tags": []
   },
   "outputs": [],
   "source": [
    "form = Form(StringRegex.model_json_schema())"
   ]
  },
  {
   "cell_type": "code",
   "execution_count": null,
   "id": "15",
   "metadata": {
    "tags": []
   },
   "outputs": [],
   "source": [
    "form.show()"
   ]
  },
  {
   "cell_type": "code",
   "execution_count": null,
   "id": "16",
   "metadata": {
    "tags": []
   },
   "outputs": [],
   "source": [
    "form.data"
   ]
  },
  {
   "cell_type": "code",
   "execution_count": null,
   "id": "17",
   "metadata": {
    "tags": []
   },
   "outputs": [],
   "source": [
    "from typing import List\n",
    "\n",
    "\n",
    "class Group(BaseModel):\n",
    "    ids: List[int] = Field(..., min_items=1, max_items=10, set=True)\n",
    "\n",
    "\n",
    "print(Group.model_json_schema())\n",
    "show(Group)"
   ]
  },
  {
   "cell_type": "code",
   "execution_count": null,
   "id": "18",
   "metadata": {},
   "outputs": [],
   "source": [
    "from pydantic import Field\n",
    "\n",
    "\n",
    "class DictMinProperties(BaseModel):\n",
    "    name: str\n",
    "    settings: dict[str, int] = Field(..., min_properties=1)\n",
    "\n",
    "\n",
    "print(DictMinProperties.model_json_schema())\n",
    "show(DictMinProperties)"
   ]
  },
  {
   "cell_type": "markdown",
   "id": "19",
   "metadata": {},
   "source": [
    "## Custom validator supported in JSON schema"
   ]
  },
  {
   "cell_type": "code",
   "execution_count": null,
   "id": "20",
   "metadata": {},
   "outputs": [],
   "source": [
    "class CustomValidationFloat(BaseModel):\n",
    "    discount_type: str\n",
    "    amount: float\n",
    "    min_purchase: float\n",
    "\n",
    "    @field_validator(\"min_purchase\")\n",
    "    def validate_min_purchase(cls, v, values):\n",
    "        if v < 50:\n",
    "            raise ValueError(\"minimum purchase for discount must be atleast 50\")\n",
    "        return v\n",
    "\n",
    "\n",
    "print(CustomValidationFloat.model_json_schema())"
   ]
  },
  {
   "cell_type": "markdown",
   "id": "21",
   "metadata": {},
   "source": [
    "## Annotations"
   ]
  },
  {
   "cell_type": "code",
   "execution_count": null,
   "id": "22",
   "metadata": {
    "tags": []
   },
   "outputs": [],
   "source": [
    "class StringWithAnnotations(BaseModel):\n",
    "    name: str = Field(..., title=\"Product Name\", description=\"some text\")\n",
    "\n",
    "\n",
    "print(StringWithAnnotations.model_json_schema())\n",
    "show(StringWithAnnotations)"
   ]
  },
  {
   "cell_type": "markdown",
   "id": "23",
   "metadata": {},
   "source": [
    "## Fixed Array Size"
   ]
  },
  {
   "cell_type": "code",
   "execution_count": null,
   "id": "24",
   "metadata": {},
   "outputs": [],
   "source": [
    "from pydantic import conlist\n",
    "\n",
    "\n",
    "class FixedArraySize(BaseModel):\n",
    "    fixed_items: conlist(int, min_length=1, max_length=3)\n",
    "\n",
    "\n",
    "print(FixedArraySize.model_json_schema())\n",
    "show(FixedArraySize)"
   ]
  },
  {
   "cell_type": "markdown",
   "id": "25",
   "metadata": {},
   "source": [
    "## Custom Validators / Complex Constraints"
   ]
  },
  {
   "cell_type": "code",
   "execution_count": null,
   "id": "26",
   "metadata": {},
   "outputs": [],
   "source": [
    "class CustomValidationModel(BaseModel):\n",
    "    username: str\n",
    "    email: str\n",
    "\n",
    "    @field_validator(\"email\")\n",
    "    def validate_call(cls, v):\n",
    "        if not v.endswith(\"@example.com\"):\n",
    "            raise ValueError(\"Wrong domain\")\n",
    "        return v\n",
    "\n",
    "\n",
    "print(CustomValidationModel.model_json_schema())"
   ]
  },
  {
   "cell_type": "markdown",
   "id": "27",
   "metadata": {},
   "source": [
    "# Dynamic fields"
   ]
  },
  {
   "cell_type": "code",
   "execution_count": null,
   "id": "28",
   "metadata": {},
   "outputs": [],
   "source": [
    "from datetime import datetime\n",
    "\n",
    "\n",
    "class DynamicFields(BaseModel):\n",
    "    timestamp: datetime = Field(default_factory=datetime.utcnow)\n",
    "\n",
    "\n",
    "print(Event.model_json_schema())\n",
    "show(DynamicFields)"
   ]
  },
  {
   "cell_type": "markdown",
   "id": "29",
   "metadata": {},
   "source": [
    "## Aliases"
   ]
  },
  {
   "cell_type": "code",
   "execution_count": null,
   "id": "30",
   "metadata": {},
   "outputs": [],
   "source": [
    "class IntAlias(BaseModel):\n",
    "    user_id: int = Field(..., alias=\"id\")\n",
    "\n",
    "\n",
    "print(IntAlias.model_json_schema())\n",
    "show(IntAlias)"
   ]
  },
  {
   "cell_type": "code",
   "execution_count": null,
   "id": "31",
   "metadata": {},
   "outputs": [],
   "source": [
    "class IntField(BaseModel):\n",
    "    user_id: int = Field(...)\n",
    "\n",
    "\n",
    "print(IntField.model_json_schema())\n",
    "show(IntField)"
   ]
  },
  {
   "cell_type": "markdown",
   "id": "32",
   "metadata": {},
   "source": [
    "## Private fields"
   ]
  },
  {
   "cell_type": "code",
   "execution_count": null,
   "id": "33",
   "metadata": {},
   "outputs": [],
   "source": [
    "from pydantic import PrivateAttr\n",
    "\n",
    "\n",
    "class StringPrivateField(BaseModel):\n",
    "    _password: str = PrivateAttr()\n",
    "    _private_password: str\n",
    "\n",
    "    def __init__(self, password: str):\n",
    "        self._password = password\n",
    "\n",
    "\n",
    "print(StringPrivateField.model_json_schema())\n",
    "show(StringPrivateField)"
   ]
  },
  {
   "cell_type": "markdown",
   "id": "34",
   "metadata": {},
   "source": [
    "## Inheritance"
   ]
  },
  {
   "cell_type": "code",
   "execution_count": null,
   "id": "35",
   "metadata": {},
   "outputs": [],
   "source": [
    "class Animal(BaseModel):\n",
    "    name: str\n",
    "\n",
    "\n",
    "class Dog(Animal):\n",
    "    breed: str\n",
    "\n",
    "\n",
    "print(Dog.model_json_schema())\n",
    "show(Dog)"
   ]
  },
  {
   "cell_type": "code",
   "execution_count": null,
   "id": "36",
   "metadata": {},
   "outputs": [],
   "source": []
  },
  {
   "cell_type": "code",
   "execution_count": null,
   "id": "37",
   "metadata": {},
   "outputs": [],
   "source": [
    "from typing import List\n",
    "\n",
    "\n",
    "class Category(BaseModel):\n",
    "    name: str\n",
    "    subcategories: List[\"Category\"]\n",
    "\n",
    "\n",
    "print(Category.model_json_schema())\n",
    "show(Category)"
   ]
  },
  {
   "cell_type": "code",
   "execution_count": null,
   "id": "38",
   "metadata": {},
   "outputs": [],
   "source": [
    "JSONContainer(Category.model_json_schema())"
   ]
  },
  {
   "cell_type": "markdown",
   "id": "39",
   "metadata": {},
   "source": [
    "## Literals"
   ]
  },
  {
   "cell_type": "code",
   "execution_count": null,
   "id": "40",
   "metadata": {},
   "outputs": [],
   "source": [
    "from typing import Literal\n",
    "\n",
    "\n",
    "class LiteralModel(BaseModel):\n",
    "    category: Literal[\"clothing\", \"food\"]\n",
    "\n",
    "\n",
    "print(LiteralModel.model_json_schema())\n",
    "show(LiteralModel)"
   ]
  },
  {
   "cell_type": "code",
   "execution_count": null,
   "id": "41",
   "metadata": {},
   "outputs": [],
   "source": [
    "from pydantic import conint\n",
    "\n",
    "\n",
    "class Item(BaseModel):\n",
    "    quantity: conint(ge=0)\n",
    "\n",
    "\n",
    "print(Item.model_json_schema())\n",
    "show(Item)"
   ]
  },
  {
   "cell_type": "markdown",
   "id": "42",
   "metadata": {},
   "source": [
    "## Enums"
   ]
  },
  {
   "cell_type": "code",
   "execution_count": null,
   "id": "43",
   "metadata": {},
   "outputs": [],
   "source": [
    "from enum import Enum\n",
    "from typing import List\n",
    "\n",
    "\n",
    "class Color(Enum):\n",
    "    RED = \"red\"\n",
    "    BLUE = \"blue\"\n",
    "    GREEN = \"green\"\n",
    "\n",
    "\n",
    "class ListEnum(BaseModel):\n",
    "    colors: List[Color]\n",
    "\n",
    "\n",
    "print(ListEnum.model_json_schema())\n",
    "show(ListEnum)"
   ]
  },
  {
   "cell_type": "markdown",
   "id": "44",
   "metadata": {},
   "source": [
    "## Annotated"
   ]
  },
  {
   "cell_type": "code",
   "execution_count": null,
   "id": "45",
   "metadata": {},
   "outputs": [],
   "source": [
    "from typing import Annotated\n",
    "\n",
    "\n",
    "class Modelannotated(BaseModel):\n",
    "    username: Annotated[str, \"Must be 12 characters\", \"Must be alphanumeric\"]\n",
    "\n",
    "\n",
    "print(Modelannotated.model_json_schema())\n",
    "show(Modelannotated)"
   ]
  },
  {
   "cell_type": "markdown",
   "id": "46",
   "metadata": {},
   "source": [
    "## Complex types"
   ]
  },
  {
   "cell_type": "code",
   "execution_count": null,
   "id": "47",
   "metadata": {},
   "outputs": [],
   "source": [
    "from uuid import UUID\n",
    "\n",
    "\n",
    "class UUIDModel(BaseModel):\n",
    "    event_id: UUID\n",
    "\n",
    "\n",
    "print(UUIDModel.model_json_schema())"
   ]
  },
  {
   "cell_type": "markdown",
   "id": "48",
   "metadata": {},
   "source": [
    "## Union"
   ]
  },
  {
   "cell_type": "code",
   "execution_count": null,
   "id": "49",
   "metadata": {},
   "outputs": [],
   "source": [
    "from typing import Union\n",
    "\n",
    "\n",
    "class Item(BaseModel):\n",
    "    price: Union[int, float]\n",
    "\n",
    "\n",
    "class UnionIntFloat(BaseModel):\n",
    "    price: int | float\n",
    "\n",
    "\n",
    "print(UnionIntFloat.model_json_schema())\n",
    "show(UnionIntFloat)"
   ]
  },
  {
   "cell_type": "code",
   "execution_count": null,
   "id": "50",
   "metadata": {},
   "outputs": [],
   "source": [
    "from typing import Union, Dict\n",
    "\n",
    "\n",
    "class DictUnion(BaseModel):\n",
    "    settings: Dict[str, int]\n",
    "\n",
    "\n",
    "print(DictUnion.model_json_schema())\n",
    "show(DictUnion)"
   ]
  },
  {
   "cell_type": "code",
   "execution_count": null,
   "id": "51",
   "metadata": {},
   "outputs": [],
   "source": [
    "from typing import Union, List, Dict\n",
    "\n",
    "\n",
    "class DictOrListModel(BaseModel):\n",
    "    data: Union[str, List[int]]\n",
    "\n",
    "\n",
    "print(DictOrListModel.model_json_schema())\n",
    "show(DictOrListModel)"
   ]
  },
  {
   "cell_type": "code",
   "execution_count": null,
   "id": "52",
   "metadata": {},
   "outputs": [],
   "source": [
    "from typing import Union\n",
    "\n",
    "\n",
    "class UserA(BaseModel):\n",
    "    name: str\n",
    "    age: int\n",
    "\n",
    "\n",
    "class UserB(BaseModel):\n",
    "    username: str\n",
    "    email: str\n",
    "\n",
    "\n",
    "class UnionModel(BaseModel):\n",
    "    user: Union[UserA, UserB]\n",
    "\n",
    "\n",
    "print(UnionModel.model_json_schema())\n",
    "show(UnionModel)"
   ]
  },
  {
   "cell_type": "code",
   "execution_count": null,
   "id": "53",
   "metadata": {},
   "outputs": [],
   "source": [
    "from typing import Union\n",
    "from uuid import UUID\n",
    "\n",
    "from pydantic import BaseModel\n",
    "\n",
    "\n",
    "class User(BaseModel):\n",
    "    id: Union[int, str, UUID]\n",
    "    name: str\n",
    "\n",
    "\n",
    "print(User.model_json_schema())\n",
    "show(User)\n",
    "\n",
    "user_01 = User(id=123, name=\"John Doe\")\n",
    "print(user_01)\n",
    "# > id=123 name='John Doe'\n",
    "print(user_01.id)\n",
    "# > 123\n",
    "user_02 = User(id=\"1234\", name=\"John Doe\")\n",
    "print(user_02)\n",
    "# > id='1234' name='John Doe'\n",
    "print(user_02.id)\n",
    "# > 1234\n",
    "user_03_uuid = UUID(\"cf57432e-809e-4353-adbd-9d5c0d733868\")\n",
    "user_03 = User(id=user_03_uuid, name=\"John Doe\")\n",
    "print(user_03)\n",
    "# > id=UUID('cf57432e-809e-4353-adbd-9d5c0d733868') name='John Doe'\n",
    "print(user_03.id)\n",
    "# > cf57432e-809e-4353-adbd-9d5c0d733868\n",
    "print(user_03_uuid.int)\n",
    "# > 275603287559914445491632874575877060712"
   ]
  },
  {
   "cell_type": "code",
   "execution_count": null,
   "id": "54",
   "metadata": {},
   "outputs": [],
   "source": [
    "from typing import Literal, Union\n",
    "\n",
    "from pydantic import BaseModel, Field, ValidationError\n",
    "\n",
    "\n",
    "class Cat(BaseModel):\n",
    "    pet_type: Literal[\"cat\"]\n",
    "    meows: int\n",
    "\n",
    "\n",
    "class Dog(BaseModel):\n",
    "    pet_type: Literal[\"dog\"]\n",
    "    barks: float\n",
    "\n",
    "\n",
    "class Lizard(BaseModel):\n",
    "    pet_type: Literal[\"reptile\", \"lizard\"]\n",
    "    scales: bool\n",
    "\n",
    "\n",
    "class AnimalModel(BaseModel):\n",
    "    pet: Union[Cat, Dog, Lizard] = Field(discriminator=\"pet_type\")\n",
    "    n: int\n",
    "\n",
    "\n",
    "print(AnimalModel.model_json_schema())\n",
    "show(AnimalModel)\n",
    "\n",
    "\n",
    "print(AnimalModel(pet={\"pet_type\": \"dog\", \"barks\": 3.14}, n=1))\n",
    "# > pet=Dog(pet_type='dog', barks=3.14) n=1\n",
    "try:\n",
    "    AnimalModel(pet={\"pet_type\": \"dog\"}, n=1)\n",
    "except ValidationError as e:\n",
    "    print(e)\n",
    "    \"\"\"\n",
    "    1 validation error for AnimalModel\n",
    "    pet.dog.barks\n",
    "      Field required [type=missing, input_value={'pet_type': 'dog'}, input_type=dict]\n",
    "    \"\"\""
   ]
  },
  {
   "cell_type": "code",
   "execution_count": null,
   "id": "55",
   "metadata": {},
   "outputs": [],
   "source": [
    "from typing import Literal, Union\n",
    "\n",
    "from typing_extensions import Annotated\n",
    "\n",
    "from pydantic import BaseModel, Field, ValidationError\n",
    "\n",
    "\n",
    "class BlackCat(BaseModel):\n",
    "    pet_type: Literal[\"cat\"]\n",
    "    color: Literal[\"black\"]\n",
    "    black_name: str\n",
    "\n",
    "\n",
    "class WhiteCat(BaseModel):\n",
    "    pet_type: Literal[\"cat\"]\n",
    "    color: Literal[\"white\"]\n",
    "    white_name: str\n",
    "\n",
    "\n",
    "Cat = Annotated[Union[BlackCat, WhiteCat], Field(discriminator=\"color\")]\n",
    "\n",
    "\n",
    "class Dog(BaseModel):\n",
    "    pet_type: Literal[\"dog\"]\n",
    "    name: str\n",
    "\n",
    "\n",
    "Pet = Annotated[Union[Cat, Dog], Field(discriminator=\"pet_type\")]\n",
    "\n",
    "\n",
    "class Model(BaseModel):\n",
    "    pet: Pet\n",
    "    n: int\n",
    "\n",
    "\n",
    "print(Model.model_json_schema())\n",
    "show(Model)\n",
    "\n",
    "m = Model(pet={\"pet_type\": \"cat\", \"color\": \"black\", \"black_name\": \"felix\"}, n=1)\n",
    "print(m)\n",
    "# > pet=BlackCat(pet_type='cat', color='black', black_name='felix') n=1\n",
    "try:\n",
    "    Model(pet={\"pet_type\": \"cat\", \"color\": \"red\"}, n=\"1\")\n",
    "except ValidationError as e:\n",
    "    print(e)\n",
    "    \"\"\"\n",
    "    1 validation error for Model\n",
    "    pet.cat\n",
    "      Input tag 'red' found using 'color' does not match any of the expected tags: 'black', 'white' [type=union_tag_invalid, input_value={'pet_type': 'cat', 'color': 'red'}, input_type=dict]\n",
    "    \"\"\"\n",
    "try:\n",
    "    Model(pet={\"pet_type\": \"cat\", \"color\": \"black\"}, n=\"1\")\n",
    "except ValidationError as e:\n",
    "    print(e)\n",
    "    \"\"\"\n",
    "    1 validation error for Model\n",
    "    pet.cat.black.black_name\n",
    "      Field required [type=missing, input_value={'pet_type': 'cat', 'color': 'black'}, input_type=dict]\n",
    "    \"\"\""
   ]
  },
  {
   "cell_type": "code",
   "execution_count": null,
   "id": "56",
   "metadata": {},
   "outputs": [],
   "source": []
  },
  {
   "cell_type": "markdown",
   "id": "57",
   "metadata": {},
   "source": [
    "## Callables"
   ]
  },
  {
   "cell_type": "code",
   "execution_count": null,
   "id": "58",
   "metadata": {},
   "outputs": [],
   "source": [
    "from typing import Any, Literal, Union\n",
    "\n",
    "from typing_extensions import Annotated\n",
    "\n",
    "from pydantic import BaseModel, Discriminator, Tag\n",
    "\n",
    "\n",
    "class Pie(BaseModel):\n",
    "    time_to_cook: int\n",
    "    num_ingredients: int\n",
    "\n",
    "\n",
    "class ApplePie(Pie):\n",
    "    fruit: Literal[\"apple\"] = \"apple\"\n",
    "\n",
    "\n",
    "class PumpkinPie(Pie):\n",
    "    filling: Literal[\"pumpkin\"] = \"pumpkin\"\n",
    "\n",
    "\n",
    "def get_discriminator_value(v: Any) -> str:\n",
    "    if isinstance(v, dict):\n",
    "        return v.get(\"fruit\", v.get(\"filling\"))\n",
    "    return getattr(v, \"fruit\", getattr(v, \"filling\", None))\n",
    "\n",
    "\n",
    "class ThanksgivingDinner(BaseModel):\n",
    "    dessert: Annotated[\n",
    "        Union[\n",
    "            Annotated[ApplePie, Tag(\"apple\")],\n",
    "            Annotated[PumpkinPie, Tag(\"pumpkin\")],\n",
    "        ],\n",
    "        Discriminator(get_discriminator_value),\n",
    "    ]\n",
    "\n",
    "\n",
    "print(ThanksgivingDinner.model_json_schema())\n",
    "show(ThanksgivingDinner)\n",
    "\n",
    "\n",
    "apple_variation = ThanksgivingDinner.model_validate(\n",
    "    {\"dessert\": {\"fruit\": \"apple\", \"time_to_cook\": 60, \"num_ingredients\": 8}}\n",
    ")\n",
    "print(repr(apple_variation))\n",
    "\"\"\"\n",
    "ThanksgivingDinner(dessert=ApplePie(time_to_cook=60, num_ingredients=8, fruit='apple'))\n",
    "\"\"\"\n",
    "\n",
    "pumpkin_variation = ThanksgivingDinner.model_validate(\n",
    "    {\n",
    "        \"dessert\": {\n",
    "            \"filling\": \"pumpkin\",\n",
    "            \"time_to_cook\": 40,\n",
    "            \"num_ingredients\": 6,\n",
    "        }\n",
    "    }\n",
    ")\n",
    "print(repr(pumpkin_variation))\n",
    "\"\"\"\n",
    "ThanksgivingDinner(dessert=PumpkinPie(time_to_cook=40, num_ingredients=6, filling='pumpkin'))\n",
    "\"\"\""
   ]
  },
  {
   "cell_type": "code",
   "execution_count": null,
   "id": "59",
   "metadata": {},
   "outputs": [],
   "source": [
    "from typing import Callable\n",
    "\n",
    "\n",
    "class CallablesModel(BaseModel):\n",
    "    process: Callable[[int], int]\n",
    "\n",
    "\n",
    "print(CallablesModel.model_json_schema())"
   ]
  },
  {
   "cell_type": "code",
   "execution_count": null,
   "id": "60",
   "metadata": {},
   "outputs": [],
   "source": []
  },
  {
   "cell_type": "code",
   "execution_count": null,
   "id": "61",
   "metadata": {},
   "outputs": [],
   "source": [
    "class BasicTypes(BaseModel):\n",
    "    string_field: str\n",
    "    int_field: int\n",
    "    float_field: float\n",
    "    bool_field: bool\n",
    "    none_field: None"
   ]
  },
  {
   "cell_type": "code",
   "execution_count": null,
   "id": "62",
   "metadata": {},
   "outputs": [],
   "source": [
    "## Recursion"
   ]
  },
  {
   "cell_type": "code",
   "execution_count": null,
   "id": "63",
   "metadata": {},
   "outputs": [],
   "source": [
    "class RecursiveModel(BaseModel):\n",
    "    value: str\n",
    "    children: List[\"RecursiveModel\"] = []"
   ]
  },
  {
   "cell_type": "code",
   "execution_count": null,
   "id": "64",
   "metadata": {},
   "outputs": [],
   "source": [
    "from pydantic import SecretStr\n",
    "\n",
    "\n",
    "class StringValidations(BaseModel):\n",
    "    min_length: str = Field(min_length=3)\n",
    "    max_length: str = Field(max_length=10)\n",
    "    pattern: str = Field(pattern=r\"^[a-zA-Z0-9]+$\")\n",
    "    password: SecretStr"
   ]
  },
  {
   "cell_type": "code",
   "execution_count": null,
   "id": "65",
   "metadata": {},
   "outputs": [],
   "source": [
    "from pydantic import PositiveInt, NegativeInt, conint, PositiveFloat, confloat\n",
    "\n",
    "\n",
    "class NumericValidations(BaseModel):\n",
    "    positive_int: PositiveInt\n",
    "    negative_int: NegativeInt\n",
    "    range_int: conint(ge=0, le=100)\n",
    "    positive_float: PositiveFloat\n",
    "    range_float: confloat(ge=0.0, le=1.0)"
   ]
  },
  {
   "cell_type": "code",
   "execution_count": null,
   "id": "66",
   "metadata": {},
   "outputs": [],
   "source": [
    "## Enum"
   ]
  },
  {
   "cell_type": "code",
   "execution_count": null,
   "id": "67",
   "metadata": {},
   "outputs": [],
   "source": [
    "class UserType(str, Enum):\n",
    "    ADMIN = \"admin\"\n",
    "    USER = \"user\"\n",
    "    GUEST = \"guest\"\n",
    "\n",
    "\n",
    "class EnumModel(BaseModel):\n",
    "    user_type: UserType\n",
    "    status: Literal[\"active\", \"inactive\", \"pending\"]\n",
    "    level: int = Field(ge=1, le=5)\n",
    "\n",
    "\n",
    "show(EnumModel)"
   ]
  },
  {
   "cell_type": "code",
   "execution_count": null,
   "id": "68",
   "metadata": {},
   "outputs": [],
   "source": [
    "## Nested Model"
   ]
  },
  {
   "cell_type": "code",
   "execution_count": null,
   "id": "69",
   "metadata": {},
   "outputs": [],
   "source": [
    "from typing import Any\n",
    "\n",
    "\n",
    "class Address(BaseModel):\n",
    "    street: str\n",
    "    city: str\n",
    "    country: str\n",
    "    postal_code: str = Field(pattern=r\"^\\d{5}$\")\n",
    "\n",
    "\n",
    "class NestedModel(BaseModel):\n",
    "    id: UUID\n",
    "    name: str\n",
    "    addresses: List[Address]\n",
    "    primary_address: Address\n",
    "    metadata: Dict[str, Any]\n",
    "\n",
    "\n",
    "show(NestedModel)"
   ]
  },
  {
   "cell_type": "markdown",
   "id": "70",
   "metadata": {},
   "source": [
    "## Generics / Template"
   ]
  },
  {
   "cell_type": "code",
   "execution_count": null,
   "id": "71",
   "metadata": {},
   "outputs": [],
   "source": [
    "from typing import TypeVar, Generic\n",
    "\n",
    "T = TypeVar(\"T\")\n",
    "\n",
    "\n",
    "class Generics(BaseModel, Generic[T]):\n",
    "    data: T\n",
    "    status: int\n",
    "    message: str"
   ]
  },
  {
   "cell_type": "code",
   "execution_count": null,
   "id": "72",
   "metadata": {},
   "outputs": [],
   "source": [
    "JSONContainer(Generics[int].model_json_schema())"
   ]
  },
  {
   "cell_type": "markdown",
   "id": "73",
   "metadata": {},
   "source": [
    "## Network model"
   ]
  },
  {
   "cell_type": "code",
   "execution_count": null,
   "id": "74",
   "metadata": {},
   "outputs": [],
   "source": [
    "from pydantic import BaseModel\n",
    "from pydantic.networks import IPvAnyAddress\n",
    "\n",
    "\n",
    "class IpModel(BaseModel):\n",
    "    ip: IPvAnyAddress\n",
    "\n",
    "\n",
    "JSONContainer(IpModel.model_json_schema())"
   ]
  },
  {
   "cell_type": "markdown",
   "id": "75",
   "metadata": {},
   "source": [
    "## Json"
   ]
  },
  {
   "cell_type": "code",
   "execution_count": null,
   "id": "76",
   "metadata": {},
   "outputs": [],
   "source": [
    "from pydantic import Json\n",
    "\n",
    "\n",
    "class DynamicConfig(BaseModel):\n",
    "    raw_json: Json\n",
    "    metadata: Dict[str, Any]\n",
    "    settings_json: Json[Dict[str, Any]]\n",
    "\n",
    "\n",
    "show(DynamicConfig)"
   ]
  },
  {
   "cell_type": "code",
   "execution_count": null,
   "id": "77",
   "metadata": {},
   "outputs": [],
   "source": [
    "JSONContainer(DynamicConfig.model_json_schema())"
   ]
  },
  {
   "cell_type": "markdown",
   "id": "78",
   "metadata": {},
   "source": [
    "## Optional typing"
   ]
  },
  {
   "cell_type": "code",
   "execution_count": null,
   "id": "79",
   "metadata": {},
   "outputs": [],
   "source": [
    "from typing import Optional\n",
    "\n",
    "\n",
    "class OptionalModel(BaseModel):\n",
    "    field1: Optional[str] = None\n",
    "    field2: Optional[int] = None\n",
    "    field3: Optional[List[str]] = None\n",
    "\n",
    "\n",
    "show(OptionalModel)"
   ]
  },
  {
   "cell_type": "code",
   "execution_count": null,
   "id": "80",
   "metadata": {},
   "outputs": [],
   "source": [
    "JSONContainer(OptionalModel.model_json_schema())"
   ]
  },
  {
   "cell_type": "code",
   "execution_count": null,
   "id": "81",
   "metadata": {},
   "outputs": [],
   "source": [
    "import json\n",
    "import logging\n",
    "import pydantic\n",
    "from typing import List, Type\n",
    "from pathlib import Path\n",
    "\n",
    "\n",
    "def generate_json_schema_files(\n",
    "    models: List[Type[BaseModel]], output_dir: str = \"schemas\"\n",
    "):\n",
    "    \"\"\"\n",
    "    Generate JSON schema files for a list of pydantic basemodels\n",
    "    \"\"\"\n",
    "    schema_dir = Path(output_dir)\n",
    "    schema_dir.mkdir(parents=True, exist_ok=True)\n",
    "\n",
    "    for model in models:\n",
    "        try:\n",
    "            model_name = model.__name__.lower()\n",
    "            schema = model.model_json_schema()\n",
    "            schema_path = schema_dir / f\"{model_name}.json\"\n",
    "\n",
    "            with open(schema_path, \"w\", encoding=\"utf8\") as f:\n",
    "                json.dump(schema, f, indent=2, ensure_ascii=False)\n",
    "\n",
    "            logging.info(f\"Generated schema for {model_name} at {schema_path}\")\n",
    "\n",
    "        except Exception as e:\n",
    "            logging.error(f\"Failed to generate schema for {model.__name__}: {str(e)}\")\n",
    "\n",
    "\n",
    "models_to_process = [\n",
    "    StringSimple,\n",
    "    StringNested,\n",
    "    StringAndInt,\n",
    "    FloatMultipleOfMinumumContraint,\n",
    "    StringMinLengthMaxLengthContraint,\n",
    "    StringRegex,\n",
    "    Group,\n",
    "    DictMinProperties,\n",
    "    CustomValidationFloat,\n",
    "    StringWithAnnotations,\n",
    "    FixedArraySize,\n",
    "    CustomValidationModel,\n",
    "    DynamicFields,\n",
    "    IntAlias,\n",
    "    IntField,\n",
    "    StringPrivateField,\n",
    "    Dog,\n",
    "    Category,\n",
    "    LiteralModel,\n",
    "    Item,\n",
    "    ListEnum,\n",
    "    Modelannotated,\n",
    "    UUIDModel,\n",
    "    UnionIntFloat,\n",
    "    DictUnion,\n",
    "    BasicTypes,\n",
    "    RecursiveModel,\n",
    "    StringValidations,\n",
    "    NumericValidations,\n",
    "    EnumModel,\n",
    "    NestedModel,\n",
    "    Generics,\n",
    "    IpModel,\n",
    "    DynamicConfig,\n",
    "    OptionalModel,\n",
    "]\n",
    "user_generated_models = []\n",
    "generate_json_schema_files(models_to_process, \"schemas\")\n",
    "generate_json_schema_files(user_generated_models, \"schemas-user\")"
   ]
  },
  {
   "cell_type": "code",
   "execution_count": null,
   "id": "82",
   "metadata": {},
   "outputs": [],
   "source": [
    "from ipywidgets_jsonschema import Form\n",
    "\n",
    "\n",
    "# schema = Config.model_json_schema()\n",
    "\n",
    "form = Form(ListEnum.model_json_schema())\n",
    "form.show(width=\"500px\")"
   ]
  },
  {
   "cell_type": "code",
   "execution_count": null,
   "id": "83",
   "metadata": {},
   "outputs": [],
   "source": [
    "form.data"
   ]
  },
  {
   "cell_type": "markdown",
   "id": "84",
   "metadata": {},
   "source": [
    "## Unsupported so far\n",
    "Enums (cant add entries),\n",
    "Union"
   ]
  },
  {
   "cell_type": "markdown",
   "id": "85",
   "metadata": {},
   "source": [
    "## Unsupported by JSON schema\n",
    "Custom validators, dynamic computed fields"
   ]
  },
  {
   "cell_type": "code",
   "execution_count": null,
   "id": "86",
   "metadata": {},
   "outputs": [],
   "source": []
  },
  {
   "cell_type": "code",
   "execution_count": null,
   "id": "87",
   "metadata": {},
   "outputs": [],
   "source": []
  }
 ],
 "metadata": {
  "kernelspec": {
   "display_name": "Python 3 (ipykernel)",
   "language": "python",
   "name": "python3"
  },
  "language_info": {
   "codemirror_mode": {
    "name": "ipython",
    "version": 3
   },
   "file_extension": ".py",
   "mimetype": "text/x-python",
   "name": "python",
   "nbconvert_exporter": "python",
   "pygments_lexer": "ipython3",
   "version": "3.13.1"
  }
 },
 "nbformat": 4,
 "nbformat_minor": 5
}
