{
 "cells": [
  {
   "cell_type": "code",
   "execution_count": 158,
   "id": "a751427e",
   "metadata": {
    "tags": []
   },
   "outputs": [
    {
     "name": "stdout",
     "output_type": "stream",
     "text": [
      "demo\n",
      "The autoreload extension is already loaded. To reload it, use:\n",
      "  %reload_ext autoreload\n"
     ]
    }
   ],
   "source": [
    "%load_ext autoreload\n",
    "%autoreload 2"
   ]
  },
  {
   "cell_type": "code",
   "execution_count": 159,
   "id": "fabd49a5-17c8-4d1e-b1ba-ac5e82d863ee",
   "metadata": {
    "tags": []
   },
   "outputs": [],
   "source": [
    "from pydantic import BaseModel, field_validator, Field"
   ]
  },
  {
   "cell_type": "markdown",
   "id": "bc6653f3-ad06-4050-a522-be4383b5e5ba",
   "metadata": {},
   "source": [
    "## JSON Schema specific limitations\n",
    "type contraints: no generics, no functions\n",
    "no custom validation function\n",
    "no native support for:\n"
   ]
  },
  {
   "cell_type": "markdown",
   "id": "2b379d25-1bf8-4905-becd-3c01310c2822",
   "metadata": {},
   "source": [
    "## Basic pydantic models"
   ]
  },
  {
   "cell_type": "code",
   "execution_count": 160,
   "id": "8c8c37ba-91b2-43af-914e-077a0eb49ee1",
   "metadata": {
    "tags": []
   },
   "outputs": [
    {
     "name": "stdout",
     "output_type": "stream",
     "text": [
      "{'properties': {'username': {'title': 'Username', 'type': 'string'}, 'email': {'title': 'Email', 'type': 'string'}}, 'required': ['username', 'email'], 'title': 'StringSimple', 'type': 'object'}\n"
     ]
    }
   ],
   "source": [
    "class StringSimple(BaseModel):\n",
    "    username: str\n",
    "    email: str\n",
    "    \n",
    "\n",
    "print(StringSimple.model_json_schema())"
   ]
  },
  {
   "cell_type": "code",
   "execution_count": 161,
   "id": "9ebac11f-a60a-4858-895e-6e079c7af9a0",
   "metadata": {
    "tags": []
   },
   "outputs": [],
   "source": [
    "from ipywidgets_jsonschema import Form\n",
    "def show(model):\n",
    "    form = Form(model.model_json_schema())\n",
    "    form.show()\n",
    "\n"
   ]
  },
  {
   "cell_type": "markdown",
   "id": "61f1970b-2c4a-4284-a751-0e3ecb5043a9",
   "metadata": {},
   "source": [
    "## Nested Model"
   ]
  },
  {
   "cell_type": "code",
   "execution_count": 162,
   "id": "8d1ba8ea-cd1e-4f36-aacd-8814cab531a2",
   "metadata": {
    "tags": []
   },
   "outputs": [
    {
     "name": "stdout",
     "output_type": "stream",
     "text": [
      "{'$defs': {'Address': {'properties': {'street': {'title': 'Street', 'type': 'string'}, 'city': {'title': 'City', 'type': 'string'}}, 'required': ['street', 'city'], 'title': 'Address', 'type': 'object'}}, 'properties': {'name': {'title': 'Name', 'type': 'string'}, 'adresses': {'items': {'$ref': '#/$defs/Address'}, 'title': 'Adresses', 'type': 'array'}}, 'required': ['name', 'adresses'], 'title': 'StringNested', 'type': 'object'}\n"
     ]
    },
    {
     "data": {
      "application/vnd.jupyter.widget-view+json": {
       "model_id": "098f675f755a4af4b729018c0c53d3f7",
       "version_major": 2,
       "version_minor": 0
      },
      "text/plain": [
       "VBox(children=(Accordion(children=(VBox(children=(VBox(children=(Button(description='Add entry', icon='plus', …"
      ]
     },
     "metadata": {},
     "output_type": "display_data"
    }
   ],
   "source": [
    "from typing import List\n",
    "class Address(BaseModel):\n",
    "    street: str\n",
    "    city: str\n",
    "class StringNested(BaseModel):\n",
    "    name: str\n",
    "    adresses: List[Address]\n",
    "print(StringNested.model_json_schema())\n",
    "show(StringNested)"
   ]
  },
  {
   "cell_type": "code",
   "execution_count": 163,
   "id": "092c391c-77e0-4ea5-80b9-1a9d14dc1999",
   "metadata": {
    "tags": []
   },
   "outputs": [],
   "source": [
    "class JSONContainer:\n",
    "    def __init__(self, data):\n",
    "        self._data = data\n",
    "    def _repr_json_(self):\n",
    "        return self._data"
   ]
  },
  {
   "cell_type": "code",
   "execution_count": 164,
   "id": "6dcac57c-54ca-40de-81fc-6c6ae0cd96e6",
   "metadata": {
    "tags": []
   },
   "outputs": [
    {
     "data": {
      "application/json": {
       "$defs": {
        "Address": {
         "properties": {
          "city": {
           "title": "City",
           "type": "string"
          },
          "street": {
           "title": "Street",
           "type": "string"
          }
         },
         "required": [
          "street",
          "city"
         ],
         "title": "Address",
         "type": "object"
        }
       },
       "properties": {
        "adresses": {
         "items": {
          "$ref": "#/$defs/Address"
         },
         "title": "Adresses",
         "type": "array"
        },
        "name": {
         "title": "Name",
         "type": "string"
        }
       },
       "required": [
        "name",
        "adresses"
       ],
       "title": "StringNested",
       "type": "object"
      },
      "text/plain": [
       "<__main__.JSONContainer at 0x119c25400>"
      ]
     },
     "execution_count": 164,
     "metadata": {},
     "output_type": "execute_result"
    }
   ],
   "source": [
    "JSONContainer(StringNested.model_json_schema())"
   ]
  },
  {
   "cell_type": "code",
   "execution_count": 165,
   "id": "f9928509-dc55-4c24-8297-5c7b31541c74",
   "metadata": {
    "tags": []
   },
   "outputs": [
    {
     "name": "stdout",
     "output_type": "stream",
     "text": [
      "{'properties': {'name': {'title': 'Name', 'type': 'string'}, 'age': {'title': 'Age', 'type': 'integer'}}, 'required': ['name', 'age'], 'title': 'StringAndInt', 'type': 'object'}\n"
     ]
    }
   ],
   "source": [
    "class StringAndInt(BaseModel):\n",
    "    name: str\n",
    "    age: int\n",
    "print(StringAndInt.model_json_schema())"
   ]
  },
  {
   "cell_type": "code",
   "execution_count": 166,
   "id": "a42ea008-1cd1-487e-b6f7-9d19f6774d62",
   "metadata": {
    "tags": []
   },
   "outputs": [
    {
     "name": "stdout",
     "output_type": "stream",
     "text": [
      "{'properties': {'price': {'minimum': 0.0, 'multipleOf': 0.5, 'title': 'Price', 'type': 'number'}}, 'required': ['price'], 'title': 'FloatMultipleOfMinumumContraint', 'type': 'object'}\n"
     ]
    },
    {
     "data": {
      "application/vnd.jupyter.widget-view+json": {
       "model_id": "3c120ed96af640f58e2a3f485b0bc2f9",
       "version_major": 2,
       "version_minor": 0
      },
      "text/plain": [
       "VBox(children=(HBox(children=(Label(value='Price', layout=Layout(width='100%')), FloatText(value=0.0, layout=L…"
      ]
     },
     "metadata": {},
     "output_type": "display_data"
    }
   ],
   "source": [
    "from pydantic import Field\n",
    "\n",
    "class FloatMultipleOfMinumumContraint(BaseModel):\n",
    "    price: float = Field(..., multiple_of = 0.5, minimum = 0.0)\n",
    "\n",
    "\n",
    "print(FloatMultipleOfMinumumContraint.model_json_schema())\n",
    "show(FloatMultipleOfMinumumContraint)"
   ]
  },
  {
   "cell_type": "code",
   "execution_count": 167,
   "id": "212ada6e-0c7b-4aeb-bd89-310ce5bb602b",
   "metadata": {
    "tags": []
   },
   "outputs": [
    {
     "name": "stdout",
     "output_type": "stream",
     "text": [
      "{'properties': {'username': {'maxLength': 30, 'minLength': 3, 'title': 'Username', 'type': 'string'}, 'email': {'format': 'email', 'title': 'Email', 'type': 'string'}}, 'required': ['username', 'email'], 'title': 'StringMinLengthMaxLengthContraint', 'type': 'object'}\n"
     ]
    },
    {
     "data": {
      "application/vnd.jupyter.widget-view+json": {
       "model_id": "c0811bed7a984a93983299b3b60a50c9",
       "version_major": 2,
       "version_minor": 0
      },
      "text/plain": [
       "VBox(children=(HBox(children=(Label(value='Email', layout=Layout(width='100%')), Text(value='', layout=Layout(…"
      ]
     },
     "metadata": {},
     "output_type": "display_data"
    }
   ],
   "source": [
    "from pydantic import Field\n",
    "class StringMinLengthMaxLengthContraint(BaseModel):\n",
    "    username: str = Field(..., min_length = 3, max_length=30)\n",
    "    email: str = Field(..., format='email')\n",
    "print(StringMinLengthMaxLengthContraint.model_json_schema())\n",
    "show(StringMinLengthMaxLengthContraint)"
   ]
  },
  {
   "cell_type": "code",
   "execution_count": 168,
   "id": "5077448c-3bc6-4e40-8bc0-6c5e5ec16b1a",
   "metadata": {
    "tags": []
   },
   "outputs": [
    {
     "name": "stdout",
     "output_type": "stream",
     "text": [
      "{'properties': {'username': {'maxLength': 30, 'minLength': 3, 'pattern': '^[a-zA-Z0-9_]+$', 'title': 'Username', 'type': 'string'}, 'email': {'format': 'email', 'title': 'Email', 'type': 'string'}}, 'required': ['username', 'email'], 'title': 'StringRegex', 'type': 'object'}\n"
     ]
    },
    {
     "data": {
      "application/vnd.jupyter.widget-view+json": {
       "model_id": "b280ff912eaf4da8bb226668bd64d91a",
       "version_major": 2,
       "version_minor": 0
      },
      "text/plain": [
       "VBox(children=(HBox(children=(Label(value='Email', layout=Layout(width='100%')), Text(value='', layout=Layout(…"
      ]
     },
     "metadata": {},
     "output_type": "display_data"
    }
   ],
   "source": [
    "from pydantic import Field\n",
    "class StringRegex(BaseModel):\n",
    "    username: str = Field(..., min_length = 3, max_length=30, pattern='^[a-zA-Z0-9_]+$')\n",
    "    email: str = Field(..., format='email')\n",
    "print(StringRegex.model_json_schema())\n",
    "show(StringRegex)"
   ]
  },
  {
   "cell_type": "code",
   "execution_count": 169,
   "id": "2f571a36-58cc-4a12-8e6c-266af9873a2f",
   "metadata": {
    "tags": []
   },
   "outputs": [],
   "source": [
    "form = Form(StringRegex.model_json_schema())"
   ]
  },
  {
   "cell_type": "code",
   "execution_count": 170,
   "id": "33cb37bb-4f1d-487b-bc95-628770c78937",
   "metadata": {
    "tags": []
   },
   "outputs": [
    {
     "data": {
      "application/vnd.jupyter.widget-view+json": {
       "model_id": "6faf1488652146c0aa2cdbba2a563218",
       "version_major": 2,
       "version_minor": 0
      },
      "text/plain": [
       "VBox(children=(HBox(children=(Label(value='Email', layout=Layout(width='100%')), Text(value='', layout=Layout(…"
      ]
     },
     "metadata": {},
     "output_type": "display_data"
    }
   ],
   "source": [
    "form.show()"
   ]
  },
  {
   "cell_type": "code",
   "execution_count": 171,
   "id": "fe243686-9f22-4203-9817-8b0dee3dc850",
   "metadata": {
    "tags": []
   },
   "outputs": [
    {
     "ename": "FormError",
     "evalue": "Value '' does not match the specified pattern '^[a-zA-Z0-9_]+$'",
     "output_type": "error",
     "traceback": [
      "\u001b[0;31m---------------------------------------------------------------------------\u001b[0m",
      "\u001b[0;31mFormError\u001b[0m                                 Traceback (most recent call last)",
      "Cell \u001b[0;32mIn[171], line 1\u001b[0m\n\u001b[0;32m----> 1\u001b[0m \u001b[43mform\u001b[49m\u001b[38;5;241;43m.\u001b[39;49m\u001b[43mdata\u001b[49m\n",
      "File \u001b[0;32m~/Projects/Pydantic_Ipywidgets/ipywidgets-jsonschema/ipywidgets_jsonschema/form.py:186\u001b[0m, in \u001b[0;36mForm.data\u001b[0;34m(self)\u001b[0m\n\u001b[1;32m    179\u001b[0m \u001b[38;5;250m\u001b[39m\u001b[38;5;124;03m\"\"\"Get a (non-updating) snapshot of the current form data\u001b[39;00m\n\u001b[1;32m    180\u001b[0m \n\u001b[1;32m    181\u001b[0m \u001b[38;5;124;03m:returns:\u001b[39;00m\n\u001b[1;32m    182\u001b[0m \u001b[38;5;124;03m    A dictionary that reflects the current state of the widget and\u001b[39;00m\n\u001b[1;32m    183\u001b[0m \u001b[38;5;124;03m    conforms to the given schema.\u001b[39;00m\n\u001b[1;32m    184\u001b[0m \u001b[38;5;124;03m\"\"\"\u001b[39;00m\n\u001b[1;32m    185\u001b[0m \u001b[38;5;66;03m# Construct the data by calling all the data handlers on an empty dictionary\u001b[39;00m\n\u001b[0;32m--> 186\u001b[0m data \u001b[38;5;241m=\u001b[39m \u001b[38;5;28;43mself\u001b[39;49m\u001b[38;5;241;43m.\u001b[39;49m\u001b[43m_form_element\u001b[49m\u001b[38;5;241;43m.\u001b[39;49m\u001b[43mgetter\u001b[49m\u001b[43m(\u001b[49m\u001b[43m)\u001b[49m\n\u001b[1;32m    188\u001b[0m \u001b[38;5;66;03m# Validate the resulting document just to be sure\u001b[39;00m\n\u001b[1;32m    189\u001b[0m jsonschema\u001b[38;5;241m.\u001b[39mvalidate(instance\u001b[38;5;241m=\u001b[39mdata, schema\u001b[38;5;241m=\u001b[39m\u001b[38;5;28mself\u001b[39m\u001b[38;5;241m.\u001b[39mschema)\n",
      "File \u001b[0;32m~/Projects/Pydantic_Ipywidgets/ipywidgets-jsonschema/ipywidgets_jsonschema/form.py:331\u001b[0m, in \u001b[0;36mForm._construct_object.<locals>._getter\u001b[0;34m()\u001b[0m\n\u001b[1;32m    329\u001b[0m \u001b[38;5;28;01mif\u001b[39;00m \u001b[38;5;124m\"\u001b[39m\u001b[38;5;124mproperties\u001b[39m\u001b[38;5;124m\"\u001b[39m \u001b[38;5;129;01min\u001b[39;00m schema:\n\u001b[1;32m    330\u001b[0m     \u001b[38;5;28;01mfor\u001b[39;00m k \u001b[38;5;129;01min\u001b[39;00m schema[\u001b[38;5;124m\"\u001b[39m\u001b[38;5;124mproperties\u001b[39m\u001b[38;5;124m\"\u001b[39m]\u001b[38;5;241m.\u001b[39mkeys():\n\u001b[0;32m--> 331\u001b[0m         result[k] \u001b[38;5;241m=\u001b[39m \u001b[43melements\u001b[49m\u001b[43m[\u001b[49m\u001b[43mk\u001b[49m\u001b[43m]\u001b[49m\u001b[38;5;241;43m.\u001b[39;49m\u001b[43mgetter\u001b[49m\u001b[43m(\u001b[49m\u001b[43m)\u001b[49m\n\u001b[1;32m    333\u001b[0m     \u001b[38;5;66;03m# Add conditional properties\u001b[39;00m\n\u001b[1;32m    334\u001b[0m     \u001b[38;5;28;01mfor\u001b[39;00m cschema, cprop, celem \u001b[38;5;129;01min\u001b[39;00m conditionals:\n",
      "File \u001b[0;32m~/Projects/Pydantic_Ipywidgets/ipywidgets-jsonschema/ipywidgets_jsonschema/form.py:479\u001b[0m, in \u001b[0;36mForm._construct_simple.<locals>._getter\u001b[0;34m()\u001b[0m\n\u001b[1;32m    476\u001b[0m \u001b[38;5;28;01mdef\u001b[39;00m\u001b[38;5;250m \u001b[39m\u001b[38;5;21m_getter\u001b[39m():\n\u001b[1;32m    477\u001b[0m     \u001b[38;5;28;01mif\u001b[39;00m \u001b[38;5;129;01mnot\u001b[39;00m pattern_checker(widget\u001b[38;5;241m.\u001b[39mvalue):\n\u001b[1;32m    478\u001b[0m         \u001b[38;5;66;03m# We will have to see whether or not throwing is a good idea here\u001b[39;00m\n\u001b[0;32m--> 479\u001b[0m         \u001b[38;5;28;01mraise\u001b[39;00m FormError(\n\u001b[1;32m    480\u001b[0m             \u001b[38;5;124mf\u001b[39m\u001b[38;5;124m\"\u001b[39m\u001b[38;5;124mValue \u001b[39m\u001b[38;5;124m'\u001b[39m\u001b[38;5;132;01m{\u001b[39;00mwidget\u001b[38;5;241m.\u001b[39mvalue\u001b[38;5;132;01m}\u001b[39;00m\u001b[38;5;124m'\u001b[39m\u001b[38;5;124m does not match the specified pattern \u001b[39m\u001b[38;5;124m'\u001b[39m\u001b[38;5;132;01m{\u001b[39;00mschema[\u001b[38;5;124m'\u001b[39m\u001b[38;5;124mpattern\u001b[39m\u001b[38;5;124m'\u001b[39m]\u001b[38;5;132;01m}\u001b[39;00m\u001b[38;5;124m'\u001b[39m\u001b[38;5;124m\"\u001b[39m\n\u001b[1;32m    481\u001b[0m         )\n\u001b[1;32m    483\u001b[0m     \u001b[38;5;28;01mreturn\u001b[39;00m widget\u001b[38;5;241m.\u001b[39mvalue\n",
      "\u001b[0;31mFormError\u001b[0m: Value '' does not match the specified pattern '^[a-zA-Z0-9_]+$'"
     ]
    }
   ],
   "source": [
    "form.data"
   ]
  },
  {
   "cell_type": "code",
   "execution_count": 172,
   "id": "c0dff7c0-ee17-4d51-828d-e0de09b1c6fe",
   "metadata": {
    "tags": []
   },
   "outputs": [
    {
     "name": "stdout",
     "output_type": "stream",
     "text": [
      "{'properties': {'ids': {'items': {'type': 'integer'}, 'maxItems': 10, 'minItems': 1, 'set': True, 'title': 'Ids', 'type': 'array'}}, 'required': ['ids'], 'title': 'Group', 'type': 'object'}\n"
     ]
    },
    {
     "data": {
      "application/vnd.jupyter.widget-view+json": {
       "model_id": "24b58af546884fc9ba1229793b686f2a",
       "version_major": 2,
       "version_minor": 0
      },
      "text/plain": [
       "VBox(children=(Accordion(children=(VBox(children=(VBox(children=(VBox(children=(IntText(value=0, layout=Layout…"
      ]
     },
     "metadata": {},
     "output_type": "display_data"
    }
   ],
   "source": [
    "from typing import List\n",
    "class Group(BaseModel):\n",
    "    ids: List[int] = Field(..., min_items = 1, max_items = 10, set = True)\n",
    "\n",
    "print(Group.model_json_schema())\n",
    "show(Group)"
   ]
  },
  {
   "cell_type": "code",
   "execution_count": 173,
   "id": "b3e1cea7-368a-4ae6-b49e-f082c0fd10d5",
   "metadata": {},
   "outputs": [
    {
     "name": "stdout",
     "output_type": "stream",
     "text": [
      "{'properties': {'name': {'title': 'Name', 'type': 'string'}, 'settings': {'additionalProperties': {'type': 'integer'}, 'min_properties': 1, 'title': 'Settings', 'type': 'object'}}, 'required': ['name', 'settings'], 'title': 'DictMinProperties', 'type': 'object'}\n"
     ]
    },
    {
     "data": {
      "application/vnd.jupyter.widget-view+json": {
       "model_id": "a762cbe9a70e40dfa1471d25705cbb6b",
       "version_major": 2,
       "version_minor": 0
      },
      "text/plain": [
       "VBox(children=(HBox(children=(Label(value='Name', layout=Layout(width='100%')), Text(value='', layout=Layout(w…"
      ]
     },
     "metadata": {},
     "output_type": "display_data"
    }
   ],
   "source": [
    "from pydantic import Field\n",
    "\n",
    "class DictMinProperties(BaseModel):\n",
    "    name: str\n",
    "    settings: dict[str, int] = Field(..., min_properties = 1)\n",
    "\n",
    "print(DictMinProperties.model_json_schema())\n",
    "show(DictMinProperties)"
   ]
  },
  {
   "cell_type": "markdown",
   "id": "006bc56e-9676-4945-91b5-b04059b6b578",
   "metadata": {},
   "source": [
    "## Custom validator supported in JSON schema"
   ]
  },
  {
   "cell_type": "code",
   "execution_count": 174,
   "id": "46993c19-1117-4880-b04a-7038d8277d24",
   "metadata": {},
   "outputs": [
    {
     "name": "stdout",
     "output_type": "stream",
     "text": [
      "{'properties': {'discount_type': {'title': 'Discount Type', 'type': 'string'}, 'amount': {'title': 'Amount', 'type': 'number'}, 'min_purchase': {'title': 'Min Purchase', 'type': 'number'}}, 'required': ['discount_type', 'amount', 'min_purchase'], 'title': 'CustomValidationFloat', 'type': 'object'}\n"
     ]
    }
   ],
   "source": [
    "\n",
    "class CustomValidationFloat(BaseModel):\n",
    "    discount_type: str\n",
    "    amount: float\n",
    "    min_purchase: float\n",
    "\n",
    "    @field_validator('min_purchase')\n",
    "    def validate_min_purchase(cls, v, values):\n",
    "        if v < 50:\n",
    "            raise ValueError('minimum purchase for discount must be atleast 50')\n",
    "        return v\n",
    "print(CustomValidationFloat.model_json_schema())"
   ]
  },
  {
   "cell_type": "markdown",
   "id": "7f0cc072-8a3e-4b21-8d26-fd60fb13882e",
   "metadata": {},
   "source": [
    "## Annotations"
   ]
  },
  {
   "cell_type": "code",
   "execution_count": 175,
   "id": "6389cc6f-dc21-4055-b5d0-bef8d6cd3fb6",
   "metadata": {
    "tags": []
   },
   "outputs": [
    {
     "name": "stdout",
     "output_type": "stream",
     "text": [
      "{'properties': {'name': {'description': 'some text', 'title': 'Product Name', 'type': 'string'}}, 'required': ['name'], 'title': 'StringWithAnnotations', 'type': 'object'}\n"
     ]
    },
    {
     "data": {
      "application/vnd.jupyter.widget-view+json": {
       "model_id": "b63fb7888c6d440ba75399e16266ca86",
       "version_major": 2,
       "version_minor": 0
      },
      "text/plain": [
       "VBox(children=(HBox(children=(Label(value='Product Name', layout=Layout(width='100%')), Text(value='', layout=…"
      ]
     },
     "metadata": {},
     "output_type": "display_data"
    }
   ],
   "source": [
    "class StringWithAnnotations(BaseModel):\n",
    "    name: str = Field(..., title='Product Name', description='some text')\n",
    "print(StringWithAnnotations.model_json_schema())\n",
    "show(StringWithAnnotations)"
   ]
  },
  {
   "cell_type": "markdown",
   "id": "b66214d5-73a8-4f13-a7ed-43f81bcdc0fc",
   "metadata": {},
   "source": [
    "## Fixed Array Size"
   ]
  },
  {
   "cell_type": "code",
   "execution_count": 176,
   "id": "d1c2ca9e-81dd-401d-9361-bd5918b80f53",
   "metadata": {},
   "outputs": [
    {
     "name": "stdout",
     "output_type": "stream",
     "text": [
      "{'properties': {'fixed_items': {'items': {'type': 'integer'}, 'maxItems': 3, 'minItems': 1, 'title': 'Fixed Items', 'type': 'array'}}, 'required': ['fixed_items'], 'title': 'FixedArraySize', 'type': 'object'}\n"
     ]
    },
    {
     "data": {
      "application/vnd.jupyter.widget-view+json": {
       "model_id": "7819633befa446599e5560cb86515b3d",
       "version_major": 2,
       "version_minor": 0
      },
      "text/plain": [
       "VBox(children=(Accordion(children=(VBox(children=(VBox(children=(VBox(children=(IntText(value=0, layout=Layout…"
      ]
     },
     "metadata": {},
     "output_type": "display_data"
    }
   ],
   "source": [
    "from pydantic import conlist\n",
    "\n",
    "class FixedArraySize(BaseModel):\n",
    "    fixed_items: conlist(int, min_length=1, max_length=3)\n",
    "\n",
    "print(FixedArraySize.model_json_schema())\n",
    "show(FixedArraySize)"
   ]
  },
  {
   "cell_type": "markdown",
   "id": "a2976c11-f14c-429b-a6e1-afc66c75c6ae",
   "metadata": {},
   "source": [
    "## Custom Validators / Complex Constraints"
   ]
  },
  {
   "cell_type": "code",
   "execution_count": 177,
   "id": "61423152-3946-4454-8177-6c8b0e8a2208",
   "metadata": {},
   "outputs": [
    {
     "name": "stdout",
     "output_type": "stream",
     "text": [
      "{'properties': {'username': {'title': 'Username', 'type': 'string'}, 'email': {'title': 'Email', 'type': 'string'}}, 'required': ['username', 'email'], 'title': 'CustomValidationModel', 'type': 'object'}\n"
     ]
    }
   ],
   "source": [
    "class CustomValidationModel(BaseModel):\n",
    "    username: str\n",
    "    email: str\n",
    "\n",
    "    @field_validator('email')\n",
    "    def validate_call(cls,v):\n",
    "        if not v.endswith('@example.com'):\n",
    "            raise ValueError('Wrong domain')\n",
    "        return v\n",
    "    \n",
    "\n",
    "print(CustomValidationModel.model_json_schema())"
   ]
  },
  {
   "cell_type": "markdown",
   "id": "1f645396-3dcc-4ba9-aed9-8f17f54f570c",
   "metadata": {},
   "source": [
    "# Dynamic fields"
   ]
  },
  {
   "cell_type": "code",
   "execution_count": 178,
   "id": "41bbd603-7d3c-4c8e-aa82-bf2b888d99ce",
   "metadata": {},
   "outputs": [
    {
     "ename": "NameError",
     "evalue": "name 'Event' is not defined",
     "output_type": "error",
     "traceback": [
      "\u001b[0;31m---------------------------------------------------------------------------\u001b[0m",
      "\u001b[0;31mNameError\u001b[0m                                 Traceback (most recent call last)",
      "Cell \u001b[0;32mIn[178], line 7\u001b[0m\n\u001b[1;32m      3\u001b[0m \u001b[38;5;28;01mclass\u001b[39;00m\u001b[38;5;250m \u001b[39m\u001b[38;5;21;01mDynamicFields\u001b[39;00m(BaseModel):\n\u001b[1;32m      4\u001b[0m     timestamp: datetime \u001b[38;5;241m=\u001b[39m Field(default_factory \u001b[38;5;241m=\u001b[39m datetime\u001b[38;5;241m.\u001b[39mutcnow)\n\u001b[0;32m----> 7\u001b[0m \u001b[38;5;28mprint\u001b[39m(\u001b[43mEvent\u001b[49m\u001b[38;5;241m.\u001b[39mmodel_json_schema())\n\u001b[1;32m      8\u001b[0m show(DynamicFields)\n",
      "\u001b[0;31mNameError\u001b[0m: name 'Event' is not defined"
     ]
    }
   ],
   "source": [
    "from datetime import datetime\n",
    "\n",
    "class DynamicFields(BaseModel):\n",
    "    timestamp: datetime = Field(default_factory = datetime.utcnow)\n",
    "\n",
    "\n",
    "print(Event.model_json_schema())\n",
    "show(DynamicFields)"
   ]
  },
  {
   "cell_type": "markdown",
   "id": "f8e0bbf3-a9c9-4185-8dda-21049c38af3f",
   "metadata": {},
   "source": [
    "## Aliases"
   ]
  },
  {
   "cell_type": "code",
   "execution_count": 179,
   "id": "0012e790-f590-40bd-827b-0f3e1b62a373",
   "metadata": {},
   "outputs": [
    {
     "name": "stdout",
     "output_type": "stream",
     "text": [
      "{'properties': {'id': {'title': 'Id', 'type': 'integer'}}, 'required': ['id'], 'title': 'IntAlias', 'type': 'object'}\n"
     ]
    },
    {
     "data": {
      "application/vnd.jupyter.widget-view+json": {
       "model_id": "5af78725898a4b13993459ff6432cd2b",
       "version_major": 2,
       "version_minor": 0
      },
      "text/plain": [
       "VBox(children=(HBox(children=(Label(value='Id', layout=Layout(width='100%')), IntText(value=0, layout=Layout(w…"
      ]
     },
     "metadata": {},
     "output_type": "display_data"
    }
   ],
   "source": [
    "class IntAlias(BaseModel):\n",
    "    user_id: int = Field(..., alias = 'id' )\n",
    "\n",
    "print(IntAlias.model_json_schema())\n",
    "show(IntAlias)"
   ]
  },
  {
   "cell_type": "code",
   "execution_count": 180,
   "id": "5d8fbeff-4f64-45ae-9ad6-8a822aa9a55a",
   "metadata": {},
   "outputs": [
    {
     "name": "stdout",
     "output_type": "stream",
     "text": [
      "{'properties': {'user_id': {'title': 'User Id', 'type': 'integer'}}, 'required': ['user_id'], 'title': 'IntField', 'type': 'object'}\n"
     ]
    },
    {
     "data": {
      "application/vnd.jupyter.widget-view+json": {
       "model_id": "7ffad9f8ee6b42dc9daa3720e24cbb1b",
       "version_major": 2,
       "version_minor": 0
      },
      "text/plain": [
       "VBox(children=(HBox(children=(Label(value='User Id', layout=Layout(width='100%')), IntText(value=0, layout=Lay…"
      ]
     },
     "metadata": {},
     "output_type": "display_data"
    }
   ],
   "source": [
    "class IntField(BaseModel):\n",
    "    user_id: int = Field(...)\n",
    "\n",
    "print(IntField.model_json_schema())\n",
    "show(IntField)"
   ]
  },
  {
   "cell_type": "markdown",
   "id": "e1d94b16-ec4a-4822-b2f0-ff801b1cda4f",
   "metadata": {},
   "source": [
    "## Private fields"
   ]
  },
  {
   "cell_type": "code",
   "execution_count": 181,
   "id": "d9d64c94-648f-4993-8709-006c60abfeb3",
   "metadata": {},
   "outputs": [
    {
     "name": "stdout",
     "output_type": "stream",
     "text": [
      "{'properties': {}, 'title': 'StringPrivateField', 'type': 'object'}\n"
     ]
    },
    {
     "data": {
      "application/vnd.jupyter.widget-view+json": {
       "model_id": "27ecda9334814230a989462f3bcd48f9",
       "version_major": 2,
       "version_minor": 0
      },
      "text/plain": [
       "VBox(layout=Layout(width='100%'))"
      ]
     },
     "metadata": {},
     "output_type": "display_data"
    }
   ],
   "source": [
    "from pydantic import PrivateAttr\n",
    "\n",
    "class StringPrivateField(BaseModel):\n",
    "    _password: str = PrivateAttr()\n",
    "    _private_password: str\n",
    "    def __init__(self, password : str):\n",
    "        self._password = password\n",
    "\n",
    "print(StringPrivateField.model_json_schema())\n",
    "show(StringPrivateField)"
   ]
  },
  {
   "cell_type": "markdown",
   "id": "e7809b3a-b931-4727-be33-776078be5b78",
   "metadata": {},
   "source": [
    "## Inheritance"
   ]
  },
  {
   "cell_type": "code",
   "execution_count": 182,
   "id": "df9e8c8a-15bf-4610-9d63-e05a7c7b0643",
   "metadata": {},
   "outputs": [
    {
     "name": "stdout",
     "output_type": "stream",
     "text": [
      "{'properties': {'name': {'title': 'Name', 'type': 'string'}, 'breed': {'title': 'Breed', 'type': 'string'}}, 'required': ['name', 'breed'], 'title': 'Dog', 'type': 'object'}\n"
     ]
    },
    {
     "data": {
      "application/vnd.jupyter.widget-view+json": {
       "model_id": "991b1a385b1a4178917712a73534d568",
       "version_major": 2,
       "version_minor": 0
      },
      "text/plain": [
       "VBox(children=(HBox(children=(Label(value='Breed', layout=Layout(width='100%')), Text(value='', layout=Layout(…"
      ]
     },
     "metadata": {},
     "output_type": "display_data"
    }
   ],
   "source": [
    "class Animal(BaseModel):\n",
    "    name: str\n",
    "\n",
    "class Dog(Animal):\n",
    "    breed: str\n",
    "\n",
    "\n",
    "print(Dog.model_json_schema())\n",
    "show(Dog)"
   ]
  },
  {
   "cell_type": "code",
   "execution_count": null,
   "id": "3693236c-dacb-4d98-8a2c-42cc2c4f11e2",
   "metadata": {},
   "outputs": [],
   "source": []
  },
  {
   "cell_type": "code",
   "execution_count": 183,
   "id": "2c903162-bcfd-4dbb-be76-441e5d982d2e",
   "metadata": {},
   "outputs": [
    {
     "name": "stdout",
     "output_type": "stream",
     "text": [
      "{'$defs': {'Category': {'properties': {'name': {'title': 'Name', 'type': 'string'}, 'subcategories': {'items': {'$ref': '#/$defs/Category'}, 'title': 'Subcategories', 'type': 'array'}}, 'required': ['name', 'subcategories'], 'title': 'Category', 'type': 'object'}}, '$ref': '#/$defs/Category'}\n"
     ]
    },
    {
     "ename": "AttributeError",
     "evalue": "'Form' object has no attribute '_construct_ref'",
     "output_type": "error",
     "traceback": [
      "\u001b[0;31m---------------------------------------------------------------------------\u001b[0m",
      "\u001b[0;31mAttributeError\u001b[0m                            Traceback (most recent call last)",
      "Cell \u001b[0;32mIn[183], line 7\u001b[0m\n\u001b[1;32m      5\u001b[0m     subcategories: List[\u001b[38;5;124m'\u001b[39m\u001b[38;5;124mCategory\u001b[39m\u001b[38;5;124m'\u001b[39m]\n\u001b[1;32m      6\u001b[0m \u001b[38;5;28mprint\u001b[39m(Category\u001b[38;5;241m.\u001b[39mmodel_json_schema())\n\u001b[0;32m----> 7\u001b[0m \u001b[43mshow\u001b[49m\u001b[43m(\u001b[49m\u001b[43mCategory\u001b[49m\u001b[43m)\u001b[49m\n",
      "Cell \u001b[0;32mIn[161], line 3\u001b[0m, in \u001b[0;36mshow\u001b[0;34m(model)\u001b[0m\n\u001b[1;32m      2\u001b[0m \u001b[38;5;28;01mdef\u001b[39;00m\u001b[38;5;250m \u001b[39m\u001b[38;5;21mshow\u001b[39m(model):\n\u001b[0;32m----> 3\u001b[0m     form \u001b[38;5;241m=\u001b[39m \u001b[43mForm\u001b[49m\u001b[43m(\u001b[49m\u001b[43mmodel\u001b[49m\u001b[38;5;241;43m.\u001b[39;49m\u001b[43mmodel_json_schema\u001b[49m\u001b[43m(\u001b[49m\u001b[43m)\u001b[49m\u001b[43m)\u001b[49m\n\u001b[1;32m      4\u001b[0m     form\u001b[38;5;241m.\u001b[39mshow()\n",
      "File \u001b[0;32m~/Projects/Pydantic_Ipywidgets/ipywidgets-jsonschema/ipywidgets_jsonschema/form.py:140\u001b[0m, in \u001b[0;36mForm.__init__\u001b[0;34m(self, schema, vertically_place_labels, use_sliders, preconstruct_array_items, sorter, date_time_fmt_func, date_time_parse_func, date_fmt_func, date_parse_func, time_fmt_func, time_parse_func, show_descriptions)\u001b[0m\n\u001b[1;32m    137\u001b[0m \u001b[38;5;28mself\u001b[39m\u001b[38;5;241m.\u001b[39m_observers \u001b[38;5;241m=\u001b[39m []\n\u001b[1;32m    139\u001b[0m \u001b[38;5;66;03m# Construct the widgets\u001b[39;00m\n\u001b[0;32m--> 140\u001b[0m \u001b[38;5;28mself\u001b[39m\u001b[38;5;241m.\u001b[39m_form_element \u001b[38;5;241m=\u001b[39m \u001b[38;5;28;43mself\u001b[39;49m\u001b[38;5;241;43m.\u001b[39;49m\u001b[43m_construct\u001b[49m\u001b[43m(\u001b[49m\u001b[43mschema\u001b[49m\u001b[43m,\u001b[49m\u001b[43m \u001b[49m\u001b[43mroot\u001b[49m\u001b[38;5;241;43m=\u001b[39;49m\u001b[38;5;28;43;01mTrue\u001b[39;49;00m\u001b[43m,\u001b[49m\u001b[43m \u001b[49m\u001b[43mlabel\u001b[49m\u001b[38;5;241;43m=\u001b[39;49m\u001b[38;5;28;43;01mNone\u001b[39;49;00m\u001b[43m)\u001b[49m\n",
      "File \u001b[0;32m~/Projects/Pydantic_Ipywidgets/ipywidgets-jsonschema/ipywidgets_jsonschema/form.py:222\u001b[0m, in \u001b[0;36mForm._construct\u001b[0;34m(self, schema, label, root)\u001b[0m\n\u001b[1;32m    220\u001b[0m \u001b[38;5;28;01mif\u001b[39;00m type_ \u001b[38;5;129;01mis\u001b[39;00m \u001b[38;5;28;01mNone\u001b[39;00m:\n\u001b[1;32m    221\u001b[0m      \u001b[38;5;28;01mif\u001b[39;00m \u001b[38;5;124m\"\u001b[39m\u001b[38;5;124m$ref\u001b[39m\u001b[38;5;124m\"\u001b[39m \u001b[38;5;129;01min\u001b[39;00m schema:\n\u001b[0;32m--> 222\u001b[0m           \u001b[38;5;28;01mreturn\u001b[39;00m \u001b[38;5;28;43mself\u001b[39;49m\u001b[38;5;241;43m.\u001b[39;49m\u001b[43m_construct_ref\u001b[49m(schema, label\u001b[38;5;241m=\u001b[39mlabel)\n\u001b[1;32m    223\u001b[0m      \u001b[38;5;28;01mraise\u001b[39;00m FormError(\u001b[38;5;124mf\u001b[39m\u001b[38;5;124m\"\u001b[39m\u001b[38;5;124mExpecting type information for non-enum properties, schema: \u001b[39m\u001b[38;5;132;01m{\u001b[39;00mschema\u001b[38;5;132;01m}\u001b[39;00m\u001b[38;5;124m\"\u001b[39m)\n\u001b[1;32m    224\u001b[0m \u001b[38;5;28;01mif\u001b[39;00m \u001b[38;5;129;01mnot\u001b[39;00m \u001b[38;5;28misinstance\u001b[39m(type_, \u001b[38;5;28mstr\u001b[39m):\n",
      "\u001b[0;31mAttributeError\u001b[0m: 'Form' object has no attribute '_construct_ref'"
     ]
    }
   ],
   "source": [
    "from typing import List\n",
    "\n",
    "class Category(BaseModel):\n",
    "    name: str\n",
    "    subcategories: List['Category']\n",
    "print(Category.model_json_schema())\n",
    "show(Category)"
   ]
  },
  {
   "cell_type": "code",
   "execution_count": 184,
   "id": "95033aca-2bf8-4d31-aef4-ffc9dddbe97a",
   "metadata": {},
   "outputs": [
    {
     "data": {
      "application/json": {
       "$defs": {
        "Category": {
         "properties": {
          "name": {
           "title": "Name",
           "type": "string"
          },
          "subcategories": {
           "items": {
            "$ref": "#/$defs/Category"
           },
           "title": "Subcategories",
           "type": "array"
          }
         },
         "required": [
          "name",
          "subcategories"
         ],
         "title": "Category",
         "type": "object"
        }
       },
       "$ref": "#/$defs/Category"
      },
      "text/plain": [
       "<__main__.JSONContainer at 0x11ab7d6d0>"
      ]
     },
     "execution_count": 184,
     "metadata": {},
     "output_type": "execute_result"
    }
   ],
   "source": [
    "JSONContainer(Category.model_json_schema())"
   ]
  },
  {
   "cell_type": "markdown",
   "id": "c9f97660-3ed7-4dcc-8f55-cb54e85b0469",
   "metadata": {},
   "source": [
    "## Literals"
   ]
  },
  {
   "cell_type": "code",
   "execution_count": 185,
   "id": "7dfcb9dd-82ce-4ee2-98a4-9b8fcb5ead92",
   "metadata": {},
   "outputs": [
    {
     "name": "stdout",
     "output_type": "stream",
     "text": [
      "{'properties': {'category': {'enum': ['clothing', 'food'], 'title': 'Category', 'type': 'string'}}, 'required': ['category'], 'title': 'LiteralModel', 'type': 'object'}\n"
     ]
    },
    {
     "data": {
      "application/vnd.jupyter.widget-view+json": {
       "model_id": "7ed4d9c245ff444284db59f16c098cb8",
       "version_major": 2,
       "version_minor": 0
      },
      "text/plain": [
       "VBox(children=(HBox(children=(Label(value='Category', layout=Layout(width='100%')), Dropdown(layout=Layout(wid…"
      ]
     },
     "metadata": {},
     "output_type": "display_data"
    }
   ],
   "source": [
    "from typing import Literal\n",
    "class LiteralModel(BaseModel):\n",
    "    category: Literal['clothing' , 'food' ]\n",
    "print(LiteralModel.model_json_schema())\n",
    "show(LiteralModel)"
   ]
  },
  {
   "cell_type": "code",
   "execution_count": 186,
   "id": "6d932b0e-e979-4e78-93c5-1ba38fe091fb",
   "metadata": {},
   "outputs": [
    {
     "name": "stdout",
     "output_type": "stream",
     "text": [
      "{'properties': {'quantity': {'minimum': 0, 'title': 'Quantity', 'type': 'integer'}}, 'required': ['quantity'], 'title': 'Item', 'type': 'object'}\n"
     ]
    },
    {
     "data": {
      "application/vnd.jupyter.widget-view+json": {
       "model_id": "a1b6bacade7f4e7a850d8594ea1323e8",
       "version_major": 2,
       "version_minor": 0
      },
      "text/plain": [
       "VBox(children=(HBox(children=(Label(value='Quantity', layout=Layout(width='100%')), IntText(value=0, layout=La…"
      ]
     },
     "metadata": {},
     "output_type": "display_data"
    }
   ],
   "source": [
    "from pydantic import conint\n",
    "\n",
    "class Item(BaseModel):\n",
    "    quantity: conint(ge=0)\n",
    "print(Item.model_json_schema())\n",
    "show(Item)"
   ]
  },
  {
   "cell_type": "markdown",
   "id": "10600837-3a5e-44dd-8471-f074d092e779",
   "metadata": {},
   "source": [
    "## Enums"
   ]
  },
  {
   "cell_type": "code",
   "execution_count": 187,
   "id": "7cc0ae8c-35df-43fa-815c-0a6928014015",
   "metadata": {},
   "outputs": [
    {
     "name": "stdout",
     "output_type": "stream",
     "text": [
      "{'$defs': {'Color': {'enum': ['red', 'blue', 'green'], 'title': 'Color', 'type': 'string'}}, 'properties': {'colors': {'items': {'$ref': '#/$defs/Color'}, 'title': 'Colors', 'type': 'array'}}, 'required': ['colors'], 'title': 'ListEnum', 'type': 'object'}\n"
     ]
    },
    {
     "data": {
      "application/vnd.jupyter.widget-view+json": {
       "model_id": "0affa86ba5e54a3480493ec1c0fc0ff7",
       "version_major": 2,
       "version_minor": 0
      },
      "text/plain": [
       "VBox(children=(Accordion(children=(VBox(children=(VBox(children=(Button(description='Add entry', icon='plus', …"
      ]
     },
     "metadata": {},
     "output_type": "display_data"
    }
   ],
   "source": [
    "from enum import Enum\n",
    "from typing import List\n",
    "\n",
    "class Color(Enum):\n",
    "    RED = 'red'\n",
    "    BLUE = 'blue'\n",
    "    GREEN = 'green'\n",
    "\n",
    "class ListEnum(BaseModel):\n",
    "    colors: List[Color]\n",
    "\n",
    "print(ListEnum.model_json_schema())\n",
    "show(ListEnum)"
   ]
  },
  {
   "cell_type": "markdown",
   "id": "544ea30c-ad71-4f05-b2e5-97efb5779f71",
   "metadata": {},
   "source": [
    "## Annotated"
   ]
  },
  {
   "cell_type": "code",
   "execution_count": 188,
   "id": "1a46a165-e4b8-445f-9ae8-00e0dddbee77",
   "metadata": {},
   "outputs": [
    {
     "name": "stdout",
     "output_type": "stream",
     "text": [
      "{'properties': {'username': {'title': 'Username', 'type': 'string'}}, 'required': ['username'], 'title': 'Modelannotated', 'type': 'object'}\n"
     ]
    },
    {
     "data": {
      "application/vnd.jupyter.widget-view+json": {
       "model_id": "654a48639cf84ce98929dd863faecb33",
       "version_major": 2,
       "version_minor": 0
      },
      "text/plain": [
       "VBox(children=(HBox(children=(Label(value='Username', layout=Layout(width='100%')), Text(value='', layout=Layo…"
      ]
     },
     "metadata": {},
     "output_type": "display_data"
    }
   ],
   "source": [
    "from typing import Annotated\n",
    "\n",
    "class Modelannotated(BaseModel):\n",
    "    username: Annotated[str, 'Must be 12 characters', 'Must be alphanumeric']\n",
    "\n",
    "print(Modelannotated.model_json_schema())\n",
    "show(Modelannotated)"
   ]
  },
  {
   "cell_type": "markdown",
   "id": "9b74ad0d-53a3-451d-b8e4-5de526a4a2b7",
   "metadata": {},
   "source": [
    "## Complex types"
   ]
  },
  {
   "cell_type": "code",
   "execution_count": 189,
   "id": "72253f55-fb81-4a92-ae8d-22ad781bb56e",
   "metadata": {},
   "outputs": [
    {
     "name": "stdout",
     "output_type": "stream",
     "text": [
      "{'properties': {'event_id': {'format': 'uuid', 'title': 'Event Id', 'type': 'string'}}, 'required': ['event_id'], 'title': 'UUIDModel', 'type': 'object'}\n"
     ]
    }
   ],
   "source": [
    "from uuid import UUID\n",
    "class UUIDModel(BaseModel):\n",
    "    event_id: UUID\n",
    "print(UUIDModel.model_json_schema())"
   ]
  },
  {
   "cell_type": "markdown",
   "id": "b5634d6c-0539-4861-8889-83ee97125e36",
   "metadata": {},
   "source": [
    "## Union"
   ]
  },
  {
   "cell_type": "code",
   "execution_count": 198,
   "id": "163a7ac6-f17c-4346-a520-fbd639252a91",
   "metadata": {},
   "outputs": [
    {
     "name": "stdout",
     "output_type": "stream",
     "text": [
      "demo\n",
      "{'properties': {'price': {'anyOf': [{'type': 'integer'}, {'type': 'number'}], 'title': 'Price'}}, 'required': ['price'], 'title': 'UnionIntFloat', 'type': 'object'}\n"
     ]
    },
    {
     "data": {
      "application/vnd.jupyter.widget-view+json": {
       "model_id": "849bf46760374590b6d67e57f1666e3b",
       "version_major": 2,
       "version_minor": 0
      },
      "text/plain": [
       "VBox(children=(VBox(children=(VBox(children=(Dropdown(options=('integer', 'number'), value='integer'), HBox(ch…"
      ]
     },
     "metadata": {},
     "output_type": "display_data"
    }
   ],
   "source": [
    "from typing import Union\n",
    "\n",
    "class Item(BaseModel):\n",
    "    price: Union[int, float]\n",
    "    \n",
    "class UnionIntFloat(BaseModel):\n",
    "    price: int | float\n",
    "    \n",
    "print(UnionIntFloat.model_json_schema())\n",
    "show(UnionIntFloat)"
   ]
  },
  {
   "cell_type": "code",
   "execution_count": 199,
   "id": "a5b28579-0caf-475a-90fd-4dc73b11f9b5",
   "metadata": {},
   "outputs": [
    {
     "name": "stdout",
     "output_type": "stream",
     "text": [
      "{'properties': {'settings': {'additionalProperties': {'type': 'integer'}, 'title': 'Settings', 'type': 'object'}}, 'required': ['settings'], 'title': 'DictUnion', 'type': 'object'}\n"
     ]
    },
    {
     "data": {
      "application/vnd.jupyter.widget-view+json": {
       "model_id": "5c6335c5a9804ce290e35215be9081fa",
       "version_major": 2,
       "version_minor": 0
      },
      "text/plain": [
       "VBox(layout=Layout(width='100%'))"
      ]
     },
     "metadata": {},
     "output_type": "display_data"
    }
   ],
   "source": [
    "from typing import Union, Dict\n",
    "class DictUnion(BaseModel):\n",
    "    settings: Dict[str, int]\n",
    "print(DictUnion.model_json_schema())\n",
    "show(DictUnion)"
   ]
  },
  {
   "cell_type": "code",
   "execution_count": 200,
   "id": "fb0194cc",
   "metadata": {},
   "outputs": [
    {
     "name": "stdout",
     "output_type": "stream",
     "text": [
      "{'properties': {'data': {'anyOf': [{'type': 'string'}, {'items': {'type': 'integer'}, 'type': 'array'}], 'title': 'Data'}}, 'required': ['data'], 'title': 'DictOrListModel', 'type': 'object'}\n"
     ]
    },
    {
     "data": {
      "application/vnd.jupyter.widget-view+json": {
       "model_id": "74efa5a22993411dabe7fb1afb33b9b5",
       "version_major": 2,
       "version_minor": 0
      },
      "text/plain": [
       "VBox(children=(VBox(children=(VBox(children=(Dropdown(options=('string', 'array'), value='string'), HBox(child…"
      ]
     },
     "metadata": {},
     "output_type": "display_data"
    }
   ],
   "source": [
    "from typing import Union, List, Dict\n",
    "\n",
    "class DictOrListModel(BaseModel):\n",
    "    data: Union[str, List[int]]\n",
    "print(DictOrListModel.model_json_schema())\n",
    "show(DictOrListModel)"
   ]
  },
  {
   "cell_type": "code",
   "execution_count": 201,
   "id": "f09dc8c0",
   "metadata": {},
   "outputs": [
    {
     "name": "stdout",
     "output_type": "stream",
     "text": [
      "{'$defs': {'UserA': {'properties': {'name': {'title': 'Name', 'type': 'string'}, 'age': {'title': 'Age', 'type': 'integer'}}, 'required': ['name', 'age'], 'title': 'UserA', 'type': 'object'}, 'UserB': {'properties': {'username': {'title': 'Username', 'type': 'string'}, 'email': {'title': 'Email', 'type': 'string'}}, 'required': ['username', 'email'], 'title': 'UserB', 'type': 'object'}}, 'properties': {'user': {'anyOf': [{'$ref': '#/$defs/UserA'}, {'$ref': '#/$defs/UserB'}], 'title': 'User'}}, 'required': ['user'], 'title': 'UnionModel', 'type': 'object'}\n"
     ]
    },
    {
     "data": {
      "application/vnd.jupyter.widget-view+json": {
       "model_id": "f988df0585644c08b77cef0ddf71a100",
       "version_major": 2,
       "version_minor": 0
      },
      "text/plain": [
       "VBox(children=(VBox(children=(VBox(children=(Dropdown(options=('UserA', 'UserB'), value='UserA'), Accordion(ch…"
      ]
     },
     "metadata": {},
     "output_type": "display_data"
    }
   ],
   "source": [
    "from typing import Union\n",
    "\n",
    "class UserA(BaseModel):\n",
    "    name: str\n",
    "    age: int\n",
    "\n",
    "class UserB(BaseModel):\n",
    "    username: str\n",
    "    email: str\n",
    "\n",
    "class UnionModel(BaseModel):\n",
    "    user: Union[UserA, UserB]\n",
    "\n",
    "print(UnionModel.model_json_schema())\n",
    "show(UnionModel)"
   ]
  },
  {
   "cell_type": "code",
   "execution_count": 202,
   "id": "7418c5bd-2e52-493e-9f2a-8d1c36368bec",
   "metadata": {},
   "outputs": [
    {
     "name": "stdout",
     "output_type": "stream",
     "text": [
      "{'properties': {'id': {'anyOf': [{'type': 'integer'}, {'type': 'string'}, {'format': 'uuid', 'type': 'string'}], 'title': 'Id'}, 'name': {'title': 'Name', 'type': 'string'}}, 'required': ['id', 'name'], 'title': 'User', 'type': 'object'}\n"
     ]
    },
    {
     "data": {
      "application/vnd.jupyter.widget-view+json": {
       "model_id": "d803f8ff0d274486a700e4f64d285d7f",
       "version_major": 2,
       "version_minor": 0
      },
      "text/plain": [
       "VBox(children=(VBox(children=(VBox(children=(Dropdown(options=('integer', 'string', 'string'), value='integer'…"
      ]
     },
     "metadata": {},
     "output_type": "display_data"
    },
    {
     "name": "stdout",
     "output_type": "stream",
     "text": [
      "id=123 name='John Doe'\n",
      "123\n",
      "id='1234' name='John Doe'\n",
      "1234\n",
      "id=UUID('cf57432e-809e-4353-adbd-9d5c0d733868') name='John Doe'\n",
      "cf57432e-809e-4353-adbd-9d5c0d733868\n",
      "275603287559914445491632874575877060712\n"
     ]
    }
   ],
   "source": [
    "from typing import Union\n",
    "from uuid import UUID\n",
    "\n",
    "from pydantic import BaseModel\n",
    "\n",
    "\n",
    "class User(BaseModel):\n",
    "    id: Union[int, str, UUID]\n",
    "    name: str\n",
    "\n",
    "print(User.model_json_schema())\n",
    "show(User)\n",
    "\n",
    "user_01 = User(id=123, name='John Doe')\n",
    "print(user_01)\n",
    "#> id=123 name='John Doe'\n",
    "print(user_01.id)\n",
    "#> 123\n",
    "user_02 = User(id='1234', name='John Doe')\n",
    "print(user_02)\n",
    "#> id='1234' name='John Doe'\n",
    "print(user_02.id)\n",
    "#> 1234\n",
    "user_03_uuid = UUID('cf57432e-809e-4353-adbd-9d5c0d733868')\n",
    "user_03 = User(id=user_03_uuid, name='John Doe')\n",
    "print(user_03)\n",
    "#> id=UUID('cf57432e-809e-4353-adbd-9d5c0d733868') name='John Doe'\n",
    "print(user_03.id)\n",
    "#> cf57432e-809e-4353-adbd-9d5c0d733868\n",
    "print(user_03_uuid.int)\n",
    "#> 275603287559914445491632874575877060712"
   ]
  },
  {
   "cell_type": "code",
   "execution_count": 203,
   "id": "ae14b160-cb5f-435f-be3b-6c19653f7d15",
   "metadata": {},
   "outputs": [
    {
     "name": "stdout",
     "output_type": "stream",
     "text": [
      "{'$defs': {'Cat': {'properties': {'pet_type': {'const': 'cat', 'title': 'Pet Type', 'type': 'string'}, 'meows': {'title': 'Meows', 'type': 'integer'}}, 'required': ['pet_type', 'meows'], 'title': 'Cat', 'type': 'object'}, 'Dog': {'properties': {'pet_type': {'const': 'dog', 'title': 'Pet Type', 'type': 'string'}, 'barks': {'title': 'Barks', 'type': 'number'}}, 'required': ['pet_type', 'barks'], 'title': 'Dog', 'type': 'object'}, 'Lizard': {'properties': {'pet_type': {'enum': ['reptile', 'lizard'], 'title': 'Pet Type', 'type': 'string'}, 'scales': {'title': 'Scales', 'type': 'boolean'}}, 'required': ['pet_type', 'scales'], 'title': 'Lizard', 'type': 'object'}}, 'properties': {'pet': {'discriminator': {'mapping': {'cat': '#/$defs/Cat', 'dog': '#/$defs/Dog', 'lizard': '#/$defs/Lizard', 'reptile': '#/$defs/Lizard'}, 'propertyName': 'pet_type'}, 'oneOf': [{'$ref': '#/$defs/Cat'}, {'$ref': '#/$defs/Dog'}, {'$ref': '#/$defs/Lizard'}], 'title': 'Pet'}, 'n': {'title': 'N', 'type': 'integer'}}, 'required': ['pet', 'n'], 'title': 'AnimalModel', 'type': 'object'}\n"
     ]
    },
    {
     "data": {
      "application/vnd.jupyter.widget-view+json": {
       "model_id": "75152e496dad409b812327ed79fcfed9",
       "version_major": 2,
       "version_minor": 0
      },
      "text/plain": [
       "VBox(children=(HBox(children=(Label(value='N', layout=Layout(width='100%')), IntText(value=0, layout=Layout(wi…"
      ]
     },
     "metadata": {},
     "output_type": "display_data"
    },
    {
     "name": "stdout",
     "output_type": "stream",
     "text": [
      "pet=Dog(pet_type='dog', barks=3.14) n=1\n",
      "1 validation error for AnimalModel\n",
      "pet.dog.barks\n",
      "  Field required [type=missing, input_value={'pet_type': 'dog'}, input_type=dict]\n",
      "    For further information visit https://errors.pydantic.dev/2.10/v/missing\n"
     ]
    }
   ],
   "source": [
    "from typing import Literal, Union\n",
    "\n",
    "from pydantic import BaseModel, Field, ValidationError\n",
    "\n",
    "\n",
    "class Cat(BaseModel):\n",
    "    pet_type: Literal['cat']\n",
    "    meows: int\n",
    "\n",
    "\n",
    "class Dog(BaseModel):\n",
    "    pet_type: Literal['dog']\n",
    "    barks: float\n",
    "\n",
    "\n",
    "class Lizard(BaseModel):\n",
    "    pet_type: Literal['reptile', 'lizard']\n",
    "    scales: bool\n",
    "\n",
    "\n",
    "class AnimalModel(BaseModel):\n",
    "    pet: Union[Cat, Dog, Lizard] = Field(discriminator='pet_type')\n",
    "    n: int\n",
    "\n",
    "print(AnimalModel.model_json_schema())\n",
    "show(AnimalModel)\n",
    "\n",
    "\n",
    "print(AnimalModel(pet={'pet_type': 'dog', 'barks': 3.14}, n=1))\n",
    "#> pet=Dog(pet_type='dog', barks=3.14) n=1\n",
    "try:\n",
    "    AnimalModel(pet={'pet_type': 'dog'}, n=1)\n",
    "except ValidationError as e:\n",
    "    print(e)\n",
    "    \"\"\"\n",
    "    1 validation error for AnimalModel\n",
    "    pet.dog.barks\n",
    "      Field required [type=missing, input_value={'pet_type': 'dog'}, input_type=dict]\n",
    "    \"\"\""
   ]
  },
  {
   "cell_type": "code",
   "execution_count": 204,
   "id": "d96ecc66-2a5d-463b-a0b9-52608bc470a9",
   "metadata": {},
   "outputs": [
    {
     "name": "stdout",
     "output_type": "stream",
     "text": [
      "{'$defs': {'BlackCat': {'properties': {'pet_type': {'const': 'cat', 'title': 'Pet Type', 'type': 'string'}, 'color': {'const': 'black', 'title': 'Color', 'type': 'string'}, 'black_name': {'title': 'Black Name', 'type': 'string'}}, 'required': ['pet_type', 'color', 'black_name'], 'title': 'BlackCat', 'type': 'object'}, 'Dog': {'properties': {'pet_type': {'const': 'dog', 'title': 'Pet Type', 'type': 'string'}, 'name': {'title': 'Name', 'type': 'string'}}, 'required': ['pet_type', 'name'], 'title': 'Dog', 'type': 'object'}, 'WhiteCat': {'properties': {'pet_type': {'const': 'cat', 'title': 'Pet Type', 'type': 'string'}, 'color': {'const': 'white', 'title': 'Color', 'type': 'string'}, 'white_name': {'title': 'White Name', 'type': 'string'}}, 'required': ['pet_type', 'color', 'white_name'], 'title': 'WhiteCat', 'type': 'object'}}, 'properties': {'pet': {'discriminator': {'mapping': {'cat': {'discriminator': {'mapping': {'black': '#/$defs/BlackCat', 'white': '#/$defs/WhiteCat'}, 'propertyName': 'color'}, 'oneOf': [{'$ref': '#/$defs/BlackCat'}, {'$ref': '#/$defs/WhiteCat'}]}, 'dog': '#/$defs/Dog'}, 'propertyName': 'pet_type'}, 'oneOf': [{'discriminator': {'mapping': {'black': '#/$defs/BlackCat', 'white': '#/$defs/WhiteCat'}, 'propertyName': 'color'}, 'oneOf': [{'$ref': '#/$defs/BlackCat'}, {'$ref': '#/$defs/WhiteCat'}]}, {'$ref': '#/$defs/Dog'}], 'title': 'Pet'}, 'n': {'title': 'N', 'type': 'integer'}}, 'required': ['pet', 'n'], 'title': 'Model', 'type': 'object'}\n"
     ]
    },
    {
     "data": {
      "application/vnd.jupyter.widget-view+json": {
       "model_id": "2886e266cc81483e97dd93b5fbf5eecb",
       "version_major": 2,
       "version_minor": 0
      },
      "text/plain": [
       "VBox(children=(HBox(children=(Label(value='N', layout=Layout(width='100%')), IntText(value=0, layout=Layout(wi…"
      ]
     },
     "metadata": {},
     "output_type": "display_data"
    },
    {
     "name": "stdout",
     "output_type": "stream",
     "text": [
      "pet=BlackCat(pet_type='cat', color='black', black_name='felix') n=1\n",
      "1 validation error for Model\n",
      "pet.cat\n",
      "  Input tag 'red' found using 'color' does not match any of the expected tags: 'black', 'white' [type=union_tag_invalid, input_value={'pet_type': 'cat', 'color': 'red'}, input_type=dict]\n",
      "    For further information visit https://errors.pydantic.dev/2.10/v/union_tag_invalid\n",
      "1 validation error for Model\n",
      "pet.cat.black.black_name\n",
      "  Field required [type=missing, input_value={'pet_type': 'cat', 'color': 'black'}, input_type=dict]\n",
      "    For further information visit https://errors.pydantic.dev/2.10/v/missing\n"
     ]
    }
   ],
   "source": [
    "from typing import Literal, Union\n",
    "\n",
    "from typing_extensions import Annotated\n",
    "\n",
    "from pydantic import BaseModel, Field, ValidationError\n",
    "\n",
    "\n",
    "class BlackCat(BaseModel):\n",
    "    pet_type: Literal['cat']\n",
    "    color: Literal['black']\n",
    "    black_name: str\n",
    "\n",
    "\n",
    "class WhiteCat(BaseModel):\n",
    "    pet_type: Literal['cat']\n",
    "    color: Literal['white']\n",
    "    white_name: str\n",
    "\n",
    "\n",
    "Cat = Annotated[Union[BlackCat, WhiteCat], Field(discriminator='color')]\n",
    "\n",
    "\n",
    "class Dog(BaseModel):\n",
    "    pet_type: Literal['dog']\n",
    "    name: str\n",
    "\n",
    "\n",
    "Pet = Annotated[Union[Cat, Dog], Field(discriminator='pet_type')]\n",
    "\n",
    "\n",
    "class Model(BaseModel):\n",
    "    pet: Pet\n",
    "    n: int\n",
    "\n",
    "print(Model.model_json_schema())\n",
    "show(Model)\n",
    "\n",
    "m = Model(pet={'pet_type': 'cat', 'color': 'black', 'black_name': 'felix'}, n=1)\n",
    "print(m)\n",
    "#> pet=BlackCat(pet_type='cat', color='black', black_name='felix') n=1\n",
    "try:\n",
    "    Model(pet={'pet_type': 'cat', 'color': 'red'}, n='1')\n",
    "except ValidationError as e:\n",
    "    print(e)\n",
    "    \"\"\"\n",
    "    1 validation error for Model\n",
    "    pet.cat\n",
    "      Input tag 'red' found using 'color' does not match any of the expected tags: 'black', 'white' [type=union_tag_invalid, input_value={'pet_type': 'cat', 'color': 'red'}, input_type=dict]\n",
    "    \"\"\"\n",
    "try:\n",
    "    Model(pet={'pet_type': 'cat', 'color': 'black'}, n='1')\n",
    "except ValidationError as e:\n",
    "    print(e)\n",
    "    \"\"\"\n",
    "    1 validation error for Model\n",
    "    pet.cat.black.black_name\n",
    "      Field required [type=missing, input_value={'pet_type': 'cat', 'color': 'black'}, input_type=dict]\n",
    "    \"\"\""
   ]
  },
  {
   "cell_type": "code",
   "execution_count": null,
   "id": "366c01a0-5faa-4a15-b0b3-f45edef08c26",
   "metadata": {},
   "outputs": [],
   "source": []
  },
  {
   "cell_type": "markdown",
   "id": "9b97d8d6-f963-4261-80b2-773ea1103d6c",
   "metadata": {},
   "source": [
    "## Callables"
   ]
  },
  {
   "cell_type": "code",
   "execution_count": 205,
   "id": "4d349694-2dc3-460b-a531-57c6b216474c",
   "metadata": {},
   "outputs": [
    {
     "name": "stdout",
     "output_type": "stream",
     "text": [
      "{'$defs': {'ApplePie': {'properties': {'time_to_cook': {'title': 'Time To Cook', 'type': 'integer'}, 'num_ingredients': {'title': 'Num Ingredients', 'type': 'integer'}, 'fruit': {'const': 'apple', 'default': 'apple', 'title': 'Fruit', 'type': 'string'}}, 'required': ['time_to_cook', 'num_ingredients'], 'title': 'ApplePie', 'type': 'object'}, 'PumpkinPie': {'properties': {'time_to_cook': {'title': 'Time To Cook', 'type': 'integer'}, 'num_ingredients': {'title': 'Num Ingredients', 'type': 'integer'}, 'filling': {'const': 'pumpkin', 'default': 'pumpkin', 'title': 'Filling', 'type': 'string'}}, 'required': ['time_to_cook', 'num_ingredients'], 'title': 'PumpkinPie', 'type': 'object'}}, 'properties': {'dessert': {'oneOf': [{'$ref': '#/$defs/ApplePie'}, {'$ref': '#/$defs/PumpkinPie'}], 'title': 'Dessert'}}, 'required': ['dessert'], 'title': 'ThanksgivingDinner', 'type': 'object'}\n"
     ]
    },
    {
     "data": {
      "application/vnd.jupyter.widget-view+json": {
       "model_id": "b7b5274adff14b44af3b822623a901ed",
       "version_major": 2,
       "version_minor": 0
      },
      "text/plain": [
       "VBox(children=(VBox(children=(VBox(children=(Dropdown(options=('ApplePie', 'PumpkinPie'), value='ApplePie'), A…"
      ]
     },
     "metadata": {},
     "output_type": "display_data"
    },
    {
     "name": "stdout",
     "output_type": "stream",
     "text": [
      "ThanksgivingDinner(dessert=ApplePie(time_to_cook=60, num_ingredients=8, fruit='apple'))\n",
      "ThanksgivingDinner(dessert=PumpkinPie(time_to_cook=40, num_ingredients=6, filling='pumpkin'))\n"
     ]
    },
    {
     "data": {
      "text/plain": [
       "\"\\nThanksgivingDinner(dessert=PumpkinPie(time_to_cook=40, num_ingredients=6, filling='pumpkin'))\\n\""
      ]
     },
     "execution_count": 205,
     "metadata": {},
     "output_type": "execute_result"
    }
   ],
   "source": [
    "from typing import Any, Literal, Union\n",
    "\n",
    "from typing_extensions import Annotated\n",
    "\n",
    "from pydantic import BaseModel, Discriminator, Tag\n",
    "\n",
    "\n",
    "class Pie(BaseModel):\n",
    "    time_to_cook: int\n",
    "    num_ingredients: int\n",
    "\n",
    "\n",
    "class ApplePie(Pie):\n",
    "    fruit: Literal['apple'] = 'apple'\n",
    "\n",
    "\n",
    "class PumpkinPie(Pie):\n",
    "    filling: Literal['pumpkin'] = 'pumpkin'\n",
    "\n",
    "\n",
    "def get_discriminator_value(v: Any) -> str:\n",
    "    if isinstance(v, dict):\n",
    "        return v.get('fruit', v.get('filling'))\n",
    "    return getattr(v, 'fruit', getattr(v, 'filling', None))\n",
    "\n",
    "\n",
    "class ThanksgivingDinner(BaseModel):\n",
    "    dessert: Annotated[\n",
    "        Union[\n",
    "            Annotated[ApplePie, Tag('apple')],\n",
    "            Annotated[PumpkinPie, Tag('pumpkin')],\n",
    "        ],\n",
    "        Discriminator(get_discriminator_value),\n",
    "    ]\n",
    "\n",
    "print(ThanksgivingDinner.model_json_schema())\n",
    "show(ThanksgivingDinner)\n",
    "\n",
    "\n",
    "apple_variation = ThanksgivingDinner.model_validate(\n",
    "    {'dessert': {'fruit': 'apple', 'time_to_cook': 60, 'num_ingredients': 8}}\n",
    ")\n",
    "print(repr(apple_variation))\n",
    "\"\"\"\n",
    "ThanksgivingDinner(dessert=ApplePie(time_to_cook=60, num_ingredients=8, fruit='apple'))\n",
    "\"\"\"\n",
    "\n",
    "pumpkin_variation = ThanksgivingDinner.model_validate(\n",
    "    {\n",
    "        'dessert': {\n",
    "            'filling': 'pumpkin',\n",
    "            'time_to_cook': 40,\n",
    "            'num_ingredients': 6,\n",
    "        }\n",
    "    }\n",
    ")\n",
    "print(repr(pumpkin_variation))\n",
    "\"\"\"\n",
    "ThanksgivingDinner(dessert=PumpkinPie(time_to_cook=40, num_ingredients=6, filling='pumpkin'))\n",
    "\"\"\""
   ]
  },
  {
   "cell_type": "code",
   "execution_count": 40,
   "id": "4b3c93ca-6616-44f5-afbd-57afc55d054a",
   "metadata": {},
   "outputs": [
    {
     "ename": "PydanticInvalidForJsonSchema",
     "evalue": "Cannot generate a JsonSchema for core_schema.CallableSchema\n\nFor further information visit https://errors.pydantic.dev/2.10/u/invalid-for-json-schema",
     "output_type": "error",
     "traceback": [
      "\u001b[0;31m---------------------------------------------------------------------------\u001b[0m",
      "\u001b[0;31mPydanticInvalidForJsonSchema\u001b[0m              Traceback (most recent call last)",
      "Cell \u001b[0;32mIn[40], line 5\u001b[0m\n\u001b[1;32m      2\u001b[0m \u001b[38;5;28;01mclass\u001b[39;00m\u001b[38;5;250m \u001b[39m\u001b[38;5;21;01mCallablesModel\u001b[39;00m(BaseModel):\n\u001b[1;32m      3\u001b[0m     process: Callable[[\u001b[38;5;28mint\u001b[39m],\u001b[38;5;28mint\u001b[39m]\n\u001b[0;32m----> 5\u001b[0m \u001b[38;5;28mprint\u001b[39m(\u001b[43mCallablesModel\u001b[49m\u001b[38;5;241;43m.\u001b[39;49m\u001b[43mmodel_json_schema\u001b[49m\u001b[43m(\u001b[49m\u001b[43m)\u001b[49m)\n",
      "File \u001b[0;32m/opt/anaconda3/envs/pydantic/lib/python3.13/site-packages/pydantic/main.py:512\u001b[0m, in \u001b[0;36mBaseModel.model_json_schema\u001b[0;34m(cls, by_alias, ref_template, schema_generator, mode)\u001b[0m\n\u001b[1;32m    492\u001b[0m \u001b[38;5;129m@classmethod\u001b[39m\n\u001b[1;32m    493\u001b[0m \u001b[38;5;28;01mdef\u001b[39;00m\u001b[38;5;250m \u001b[39m\u001b[38;5;21mmodel_json_schema\u001b[39m(\n\u001b[1;32m    494\u001b[0m     \u001b[38;5;28mcls\u001b[39m,\n\u001b[0;32m   (...)\u001b[0m\n\u001b[1;32m    498\u001b[0m     mode: JsonSchemaMode \u001b[38;5;241m=\u001b[39m \u001b[38;5;124m'\u001b[39m\u001b[38;5;124mvalidation\u001b[39m\u001b[38;5;124m'\u001b[39m,\n\u001b[1;32m    499\u001b[0m ) \u001b[38;5;241m-\u001b[39m\u001b[38;5;241m>\u001b[39m \u001b[38;5;28mdict\u001b[39m[\u001b[38;5;28mstr\u001b[39m, Any]:\n\u001b[1;32m    500\u001b[0m \u001b[38;5;250m    \u001b[39m\u001b[38;5;124;03m\"\"\"Generates a JSON schema for a model class.\u001b[39;00m\n\u001b[1;32m    501\u001b[0m \n\u001b[1;32m    502\u001b[0m \u001b[38;5;124;03m    Args:\u001b[39;00m\n\u001b[0;32m   (...)\u001b[0m\n\u001b[1;32m    510\u001b[0m \u001b[38;5;124;03m        The JSON schema for the given model class.\u001b[39;00m\n\u001b[1;32m    511\u001b[0m \u001b[38;5;124;03m    \"\"\"\u001b[39;00m\n\u001b[0;32m--> 512\u001b[0m     \u001b[38;5;28;01mreturn\u001b[39;00m \u001b[43mmodel_json_schema\u001b[49m\u001b[43m(\u001b[49m\n\u001b[1;32m    513\u001b[0m \u001b[43m        \u001b[49m\u001b[38;5;28;43mcls\u001b[39;49m\u001b[43m,\u001b[49m\u001b[43m \u001b[49m\u001b[43mby_alias\u001b[49m\u001b[38;5;241;43m=\u001b[39;49m\u001b[43mby_alias\u001b[49m\u001b[43m,\u001b[49m\u001b[43m \u001b[49m\u001b[43mref_template\u001b[49m\u001b[38;5;241;43m=\u001b[39;49m\u001b[43mref_template\u001b[49m\u001b[43m,\u001b[49m\u001b[43m \u001b[49m\u001b[43mschema_generator\u001b[49m\u001b[38;5;241;43m=\u001b[39;49m\u001b[43mschema_generator\u001b[49m\u001b[43m,\u001b[49m\u001b[43m \u001b[49m\u001b[43mmode\u001b[49m\u001b[38;5;241;43m=\u001b[39;49m\u001b[43mmode\u001b[49m\n\u001b[1;32m    514\u001b[0m \u001b[43m    \u001b[49m\u001b[43m)\u001b[49m\n",
      "File \u001b[0;32m/opt/anaconda3/envs/pydantic/lib/python3.13/site-packages/pydantic/json_schema.py:2368\u001b[0m, in \u001b[0;36mmodel_json_schema\u001b[0;34m(cls, by_alias, ref_template, schema_generator, mode)\u001b[0m\n\u001b[1;32m   2365\u001b[0m     \u001b[38;5;28;01mraise\u001b[39;00m \u001b[38;5;167;01mAttributeError\u001b[39;00m(\u001b[38;5;124m'\u001b[39m\u001b[38;5;124mmodel_json_schema() must be called on a subclass of BaseModel, not BaseModel itself.\u001b[39m\u001b[38;5;124m'\u001b[39m)\n\u001b[1;32m   2367\u001b[0m \u001b[38;5;28;01massert\u001b[39;00m \u001b[38;5;129;01mnot\u001b[39;00m \u001b[38;5;28misinstance\u001b[39m(\u001b[38;5;28mcls\u001b[39m\u001b[38;5;241m.\u001b[39m__pydantic_core_schema__, _mock_val_ser\u001b[38;5;241m.\u001b[39mMockCoreSchema), \u001b[38;5;124m'\u001b[39m\u001b[38;5;124mthis is a bug! please report it\u001b[39m\u001b[38;5;124m'\u001b[39m\n\u001b[0;32m-> 2368\u001b[0m \u001b[38;5;28;01mreturn\u001b[39;00m \u001b[43mschema_generator_instance\u001b[49m\u001b[38;5;241;43m.\u001b[39;49m\u001b[43mgenerate\u001b[49m\u001b[43m(\u001b[49m\u001b[38;5;28;43mcls\u001b[39;49m\u001b[38;5;241;43m.\u001b[39;49m\u001b[43m__pydantic_core_schema__\u001b[49m\u001b[43m,\u001b[49m\u001b[43m \u001b[49m\u001b[43mmode\u001b[49m\u001b[38;5;241;43m=\u001b[39;49m\u001b[43mmode\u001b[49m\u001b[43m)\u001b[49m\n",
      "File \u001b[0;32m/opt/anaconda3/envs/pydantic/lib/python3.13/site-packages/pydantic/json_schema.py:397\u001b[0m, in \u001b[0;36mGenerateJsonSchema.generate\u001b[0;34m(self, schema, mode)\u001b[0m\n\u001b[1;32m    390\u001b[0m \u001b[38;5;28;01mif\u001b[39;00m \u001b[38;5;28mself\u001b[39m\u001b[38;5;241m.\u001b[39m_used:\n\u001b[1;32m    391\u001b[0m     \u001b[38;5;28;01mraise\u001b[39;00m PydanticUserError(\n\u001b[1;32m    392\u001b[0m         \u001b[38;5;124m'\u001b[39m\u001b[38;5;124mThis JSON schema generator has already been used to generate a JSON schema. \u001b[39m\u001b[38;5;124m'\u001b[39m\n\u001b[1;32m    393\u001b[0m         \u001b[38;5;124mf\u001b[39m\u001b[38;5;124m'\u001b[39m\u001b[38;5;124mYou must create a new instance of \u001b[39m\u001b[38;5;132;01m{\u001b[39;00m\u001b[38;5;28mtype\u001b[39m(\u001b[38;5;28mself\u001b[39m)\u001b[38;5;241m.\u001b[39m\u001b[38;5;18m__name__\u001b[39m\u001b[38;5;132;01m}\u001b[39;00m\u001b[38;5;124m to generate a new JSON schema.\u001b[39m\u001b[38;5;124m'\u001b[39m,\n\u001b[1;32m    394\u001b[0m         code\u001b[38;5;241m=\u001b[39m\u001b[38;5;124m'\u001b[39m\u001b[38;5;124mjson-schema-already-used\u001b[39m\u001b[38;5;124m'\u001b[39m,\n\u001b[1;32m    395\u001b[0m     )\n\u001b[0;32m--> 397\u001b[0m json_schema: JsonSchemaValue \u001b[38;5;241m=\u001b[39m \u001b[38;5;28;43mself\u001b[39;49m\u001b[38;5;241;43m.\u001b[39;49m\u001b[43mgenerate_inner\u001b[49m\u001b[43m(\u001b[49m\u001b[43mschema\u001b[49m\u001b[43m)\u001b[49m\n\u001b[1;32m    398\u001b[0m json_ref_counts \u001b[38;5;241m=\u001b[39m \u001b[38;5;28mself\u001b[39m\u001b[38;5;241m.\u001b[39mget_json_ref_counts(json_schema)\n\u001b[1;32m    400\u001b[0m ref \u001b[38;5;241m=\u001b[39m cast(JsonRef, json_schema\u001b[38;5;241m.\u001b[39mget(\u001b[38;5;124m'\u001b[39m\u001b[38;5;124m$ref\u001b[39m\u001b[38;5;124m'\u001b[39m))\n",
      "File \u001b[0;32m/opt/anaconda3/envs/pydantic/lib/python3.13/site-packages/pydantic/json_schema.py:565\u001b[0m, in \u001b[0;36mGenerateJsonSchema.generate_inner\u001b[0;34m(self, schema)\u001b[0m\n\u001b[1;32m    561\u001b[0m         \u001b[38;5;28;01mreturn\u001b[39;00m json_schema\n\u001b[1;32m    563\u001b[0m     current_handler \u001b[38;5;241m=\u001b[39m _schema_generation_shared\u001b[38;5;241m.\u001b[39mGenerateJsonSchemaHandler(\u001b[38;5;28mself\u001b[39m, new_handler_func)\n\u001b[0;32m--> 565\u001b[0m json_schema \u001b[38;5;241m=\u001b[39m \u001b[43mcurrent_handler\u001b[49m\u001b[43m(\u001b[49m\u001b[43mschema\u001b[49m\u001b[43m)\u001b[49m\n\u001b[1;32m    566\u001b[0m \u001b[38;5;28;01mif\u001b[39;00m _core_utils\u001b[38;5;241m.\u001b[39mis_core_schema(schema):\n\u001b[1;32m    567\u001b[0m     json_schema \u001b[38;5;241m=\u001b[39m populate_defs(schema, json_schema)\n",
      "File \u001b[0;32m/opt/anaconda3/envs/pydantic/lib/python3.13/site-packages/pydantic/_internal/_schema_generation_shared.py:38\u001b[0m, in \u001b[0;36mGenerateJsonSchemaHandler.__call__\u001b[0;34m(self, core_schema)\u001b[0m\n\u001b[1;32m     37\u001b[0m \u001b[38;5;28;01mdef\u001b[39;00m\u001b[38;5;250m \u001b[39m\u001b[38;5;21m__call__\u001b[39m(\u001b[38;5;28mself\u001b[39m, core_schema: CoreSchemaOrField, \u001b[38;5;241m/\u001b[39m) \u001b[38;5;241m-\u001b[39m\u001b[38;5;241m>\u001b[39m JsonSchemaValue:\n\u001b[0;32m---> 38\u001b[0m     \u001b[38;5;28;01mreturn\u001b[39;00m \u001b[38;5;28;43mself\u001b[39;49m\u001b[38;5;241;43m.\u001b[39;49m\u001b[43mhandler\u001b[49m\u001b[43m(\u001b[49m\u001b[43mcore_schema\u001b[49m\u001b[43m)\u001b[49m\n",
      "File \u001b[0;32m/opt/anaconda3/envs/pydantic/lib/python3.13/site-packages/pydantic/json_schema.py:540\u001b[0m, in \u001b[0;36mGenerateJsonSchema.generate_inner.<locals>.new_handler_func\u001b[0;34m(schema_or_field, current_handler, js_modify_function)\u001b[0m\n\u001b[1;32m    535\u001b[0m \u001b[38;5;28;01mdef\u001b[39;00m\u001b[38;5;250m \u001b[39m\u001b[38;5;21mnew_handler_func\u001b[39m(\n\u001b[1;32m    536\u001b[0m     schema_or_field: CoreSchemaOrField,\n\u001b[1;32m    537\u001b[0m     current_handler: GetJsonSchemaHandler \u001b[38;5;241m=\u001b[39m current_handler,\n\u001b[1;32m    538\u001b[0m     js_modify_function: GetJsonSchemaFunction \u001b[38;5;241m=\u001b[39m js_modify_function,\n\u001b[1;32m    539\u001b[0m ) \u001b[38;5;241m-\u001b[39m\u001b[38;5;241m>\u001b[39m JsonSchemaValue:\n\u001b[0;32m--> 540\u001b[0m     json_schema \u001b[38;5;241m=\u001b[39m \u001b[43mjs_modify_function\u001b[49m\u001b[43m(\u001b[49m\u001b[43mschema_or_field\u001b[49m\u001b[43m,\u001b[49m\u001b[43m \u001b[49m\u001b[43mcurrent_handler\u001b[49m\u001b[43m)\u001b[49m\n\u001b[1;32m    541\u001b[0m     \u001b[38;5;28;01mif\u001b[39;00m _core_utils\u001b[38;5;241m.\u001b[39mis_core_schema(schema_or_field):\n\u001b[1;32m    542\u001b[0m         json_schema \u001b[38;5;241m=\u001b[39m populate_defs(schema_or_field, json_schema)\n",
      "File \u001b[0;32m/opt/anaconda3/envs/pydantic/lib/python3.13/site-packages/pydantic/main.py:728\u001b[0m, in \u001b[0;36mBaseModel.__get_pydantic_json_schema__\u001b[0;34m(cls, core_schema, handler)\u001b[0m\n\u001b[1;32m    704\u001b[0m \u001b[38;5;129m@classmethod\u001b[39m\n\u001b[1;32m    705\u001b[0m \u001b[38;5;28;01mdef\u001b[39;00m\u001b[38;5;250m \u001b[39m\u001b[38;5;21m__get_pydantic_json_schema__\u001b[39m(\n\u001b[1;32m    706\u001b[0m     \u001b[38;5;28mcls\u001b[39m,\n\u001b[0;32m   (...)\u001b[0m\n\u001b[1;32m    709\u001b[0m     \u001b[38;5;241m/\u001b[39m,\n\u001b[1;32m    710\u001b[0m ) \u001b[38;5;241m-\u001b[39m\u001b[38;5;241m>\u001b[39m JsonSchemaValue:\n\u001b[1;32m    711\u001b[0m \u001b[38;5;250m    \u001b[39m\u001b[38;5;124;03m\"\"\"Hook into generating the model's JSON schema.\u001b[39;00m\n\u001b[1;32m    712\u001b[0m \n\u001b[1;32m    713\u001b[0m \u001b[38;5;124;03m    Args:\u001b[39;00m\n\u001b[0;32m   (...)\u001b[0m\n\u001b[1;32m    726\u001b[0m \u001b[38;5;124;03m        A JSON schema, as a Python object.\u001b[39;00m\n\u001b[1;32m    727\u001b[0m \u001b[38;5;124;03m    \"\"\"\u001b[39;00m\n\u001b[0;32m--> 728\u001b[0m     \u001b[38;5;28;01mreturn\u001b[39;00m \u001b[43mhandler\u001b[49m\u001b[43m(\u001b[49m\u001b[43mcore_schema\u001b[49m\u001b[43m)\u001b[49m\n",
      "File \u001b[0;32m/opt/anaconda3/envs/pydantic/lib/python3.13/site-packages/pydantic/_internal/_schema_generation_shared.py:38\u001b[0m, in \u001b[0;36mGenerateJsonSchemaHandler.__call__\u001b[0;34m(self, core_schema)\u001b[0m\n\u001b[1;32m     37\u001b[0m \u001b[38;5;28;01mdef\u001b[39;00m\u001b[38;5;250m \u001b[39m\u001b[38;5;21m__call__\u001b[39m(\u001b[38;5;28mself\u001b[39m, core_schema: CoreSchemaOrField, \u001b[38;5;241m/\u001b[39m) \u001b[38;5;241m-\u001b[39m\u001b[38;5;241m>\u001b[39m JsonSchemaValue:\n\u001b[0;32m---> 38\u001b[0m     \u001b[38;5;28;01mreturn\u001b[39;00m \u001b[38;5;28;43mself\u001b[39;49m\u001b[38;5;241;43m.\u001b[39;49m\u001b[43mhandler\u001b[49m\u001b[43m(\u001b[49m\u001b[43mcore_schema\u001b[49m\u001b[43m)\u001b[49m\n",
      "File \u001b[0;32m/opt/anaconda3/envs/pydantic/lib/python3.13/site-packages/pydantic/json_schema.py:493\u001b[0m, in \u001b[0;36mGenerateJsonSchema.generate_inner.<locals>.handler_func\u001b[0;34m(schema_or_field)\u001b[0m\n\u001b[1;32m    491\u001b[0m \u001b[38;5;28;01mif\u001b[39;00m _core_utils\u001b[38;5;241m.\u001b[39mis_core_schema(schema_or_field) \u001b[38;5;129;01mor\u001b[39;00m _core_utils\u001b[38;5;241m.\u001b[39mis_core_schema_field(schema_or_field):\n\u001b[1;32m    492\u001b[0m     generate_for_schema_type \u001b[38;5;241m=\u001b[39m \u001b[38;5;28mself\u001b[39m\u001b[38;5;241m.\u001b[39m_schema_type_to_method[schema_or_field[\u001b[38;5;124m'\u001b[39m\u001b[38;5;124mtype\u001b[39m\u001b[38;5;124m'\u001b[39m]]\n\u001b[0;32m--> 493\u001b[0m     json_schema \u001b[38;5;241m=\u001b[39m \u001b[43mgenerate_for_schema_type\u001b[49m\u001b[43m(\u001b[49m\u001b[43mschema_or_field\u001b[49m\u001b[43m)\u001b[49m\n\u001b[1;32m    494\u001b[0m \u001b[38;5;28;01melse\u001b[39;00m:\n\u001b[1;32m    495\u001b[0m     \u001b[38;5;28;01mraise\u001b[39;00m \u001b[38;5;167;01mTypeError\u001b[39;00m(\u001b[38;5;124mf\u001b[39m\u001b[38;5;124m'\u001b[39m\u001b[38;5;124mUnexpected schema type: schema=\u001b[39m\u001b[38;5;132;01m{\u001b[39;00mschema_or_field\u001b[38;5;132;01m}\u001b[39;00m\u001b[38;5;124m'\u001b[39m)\n",
      "File \u001b[0;32m/opt/anaconda3/envs/pydantic/lib/python3.13/site-packages/pydantic/json_schema.py:1483\u001b[0m, in \u001b[0;36mGenerateJsonSchema.model_schema\u001b[0;34m(self, schema)\u001b[0m\n\u001b[1;32m   1480\u001b[0m config \u001b[38;5;241m=\u001b[39m \u001b[38;5;28mcls\u001b[39m\u001b[38;5;241m.\u001b[39mmodel_config\n\u001b[1;32m   1482\u001b[0m \u001b[38;5;28;01mwith\u001b[39;00m \u001b[38;5;28mself\u001b[39m\u001b[38;5;241m.\u001b[39m_config_wrapper_stack\u001b[38;5;241m.\u001b[39mpush(config):\n\u001b[0;32m-> 1483\u001b[0m     json_schema \u001b[38;5;241m=\u001b[39m \u001b[38;5;28;43mself\u001b[39;49m\u001b[38;5;241;43m.\u001b[39;49m\u001b[43mgenerate_inner\u001b[49m\u001b[43m(\u001b[49m\u001b[43mschema\u001b[49m\u001b[43m[\u001b[49m\u001b[38;5;124;43m'\u001b[39;49m\u001b[38;5;124;43mschema\u001b[39;49m\u001b[38;5;124;43m'\u001b[39;49m\u001b[43m]\u001b[49m\u001b[43m)\u001b[49m\n\u001b[1;32m   1485\u001b[0m \u001b[38;5;28mself\u001b[39m\u001b[38;5;241m.\u001b[39m_update_class_schema(json_schema, \u001b[38;5;28mcls\u001b[39m, config)\n\u001b[1;32m   1487\u001b[0m \u001b[38;5;28;01mreturn\u001b[39;00m json_schema\n",
      "File \u001b[0;32m/opt/anaconda3/envs/pydantic/lib/python3.13/site-packages/pydantic/json_schema.py:565\u001b[0m, in \u001b[0;36mGenerateJsonSchema.generate_inner\u001b[0;34m(self, schema)\u001b[0m\n\u001b[1;32m    561\u001b[0m         \u001b[38;5;28;01mreturn\u001b[39;00m json_schema\n\u001b[1;32m    563\u001b[0m     current_handler \u001b[38;5;241m=\u001b[39m _schema_generation_shared\u001b[38;5;241m.\u001b[39mGenerateJsonSchemaHandler(\u001b[38;5;28mself\u001b[39m, new_handler_func)\n\u001b[0;32m--> 565\u001b[0m json_schema \u001b[38;5;241m=\u001b[39m \u001b[43mcurrent_handler\u001b[49m\u001b[43m(\u001b[49m\u001b[43mschema\u001b[49m\u001b[43m)\u001b[49m\n\u001b[1;32m    566\u001b[0m \u001b[38;5;28;01mif\u001b[39;00m _core_utils\u001b[38;5;241m.\u001b[39mis_core_schema(schema):\n\u001b[1;32m    567\u001b[0m     json_schema \u001b[38;5;241m=\u001b[39m populate_defs(schema, json_schema)\n",
      "File \u001b[0;32m/opt/anaconda3/envs/pydantic/lib/python3.13/site-packages/pydantic/_internal/_schema_generation_shared.py:38\u001b[0m, in \u001b[0;36mGenerateJsonSchemaHandler.__call__\u001b[0;34m(self, core_schema)\u001b[0m\n\u001b[1;32m     37\u001b[0m \u001b[38;5;28;01mdef\u001b[39;00m\u001b[38;5;250m \u001b[39m\u001b[38;5;21m__call__\u001b[39m(\u001b[38;5;28mself\u001b[39m, core_schema: CoreSchemaOrField, \u001b[38;5;241m/\u001b[39m) \u001b[38;5;241m-\u001b[39m\u001b[38;5;241m>\u001b[39m JsonSchemaValue:\n\u001b[0;32m---> 38\u001b[0m     \u001b[38;5;28;01mreturn\u001b[39;00m \u001b[38;5;28;43mself\u001b[39;49m\u001b[38;5;241;43m.\u001b[39;49m\u001b[43mhandler\u001b[49m\u001b[43m(\u001b[49m\u001b[43mcore_schema\u001b[49m\u001b[43m)\u001b[49m\n",
      "File \u001b[0;32m/opt/anaconda3/envs/pydantic/lib/python3.13/site-packages/pydantic/json_schema.py:493\u001b[0m, in \u001b[0;36mGenerateJsonSchema.generate_inner.<locals>.handler_func\u001b[0;34m(schema_or_field)\u001b[0m\n\u001b[1;32m    491\u001b[0m \u001b[38;5;28;01mif\u001b[39;00m _core_utils\u001b[38;5;241m.\u001b[39mis_core_schema(schema_or_field) \u001b[38;5;129;01mor\u001b[39;00m _core_utils\u001b[38;5;241m.\u001b[39mis_core_schema_field(schema_or_field):\n\u001b[1;32m    492\u001b[0m     generate_for_schema_type \u001b[38;5;241m=\u001b[39m \u001b[38;5;28mself\u001b[39m\u001b[38;5;241m.\u001b[39m_schema_type_to_method[schema_or_field[\u001b[38;5;124m'\u001b[39m\u001b[38;5;124mtype\u001b[39m\u001b[38;5;124m'\u001b[39m]]\n\u001b[0;32m--> 493\u001b[0m     json_schema \u001b[38;5;241m=\u001b[39m \u001b[43mgenerate_for_schema_type\u001b[49m\u001b[43m(\u001b[49m\u001b[43mschema_or_field\u001b[49m\u001b[43m)\u001b[49m\n\u001b[1;32m    494\u001b[0m \u001b[38;5;28;01melse\u001b[39;00m:\n\u001b[1;32m    495\u001b[0m     \u001b[38;5;28;01mraise\u001b[39;00m \u001b[38;5;167;01mTypeError\u001b[39;00m(\u001b[38;5;124mf\u001b[39m\u001b[38;5;124m'\u001b[39m\u001b[38;5;124mUnexpected schema type: schema=\u001b[39m\u001b[38;5;132;01m{\u001b[39;00mschema_or_field\u001b[38;5;132;01m}\u001b[39;00m\u001b[38;5;124m'\u001b[39m)\n",
      "File \u001b[0;32m/opt/anaconda3/envs/pydantic/lib/python3.13/site-packages/pydantic/json_schema.py:1597\u001b[0m, in \u001b[0;36mGenerateJsonSchema.model_fields_schema\u001b[0;34m(self, schema)\u001b[0m\n\u001b[1;32m   1595\u001b[0m \u001b[38;5;28;01mif\u001b[39;00m \u001b[38;5;28mself\u001b[39m\u001b[38;5;241m.\u001b[39mmode \u001b[38;5;241m==\u001b[39m \u001b[38;5;124m'\u001b[39m\u001b[38;5;124mserialization\u001b[39m\u001b[38;5;124m'\u001b[39m:\n\u001b[1;32m   1596\u001b[0m     named_required_fields\u001b[38;5;241m.\u001b[39mextend(\u001b[38;5;28mself\u001b[39m\u001b[38;5;241m.\u001b[39m_name_required_computed_fields(schema\u001b[38;5;241m.\u001b[39mget(\u001b[38;5;124m'\u001b[39m\u001b[38;5;124mcomputed_fields\u001b[39m\u001b[38;5;124m'\u001b[39m, [])))\n\u001b[0;32m-> 1597\u001b[0m json_schema \u001b[38;5;241m=\u001b[39m \u001b[38;5;28;43mself\u001b[39;49m\u001b[38;5;241;43m.\u001b[39;49m\u001b[43m_named_required_fields_schema\u001b[49m\u001b[43m(\u001b[49m\u001b[43mnamed_required_fields\u001b[49m\u001b[43m)\u001b[49m\n\u001b[1;32m   1598\u001b[0m extras_schema \u001b[38;5;241m=\u001b[39m schema\u001b[38;5;241m.\u001b[39mget(\u001b[38;5;124m'\u001b[39m\u001b[38;5;124mextras_schema\u001b[39m\u001b[38;5;124m'\u001b[39m, \u001b[38;5;28;01mNone\u001b[39;00m)\n\u001b[1;32m   1599\u001b[0m \u001b[38;5;28;01mif\u001b[39;00m extras_schema \u001b[38;5;129;01mis\u001b[39;00m \u001b[38;5;129;01mnot\u001b[39;00m \u001b[38;5;28;01mNone\u001b[39;00m:\n",
      "File \u001b[0;32m/opt/anaconda3/envs/pydantic/lib/python3.13/site-packages/pydantic/json_schema.py:1387\u001b[0m, in \u001b[0;36mGenerateJsonSchema._named_required_fields_schema\u001b[0;34m(self, named_required_fields)\u001b[0m\n\u001b[1;32m   1385\u001b[0m     name \u001b[38;5;241m=\u001b[39m \u001b[38;5;28mself\u001b[39m\u001b[38;5;241m.\u001b[39m_get_alias_name(field, name)\n\u001b[1;32m   1386\u001b[0m \u001b[38;5;28;01mtry\u001b[39;00m:\n\u001b[0;32m-> 1387\u001b[0m     field_json_schema \u001b[38;5;241m=\u001b[39m \u001b[38;5;28;43mself\u001b[39;49m\u001b[38;5;241;43m.\u001b[39;49m\u001b[43mgenerate_inner\u001b[49m\u001b[43m(\u001b[49m\u001b[43mfield\u001b[49m\u001b[43m)\u001b[49m\u001b[38;5;241m.\u001b[39mcopy()\n\u001b[1;32m   1388\u001b[0m \u001b[38;5;28;01mexcept\u001b[39;00m PydanticOmit:\n\u001b[1;32m   1389\u001b[0m     \u001b[38;5;28;01mcontinue\u001b[39;00m\n",
      "File \u001b[0;32m/opt/anaconda3/envs/pydantic/lib/python3.13/site-packages/pydantic/json_schema.py:565\u001b[0m, in \u001b[0;36mGenerateJsonSchema.generate_inner\u001b[0;34m(self, schema)\u001b[0m\n\u001b[1;32m    561\u001b[0m         \u001b[38;5;28;01mreturn\u001b[39;00m json_schema\n\u001b[1;32m    563\u001b[0m     current_handler \u001b[38;5;241m=\u001b[39m _schema_generation_shared\u001b[38;5;241m.\u001b[39mGenerateJsonSchemaHandler(\u001b[38;5;28mself\u001b[39m, new_handler_func)\n\u001b[0;32m--> 565\u001b[0m json_schema \u001b[38;5;241m=\u001b[39m \u001b[43mcurrent_handler\u001b[49m\u001b[43m(\u001b[49m\u001b[43mschema\u001b[49m\u001b[43m)\u001b[49m\n\u001b[1;32m    566\u001b[0m \u001b[38;5;28;01mif\u001b[39;00m _core_utils\u001b[38;5;241m.\u001b[39mis_core_schema(schema):\n\u001b[1;32m    567\u001b[0m     json_schema \u001b[38;5;241m=\u001b[39m populate_defs(schema, json_schema)\n",
      "File \u001b[0;32m/opt/anaconda3/envs/pydantic/lib/python3.13/site-packages/pydantic/_internal/_schema_generation_shared.py:38\u001b[0m, in \u001b[0;36mGenerateJsonSchemaHandler.__call__\u001b[0;34m(self, core_schema)\u001b[0m\n\u001b[1;32m     37\u001b[0m \u001b[38;5;28;01mdef\u001b[39;00m\u001b[38;5;250m \u001b[39m\u001b[38;5;21m__call__\u001b[39m(\u001b[38;5;28mself\u001b[39m, core_schema: CoreSchemaOrField, \u001b[38;5;241m/\u001b[39m) \u001b[38;5;241m-\u001b[39m\u001b[38;5;241m>\u001b[39m JsonSchemaValue:\n\u001b[0;32m---> 38\u001b[0m     \u001b[38;5;28;01mreturn\u001b[39;00m \u001b[38;5;28;43mself\u001b[39;49m\u001b[38;5;241;43m.\u001b[39;49m\u001b[43mhandler\u001b[49m\u001b[43m(\u001b[49m\u001b[43mcore_schema\u001b[49m\u001b[43m)\u001b[49m\n",
      "File \u001b[0;32m/opt/anaconda3/envs/pydantic/lib/python3.13/site-packages/pydantic/json_schema.py:493\u001b[0m, in \u001b[0;36mGenerateJsonSchema.generate_inner.<locals>.handler_func\u001b[0;34m(schema_or_field)\u001b[0m\n\u001b[1;32m    491\u001b[0m \u001b[38;5;28;01mif\u001b[39;00m _core_utils\u001b[38;5;241m.\u001b[39mis_core_schema(schema_or_field) \u001b[38;5;129;01mor\u001b[39;00m _core_utils\u001b[38;5;241m.\u001b[39mis_core_schema_field(schema_or_field):\n\u001b[1;32m    492\u001b[0m     generate_for_schema_type \u001b[38;5;241m=\u001b[39m \u001b[38;5;28mself\u001b[39m\u001b[38;5;241m.\u001b[39m_schema_type_to_method[schema_or_field[\u001b[38;5;124m'\u001b[39m\u001b[38;5;124mtype\u001b[39m\u001b[38;5;124m'\u001b[39m]]\n\u001b[0;32m--> 493\u001b[0m     json_schema \u001b[38;5;241m=\u001b[39m \u001b[43mgenerate_for_schema_type\u001b[49m\u001b[43m(\u001b[49m\u001b[43mschema_or_field\u001b[49m\u001b[43m)\u001b[49m\n\u001b[1;32m    494\u001b[0m \u001b[38;5;28;01melse\u001b[39;00m:\n\u001b[1;32m    495\u001b[0m     \u001b[38;5;28;01mraise\u001b[39;00m \u001b[38;5;167;01mTypeError\u001b[39;00m(\u001b[38;5;124mf\u001b[39m\u001b[38;5;124m'\u001b[39m\u001b[38;5;124mUnexpected schema type: schema=\u001b[39m\u001b[38;5;132;01m{\u001b[39;00mschema_or_field\u001b[38;5;132;01m}\u001b[39;00m\u001b[38;5;124m'\u001b[39m)\n",
      "File \u001b[0;32m/opt/anaconda3/envs/pydantic/lib/python3.13/site-packages/pydantic/json_schema.py:1455\u001b[0m, in \u001b[0;36mGenerateJsonSchema.model_field_schema\u001b[0;34m(self, schema)\u001b[0m\n\u001b[1;32m   1446\u001b[0m \u001b[38;5;28;01mdef\u001b[39;00m\u001b[38;5;250m \u001b[39m\u001b[38;5;21mmodel_field_schema\u001b[39m(\u001b[38;5;28mself\u001b[39m, schema: core_schema\u001b[38;5;241m.\u001b[39mModelField) \u001b[38;5;241m-\u001b[39m\u001b[38;5;241m>\u001b[39m JsonSchemaValue:\n\u001b[1;32m   1447\u001b[0m \u001b[38;5;250m    \u001b[39m\u001b[38;5;124;03m\"\"\"Generates a JSON schema that matches a schema that defines a model field.\u001b[39;00m\n\u001b[1;32m   1448\u001b[0m \n\u001b[1;32m   1449\u001b[0m \u001b[38;5;124;03m    Args:\u001b[39;00m\n\u001b[0;32m   (...)\u001b[0m\n\u001b[1;32m   1453\u001b[0m \u001b[38;5;124;03m        The generated JSON schema.\u001b[39;00m\n\u001b[1;32m   1454\u001b[0m \u001b[38;5;124;03m    \"\"\"\u001b[39;00m\n\u001b[0;32m-> 1455\u001b[0m     \u001b[38;5;28;01mreturn\u001b[39;00m \u001b[38;5;28;43mself\u001b[39;49m\u001b[38;5;241;43m.\u001b[39;49m\u001b[43mgenerate_inner\u001b[49m\u001b[43m(\u001b[49m\u001b[43mschema\u001b[49m\u001b[43m[\u001b[49m\u001b[38;5;124;43m'\u001b[39;49m\u001b[38;5;124;43mschema\u001b[39;49m\u001b[38;5;124;43m'\u001b[39;49m\u001b[43m]\u001b[49m\u001b[43m)\u001b[49m\n",
      "File \u001b[0;32m/opt/anaconda3/envs/pydantic/lib/python3.13/site-packages/pydantic/json_schema.py:565\u001b[0m, in \u001b[0;36mGenerateJsonSchema.generate_inner\u001b[0;34m(self, schema)\u001b[0m\n\u001b[1;32m    561\u001b[0m         \u001b[38;5;28;01mreturn\u001b[39;00m json_schema\n\u001b[1;32m    563\u001b[0m     current_handler \u001b[38;5;241m=\u001b[39m _schema_generation_shared\u001b[38;5;241m.\u001b[39mGenerateJsonSchemaHandler(\u001b[38;5;28mself\u001b[39m, new_handler_func)\n\u001b[0;32m--> 565\u001b[0m json_schema \u001b[38;5;241m=\u001b[39m \u001b[43mcurrent_handler\u001b[49m\u001b[43m(\u001b[49m\u001b[43mschema\u001b[49m\u001b[43m)\u001b[49m\n\u001b[1;32m    566\u001b[0m \u001b[38;5;28;01mif\u001b[39;00m _core_utils\u001b[38;5;241m.\u001b[39mis_core_schema(schema):\n\u001b[1;32m    567\u001b[0m     json_schema \u001b[38;5;241m=\u001b[39m populate_defs(schema, json_schema)\n",
      "File \u001b[0;32m/opt/anaconda3/envs/pydantic/lib/python3.13/site-packages/pydantic/_internal/_schema_generation_shared.py:38\u001b[0m, in \u001b[0;36mGenerateJsonSchemaHandler.__call__\u001b[0;34m(self, core_schema)\u001b[0m\n\u001b[1;32m     37\u001b[0m \u001b[38;5;28;01mdef\u001b[39;00m\u001b[38;5;250m \u001b[39m\u001b[38;5;21m__call__\u001b[39m(\u001b[38;5;28mself\u001b[39m, core_schema: CoreSchemaOrField, \u001b[38;5;241m/\u001b[39m) \u001b[38;5;241m-\u001b[39m\u001b[38;5;241m>\u001b[39m JsonSchemaValue:\n\u001b[0;32m---> 38\u001b[0m     \u001b[38;5;28;01mreturn\u001b[39;00m \u001b[38;5;28;43mself\u001b[39;49m\u001b[38;5;241;43m.\u001b[39;49m\u001b[43mhandler\u001b[49m\u001b[43m(\u001b[49m\u001b[43mcore_schema\u001b[49m\u001b[43m)\u001b[49m\n",
      "File \u001b[0;32m/opt/anaconda3/envs/pydantic/lib/python3.13/site-packages/pydantic/json_schema.py:493\u001b[0m, in \u001b[0;36mGenerateJsonSchema.generate_inner.<locals>.handler_func\u001b[0;34m(schema_or_field)\u001b[0m\n\u001b[1;32m    491\u001b[0m \u001b[38;5;28;01mif\u001b[39;00m _core_utils\u001b[38;5;241m.\u001b[39mis_core_schema(schema_or_field) \u001b[38;5;129;01mor\u001b[39;00m _core_utils\u001b[38;5;241m.\u001b[39mis_core_schema_field(schema_or_field):\n\u001b[1;32m    492\u001b[0m     generate_for_schema_type \u001b[38;5;241m=\u001b[39m \u001b[38;5;28mself\u001b[39m\u001b[38;5;241m.\u001b[39m_schema_type_to_method[schema_or_field[\u001b[38;5;124m'\u001b[39m\u001b[38;5;124mtype\u001b[39m\u001b[38;5;124m'\u001b[39m]]\n\u001b[0;32m--> 493\u001b[0m     json_schema \u001b[38;5;241m=\u001b[39m \u001b[43mgenerate_for_schema_type\u001b[49m\u001b[43m(\u001b[49m\u001b[43mschema_or_field\u001b[49m\u001b[43m)\u001b[49m\n\u001b[1;32m    494\u001b[0m \u001b[38;5;28;01melse\u001b[39;00m:\n\u001b[1;32m    495\u001b[0m     \u001b[38;5;28;01mraise\u001b[39;00m \u001b[38;5;167;01mTypeError\u001b[39;00m(\u001b[38;5;124mf\u001b[39m\u001b[38;5;124m'\u001b[39m\u001b[38;5;124mUnexpected schema type: schema=\u001b[39m\u001b[38;5;132;01m{\u001b[39;00mschema_or_field\u001b[38;5;132;01m}\u001b[39;00m\u001b[38;5;124m'\u001b[39m)\n",
      "File \u001b[0;32m/opt/anaconda3/envs/pydantic/lib/python3.13/site-packages/pydantic/json_schema.py:886\u001b[0m, in \u001b[0;36mGenerateJsonSchema.callable_schema\u001b[0;34m(self, schema)\u001b[0m\n\u001b[1;32m    875\u001b[0m \u001b[38;5;28;01mdef\u001b[39;00m\u001b[38;5;250m \u001b[39m\u001b[38;5;21mcallable_schema\u001b[39m(\u001b[38;5;28mself\u001b[39m, schema: core_schema\u001b[38;5;241m.\u001b[39mCallableSchema) \u001b[38;5;241m-\u001b[39m\u001b[38;5;241m>\u001b[39m JsonSchemaValue:\n\u001b[1;32m    876\u001b[0m \u001b[38;5;250m    \u001b[39m\u001b[38;5;124;03m\"\"\"Generates a JSON schema that matches a callable value.\u001b[39;00m\n\u001b[1;32m    877\u001b[0m \n\u001b[1;32m    878\u001b[0m \u001b[38;5;124;03m    Unless overridden in a subclass, this raises an error.\u001b[39;00m\n\u001b[0;32m   (...)\u001b[0m\n\u001b[1;32m    884\u001b[0m \u001b[38;5;124;03m        The generated JSON schema.\u001b[39;00m\n\u001b[1;32m    885\u001b[0m \u001b[38;5;124;03m    \"\"\"\u001b[39;00m\n\u001b[0;32m--> 886\u001b[0m     \u001b[38;5;28;01mreturn\u001b[39;00m \u001b[38;5;28;43mself\u001b[39;49m\u001b[38;5;241;43m.\u001b[39;49m\u001b[43mhandle_invalid_for_json_schema\u001b[49m\u001b[43m(\u001b[49m\u001b[43mschema\u001b[49m\u001b[43m,\u001b[49m\u001b[43m \u001b[49m\u001b[38;5;124;43m'\u001b[39;49m\u001b[38;5;124;43mcore_schema.CallableSchema\u001b[39;49m\u001b[38;5;124;43m'\u001b[39;49m\u001b[43m)\u001b[49m\n",
      "File \u001b[0;32m/opt/anaconda3/envs/pydantic/lib/python3.13/site-packages/pydantic/json_schema.py:2273\u001b[0m, in \u001b[0;36mGenerateJsonSchema.handle_invalid_for_json_schema\u001b[0;34m(self, schema, error_info)\u001b[0m\n\u001b[1;32m   2272\u001b[0m \u001b[38;5;28;01mdef\u001b[39;00m\u001b[38;5;250m \u001b[39m\u001b[38;5;21mhandle_invalid_for_json_schema\u001b[39m(\u001b[38;5;28mself\u001b[39m, schema: CoreSchemaOrField, error_info: \u001b[38;5;28mstr\u001b[39m) \u001b[38;5;241m-\u001b[39m\u001b[38;5;241m>\u001b[39m JsonSchemaValue:\n\u001b[0;32m-> 2273\u001b[0m     \u001b[38;5;28;01mraise\u001b[39;00m PydanticInvalidForJsonSchema(\u001b[38;5;124mf\u001b[39m\u001b[38;5;124m'\u001b[39m\u001b[38;5;124mCannot generate a JsonSchema for \u001b[39m\u001b[38;5;132;01m{\u001b[39;00merror_info\u001b[38;5;132;01m}\u001b[39;00m\u001b[38;5;124m'\u001b[39m)\n",
      "\u001b[0;31mPydanticInvalidForJsonSchema\u001b[0m: Cannot generate a JsonSchema for core_schema.CallableSchema\n\nFor further information visit https://errors.pydantic.dev/2.10/u/invalid-for-json-schema"
     ]
    }
   ],
   "source": [
    "from typing import Callable\n",
    "class CallablesModel(BaseModel):\n",
    "    process: Callable[[int],int]\n",
    "\n",
    "print(CallablesModel.model_json_schema())"
   ]
  },
  {
   "cell_type": "code",
   "execution_count": null,
   "id": "cfd547fa-dd06-42a3-909d-ab1ec3b4987b",
   "metadata": {},
   "outputs": [],
   "source": []
  },
  {
   "cell_type": "code",
   "execution_count": 41,
   "id": "bc23cd01-d6a9-471a-ac4f-9ef28fbadf31",
   "metadata": {},
   "outputs": [],
   "source": [
    "class BasicTypes(BaseModel):\n",
    "    string_field: str\n",
    "    int_field: int\n",
    "    float_field: float\n",
    "    bool_field: bool\n",
    "    none_field: None"
   ]
  },
  {
   "cell_type": "code",
   "execution_count": 42,
   "id": "7dad939b-9b12-4bd1-858f-4ad3f0734daf",
   "metadata": {},
   "outputs": [],
   "source": [
    "## Recursion"
   ]
  },
  {
   "cell_type": "code",
   "execution_count": 43,
   "id": "ff6ea56b-c57a-40cb-bffb-d16793ffdfa8",
   "metadata": {},
   "outputs": [],
   "source": [
    "\n",
    "class RecursiveModel(BaseModel):\n",
    "    value: str\n",
    "    children: List['RecursiveModel'] = []"
   ]
  },
  {
   "cell_type": "code",
   "execution_count": 44,
   "id": "f41786a0-1650-4f09-8e8d-6e9018e9204e",
   "metadata": {},
   "outputs": [],
   "source": [
    "from pydantic import SecretStr\n",
    "\n",
    "class StringValidations(BaseModel):\n",
    "    min_length: str = Field(min_length=3)\n",
    "    max_length: str = Field(max_length=10)\n",
    "    pattern: str = Field(pattern=r\"^[a-zA-Z0-9]+$\")\n",
    "    password: SecretStr"
   ]
  },
  {
   "cell_type": "code",
   "execution_count": 45,
   "id": "49c1e94f-f63e-47ae-ace6-2782163e72b5",
   "metadata": {},
   "outputs": [],
   "source": [
    "from pydantic import PositiveInt, NegativeInt, conint, PositiveFloat, confloat\n",
    "\n",
    "\n",
    "class NumericValidations(BaseModel):\n",
    "    positive_int: PositiveInt\n",
    "    negative_int: NegativeInt\n",
    "    range_int: conint(ge=0, le=100)\n",
    "    positive_float: PositiveFloat\n",
    "    range_float: confloat(ge=0.0, le=1.0)"
   ]
  },
  {
   "cell_type": "code",
   "execution_count": 46,
   "id": "17f0b527-a111-49b8-9b92-8c09a788f8c9",
   "metadata": {},
   "outputs": [],
   "source": [
    "## Enum"
   ]
  },
  {
   "cell_type": "code",
   "execution_count": 156,
   "id": "bcc6ecb6-8f5e-4e2e-b281-93d0fcc7fe8f",
   "metadata": {},
   "outputs": [
    {
     "ename": "FormError",
     "evalue": "Expecting type information for non-enum properties",
     "output_type": "error",
     "traceback": [
      "\u001b[0;31m---------------------------------------------------------------------------\u001b[0m",
      "\u001b[0;31mFormError\u001b[0m                                 Traceback (most recent call last)",
      "Cell \u001b[0;32mIn[156], line 11\u001b[0m\n\u001b[1;32m      8\u001b[0m     status: Literal[\u001b[38;5;124m\"\u001b[39m\u001b[38;5;124mactive\u001b[39m\u001b[38;5;124m\"\u001b[39m, \u001b[38;5;124m\"\u001b[39m\u001b[38;5;124minactive\u001b[39m\u001b[38;5;124m\"\u001b[39m, \u001b[38;5;124m\"\u001b[39m\u001b[38;5;124mpending\u001b[39m\u001b[38;5;124m\"\u001b[39m]\n\u001b[1;32m      9\u001b[0m     level: \u001b[38;5;28mint\u001b[39m \u001b[38;5;241m=\u001b[39m Field(ge\u001b[38;5;241m=\u001b[39m\u001b[38;5;241m1\u001b[39m, le\u001b[38;5;241m=\u001b[39m\u001b[38;5;241m5\u001b[39m)\n\u001b[0;32m---> 11\u001b[0m \u001b[43mshow\u001b[49m\u001b[43m(\u001b[49m\u001b[43mEnumModel\u001b[49m\u001b[43m)\u001b[49m\n",
      "Cell \u001b[0;32mIn[117], line 3\u001b[0m, in \u001b[0;36mshow\u001b[0;34m(model)\u001b[0m\n\u001b[1;32m      2\u001b[0m \u001b[38;5;28;01mdef\u001b[39;00m\u001b[38;5;250m \u001b[39m\u001b[38;5;21mshow\u001b[39m(model):\n\u001b[0;32m----> 3\u001b[0m     form \u001b[38;5;241m=\u001b[39m \u001b[43mForm\u001b[49m\u001b[43m(\u001b[49m\u001b[43mmodel\u001b[49m\u001b[38;5;241;43m.\u001b[39;49m\u001b[43mmodel_json_schema\u001b[49m\u001b[43m(\u001b[49m\u001b[43m)\u001b[49m\u001b[43m)\u001b[49m\n\u001b[1;32m      4\u001b[0m     form\u001b[38;5;241m.\u001b[39mshow()\n",
      "File \u001b[0;32m~/Projects/Pydantic_Ipywidgets/ipywidgets-jsonschema/ipywidgets_jsonschema/form.py:140\u001b[0m, in \u001b[0;36mForm.__init__\u001b[0;34m(self, schema, vertically_place_labels, use_sliders, preconstruct_array_items, sorter, date_time_fmt_func, date_time_parse_func, date_fmt_func, date_parse_func, time_fmt_func, time_parse_func, show_descriptions)\u001b[0m\n\u001b[1;32m    137\u001b[0m \u001b[38;5;28mself\u001b[39m\u001b[38;5;241m.\u001b[39m_observers \u001b[38;5;241m=\u001b[39m []\n\u001b[1;32m    139\u001b[0m \u001b[38;5;66;03m# Construct the widgets\u001b[39;00m\n\u001b[0;32m--> 140\u001b[0m \u001b[38;5;28mself\u001b[39m\u001b[38;5;241m.\u001b[39m_form_element \u001b[38;5;241m=\u001b[39m \u001b[38;5;28;43mself\u001b[39;49m\u001b[38;5;241;43m.\u001b[39;49m\u001b[43m_construct\u001b[49m\u001b[43m(\u001b[49m\u001b[43mschema\u001b[49m\u001b[43m,\u001b[49m\u001b[43m \u001b[49m\u001b[43mroot\u001b[49m\u001b[38;5;241;43m=\u001b[39;49m\u001b[38;5;28;43;01mTrue\u001b[39;49;00m\u001b[43m,\u001b[49m\u001b[43m \u001b[49m\u001b[43mlabel\u001b[49m\u001b[38;5;241;43m=\u001b[39;49m\u001b[38;5;28;43;01mNone\u001b[39;49;00m\u001b[43m)\u001b[49m\n",
      "File \u001b[0;32m~/Projects/Pydantic_Ipywidgets/ipywidgets-jsonschema/ipywidgets_jsonschema/form.py:233\u001b[0m, in \u001b[0;36mForm._construct\u001b[0;34m(self, schema, label, root)\u001b[0m\n\u001b[1;32m    228\u001b[0m     \u001b[38;5;28;01mif\u001b[39;00m (IS_VERSION_8 \u001b[38;5;129;01mand\u001b[39;00m format_ \u001b[38;5;129;01min\u001b[39;00m SUPPORTED_FORMATS_VERSION_8) \u001b[38;5;129;01mor\u001b[39;00m (\n\u001b[1;32m    229\u001b[0m         \u001b[38;5;129;01mnot\u001b[39;00m IS_VERSION_8 \u001b[38;5;129;01mand\u001b[39;00m format_ \u001b[38;5;129;01min\u001b[39;00m SUPPORTED_FORMATS_VERSION_7\n\u001b[1;32m    230\u001b[0m     ):\n\u001b[1;32m    231\u001b[0m         type_ \u001b[38;5;241m=\u001b[39m format_\u001b[38;5;241m.\u001b[39mreplace(\u001b[38;5;124m\"\u001b[39m\u001b[38;5;124m-\u001b[39m\u001b[38;5;124m\"\u001b[39m, \u001b[38;5;124m\"\u001b[39m\u001b[38;5;124m_\u001b[39m\u001b[38;5;124m\"\u001b[39m)\n\u001b[0;32m--> 233\u001b[0m \u001b[38;5;28;01mreturn\u001b[39;00m \u001b[38;5;28;43mgetattr\u001b[39;49m\u001b[43m(\u001b[49m\u001b[38;5;28;43mself\u001b[39;49m\u001b[43m,\u001b[49m\u001b[43m \u001b[49m\u001b[38;5;124;43mf\u001b[39;49m\u001b[38;5;124;43m\"\u001b[39;49m\u001b[38;5;124;43m_construct_\u001b[39;49m\u001b[38;5;132;43;01m{\u001b[39;49;00m\u001b[43mtype_\u001b[49m\u001b[38;5;132;43;01m}\u001b[39;49;00m\u001b[38;5;124;43m\"\u001b[39;49m\u001b[43m)\u001b[49m\u001b[43m(\u001b[49m\u001b[43mschema\u001b[49m\u001b[43m,\u001b[49m\u001b[43m \u001b[49m\u001b[43mlabel\u001b[49m\u001b[38;5;241;43m=\u001b[39;49m\u001b[43mlabel\u001b[49m\u001b[43m,\u001b[49m\u001b[43m \u001b[49m\u001b[43mroot\u001b[49m\u001b[38;5;241;43m=\u001b[39;49m\u001b[43mroot\u001b[49m\u001b[43m)\u001b[49m\n",
      "File \u001b[0;32m~/Projects/Pydantic_Ipywidgets/ipywidgets-jsonschema/ipywidgets_jsonschema/form.py:281\u001b[0m, in \u001b[0;36mForm._construct_object\u001b[0;34m(self, schema, label, root)\u001b[0m\n\u001b[1;32m    279\u001b[0m \u001b[38;5;28;01mif\u001b[39;00m \u001b[38;5;124m\"\u001b[39m\u001b[38;5;124mproperties\u001b[39m\u001b[38;5;124m\"\u001b[39m \u001b[38;5;129;01min\u001b[39;00m schema:\n\u001b[1;32m    280\u001b[0m     \u001b[38;5;28;01mfor\u001b[39;00m prop, subschema \u001b[38;5;129;01min\u001b[39;00m schema[\u001b[38;5;124m\"\u001b[39m\u001b[38;5;124mproperties\u001b[39m\u001b[38;5;124m\"\u001b[39m]\u001b[38;5;241m.\u001b[39mitems():\n\u001b[0;32m--> 281\u001b[0m         elements[prop] \u001b[38;5;241m=\u001b[39m \u001b[38;5;28;43mself\u001b[39;49m\u001b[38;5;241;43m.\u001b[39;49m\u001b[43m_construct\u001b[49m\u001b[43m(\u001b[49m\u001b[43msubschema\u001b[49m\u001b[43m,\u001b[49m\u001b[43m \u001b[49m\u001b[43mlabel\u001b[49m\u001b[38;5;241;43m=\u001b[39;49m\u001b[43mprop\u001b[49m\u001b[43m)\u001b[49m\n\u001b[1;32m    283\u001b[0m     \u001b[38;5;66;03m# Add conditional elements\u001b[39;00m\n\u001b[1;32m    284\u001b[0m     \u001b[38;5;28;01mdef\u001b[39;00m\u001b[38;5;250m \u001b[39m\u001b[38;5;21madd_conditional_elements\u001b[39m(s):\n\u001b[1;32m    285\u001b[0m         \u001b[38;5;66;03m# Check whether we have an if statement\u001b[39;00m\n",
      "File \u001b[0;32m~/Projects/Pydantic_Ipywidgets/ipywidgets-jsonschema/ipywidgets_jsonschema/form.py:221\u001b[0m, in \u001b[0;36mForm._construct\u001b[0;34m(self, schema, label, root)\u001b[0m\n\u001b[1;32m    219\u001b[0m type_ \u001b[38;5;241m=\u001b[39m schema\u001b[38;5;241m.\u001b[39mget(\u001b[38;5;124m\"\u001b[39m\u001b[38;5;124mtype\u001b[39m\u001b[38;5;124m\"\u001b[39m, \u001b[38;5;28;01mNone\u001b[39;00m)\n\u001b[1;32m    220\u001b[0m \u001b[38;5;28;01mif\u001b[39;00m type_ \u001b[38;5;129;01mis\u001b[39;00m \u001b[38;5;28;01mNone\u001b[39;00m:\n\u001b[0;32m--> 221\u001b[0m     \u001b[38;5;28;01mraise\u001b[39;00m FormError(\u001b[38;5;124m\"\u001b[39m\u001b[38;5;124mExpecting type information for non-enum properties\u001b[39m\u001b[38;5;124m\"\u001b[39m)\n\u001b[1;32m    222\u001b[0m \u001b[38;5;28;01mif\u001b[39;00m \u001b[38;5;129;01mnot\u001b[39;00m \u001b[38;5;28misinstance\u001b[39m(type_, \u001b[38;5;28mstr\u001b[39m):\n\u001b[1;32m    223\u001b[0m     \u001b[38;5;28;01mraise\u001b[39;00m FormError(\u001b[38;5;124m\"\u001b[39m\u001b[38;5;124mNot accepting arrays of types currently\u001b[39m\u001b[38;5;124m\"\u001b[39m)\n",
      "\u001b[0;31mFormError\u001b[0m: Expecting type information for non-enum properties"
     ]
    }
   ],
   "source": [
    "class UserType(str, Enum):\n",
    "    ADMIN = \"admin\"\n",
    "    USER = \"user\"\n",
    "    GUEST = \"guest\"\n",
    "\n",
    "class EnumModel(BaseModel):\n",
    "    user_type: UserType\n",
    "    status: Literal[\"active\", \"inactive\", \"pending\"]\n",
    "    level: int = Field(ge=1, le=5)\n",
    "\n",
    "show(EnumModel)"
   ]
  },
  {
   "cell_type": "code",
   "execution_count": 48,
   "id": "b213234b-3b8e-4af4-8e77-055354ec07e4",
   "metadata": {},
   "outputs": [],
   "source": [
    "## Nested Model"
   ]
  },
  {
   "cell_type": "code",
   "execution_count": 49,
   "id": "432f4f84-b879-4d81-a1b0-d82e123df4d9",
   "metadata": {},
   "outputs": [
    {
     "ename": "FormError",
     "evalue": "Expecting type information for non-enum properties",
     "output_type": "error",
     "traceback": [
      "\u001b[0;31m---------------------------------------------------------------------------\u001b[0m",
      "\u001b[0;31mFormError\u001b[0m                                 Traceback (most recent call last)",
      "Cell \u001b[0;32mIn[49], line 15\u001b[0m\n\u001b[1;32m     12\u001b[0m     primary_address: Address\n\u001b[1;32m     13\u001b[0m     metadata: Dict[\u001b[38;5;28mstr\u001b[39m, Any]\n\u001b[0;32m---> 15\u001b[0m \u001b[43mshow\u001b[49m\u001b[43m(\u001b[49m\u001b[43mNestedModel\u001b[49m\u001b[43m)\u001b[49m\n",
      "Cell \u001b[0;32mIn[4], line 3\u001b[0m, in \u001b[0;36mshow\u001b[0;34m(model)\u001b[0m\n\u001b[1;32m      2\u001b[0m \u001b[38;5;28;01mdef\u001b[39;00m\u001b[38;5;250m \u001b[39m\u001b[38;5;21mshow\u001b[39m(model):\n\u001b[0;32m----> 3\u001b[0m     form \u001b[38;5;241m=\u001b[39m \u001b[43mForm\u001b[49m\u001b[43m(\u001b[49m\u001b[43mmodel\u001b[49m\u001b[38;5;241;43m.\u001b[39;49m\u001b[43mmodel_json_schema\u001b[49m\u001b[43m(\u001b[49m\u001b[43m)\u001b[49m\u001b[43m)\u001b[49m\n\u001b[1;32m      4\u001b[0m     form\u001b[38;5;241m.\u001b[39mshow()\n",
      "File \u001b[0;32m~/Projects/Pydantic_Ipywidgets/ipywidgets-jsonschema/ipywidgets_jsonschema/form.py:139\u001b[0m, in \u001b[0;36mForm.__init__\u001b[0;34m(self, schema, vertically_place_labels, use_sliders, preconstruct_array_items, sorter, date_time_fmt_func, date_time_parse_func, date_fmt_func, date_parse_func, time_fmt_func, time_parse_func, show_descriptions)\u001b[0m\n\u001b[1;32m    136\u001b[0m \u001b[38;5;28mself\u001b[39m\u001b[38;5;241m.\u001b[39m_observers \u001b[38;5;241m=\u001b[39m []\n\u001b[1;32m    138\u001b[0m \u001b[38;5;66;03m# Construct the widgets\u001b[39;00m\n\u001b[0;32m--> 139\u001b[0m \u001b[38;5;28mself\u001b[39m\u001b[38;5;241m.\u001b[39m_form_element \u001b[38;5;241m=\u001b[39m \u001b[38;5;28;43mself\u001b[39;49m\u001b[38;5;241;43m.\u001b[39;49m\u001b[43m_construct\u001b[49m\u001b[43m(\u001b[49m\u001b[43mschema\u001b[49m\u001b[43m,\u001b[49m\u001b[43m \u001b[49m\u001b[43mroot\u001b[49m\u001b[38;5;241;43m=\u001b[39;49m\u001b[38;5;28;43;01mTrue\u001b[39;49;00m\u001b[43m,\u001b[49m\u001b[43m \u001b[49m\u001b[43mlabel\u001b[49m\u001b[38;5;241;43m=\u001b[39;49m\u001b[38;5;28;43;01mNone\u001b[39;49;00m\u001b[43m)\u001b[49m\n",
      "File \u001b[0;32m~/Projects/Pydantic_Ipywidgets/ipywidgets-jsonschema/ipywidgets_jsonschema/form.py:232\u001b[0m, in \u001b[0;36mForm._construct\u001b[0;34m(self, schema, label, root)\u001b[0m\n\u001b[1;32m    227\u001b[0m     \u001b[38;5;28;01mif\u001b[39;00m (IS_VERSION_8 \u001b[38;5;129;01mand\u001b[39;00m format_ \u001b[38;5;129;01min\u001b[39;00m SUPPORTED_FORMATS_VERSION_8) \u001b[38;5;129;01mor\u001b[39;00m (\n\u001b[1;32m    228\u001b[0m         \u001b[38;5;129;01mnot\u001b[39;00m IS_VERSION_8 \u001b[38;5;129;01mand\u001b[39;00m format_ \u001b[38;5;129;01min\u001b[39;00m SUPPORTED_FORMATS_VERSION_7\n\u001b[1;32m    229\u001b[0m     ):\n\u001b[1;32m    230\u001b[0m         type_ \u001b[38;5;241m=\u001b[39m format_\u001b[38;5;241m.\u001b[39mreplace(\u001b[38;5;124m\"\u001b[39m\u001b[38;5;124m-\u001b[39m\u001b[38;5;124m\"\u001b[39m, \u001b[38;5;124m\"\u001b[39m\u001b[38;5;124m_\u001b[39m\u001b[38;5;124m\"\u001b[39m)\n\u001b[0;32m--> 232\u001b[0m \u001b[38;5;28;01mreturn\u001b[39;00m \u001b[38;5;28;43mgetattr\u001b[39;49m\u001b[43m(\u001b[49m\u001b[38;5;28;43mself\u001b[39;49m\u001b[43m,\u001b[49m\u001b[43m \u001b[49m\u001b[38;5;124;43mf\u001b[39;49m\u001b[38;5;124;43m\"\u001b[39;49m\u001b[38;5;124;43m_construct_\u001b[39;49m\u001b[38;5;132;43;01m{\u001b[39;49;00m\u001b[43mtype_\u001b[49m\u001b[38;5;132;43;01m}\u001b[39;49;00m\u001b[38;5;124;43m\"\u001b[39;49m\u001b[43m)\u001b[49m\u001b[43m(\u001b[49m\u001b[43mschema\u001b[49m\u001b[43m,\u001b[49m\u001b[43m \u001b[49m\u001b[43mlabel\u001b[49m\u001b[38;5;241;43m=\u001b[39;49m\u001b[43mlabel\u001b[49m\u001b[43m,\u001b[49m\u001b[43m \u001b[49m\u001b[43mroot\u001b[49m\u001b[38;5;241;43m=\u001b[39;49m\u001b[43mroot\u001b[49m\u001b[43m)\u001b[49m\n",
      "File \u001b[0;32m~/Projects/Pydantic_Ipywidgets/ipywidgets-jsonschema/ipywidgets_jsonschema/form.py:278\u001b[0m, in \u001b[0;36mForm._construct_object\u001b[0;34m(self, schema, label, root)\u001b[0m\n\u001b[1;32m    276\u001b[0m conditionals \u001b[38;5;241m=\u001b[39m []\n\u001b[1;32m    277\u001b[0m \u001b[38;5;28;01mfor\u001b[39;00m prop, subschema \u001b[38;5;129;01min\u001b[39;00m schema[\u001b[38;5;124m\"\u001b[39m\u001b[38;5;124mproperties\u001b[39m\u001b[38;5;124m\"\u001b[39m]\u001b[38;5;241m.\u001b[39mitems():\n\u001b[0;32m--> 278\u001b[0m     elements[prop] \u001b[38;5;241m=\u001b[39m \u001b[38;5;28;43mself\u001b[39;49m\u001b[38;5;241;43m.\u001b[39;49m\u001b[43m_construct\u001b[49m\u001b[43m(\u001b[49m\u001b[43msubschema\u001b[49m\u001b[43m,\u001b[49m\u001b[43m \u001b[49m\u001b[43mlabel\u001b[49m\u001b[38;5;241;43m=\u001b[39;49m\u001b[43mprop\u001b[49m\u001b[43m)\u001b[49m\n\u001b[1;32m    280\u001b[0m \u001b[38;5;66;03m# Add conditional elements\u001b[39;00m\n\u001b[1;32m    281\u001b[0m \u001b[38;5;28;01mdef\u001b[39;00m\u001b[38;5;250m \u001b[39m\u001b[38;5;21madd_conditional_elements\u001b[39m(s):\n\u001b[1;32m    282\u001b[0m     \u001b[38;5;66;03m# Check whether we have an if statement\u001b[39;00m\n",
      "File \u001b[0;32m~/Projects/Pydantic_Ipywidgets/ipywidgets-jsonschema/ipywidgets_jsonschema/form.py:220\u001b[0m, in \u001b[0;36mForm._construct\u001b[0;34m(self, schema, label, root)\u001b[0m\n\u001b[1;32m    218\u001b[0m type_ \u001b[38;5;241m=\u001b[39m schema\u001b[38;5;241m.\u001b[39mget(\u001b[38;5;124m\"\u001b[39m\u001b[38;5;124mtype\u001b[39m\u001b[38;5;124m\"\u001b[39m, \u001b[38;5;28;01mNone\u001b[39;00m)\n\u001b[1;32m    219\u001b[0m \u001b[38;5;28;01mif\u001b[39;00m type_ \u001b[38;5;129;01mis\u001b[39;00m \u001b[38;5;28;01mNone\u001b[39;00m:\n\u001b[0;32m--> 220\u001b[0m     \u001b[38;5;28;01mraise\u001b[39;00m FormError(\u001b[38;5;124m\"\u001b[39m\u001b[38;5;124mExpecting type information for non-enum properties\u001b[39m\u001b[38;5;124m\"\u001b[39m)\n\u001b[1;32m    221\u001b[0m \u001b[38;5;28;01mif\u001b[39;00m \u001b[38;5;129;01mnot\u001b[39;00m \u001b[38;5;28misinstance\u001b[39m(type_, \u001b[38;5;28mstr\u001b[39m):\n\u001b[1;32m    222\u001b[0m     \u001b[38;5;28;01mraise\u001b[39;00m FormError(\u001b[38;5;124m\"\u001b[39m\u001b[38;5;124mNot accepting arrays of types currently\u001b[39m\u001b[38;5;124m\"\u001b[39m)\n",
      "\u001b[0;31mFormError\u001b[0m: Expecting type information for non-enum properties"
     ]
    }
   ],
   "source": [
    "from typing import Any\n",
    "class Address(BaseModel):\n",
    "    street: str\n",
    "    city: str\n",
    "    country: str\n",
    "    postal_code: str = Field(pattern=r\"^\\d{5}$\")\n",
    "\n",
    "class NestedModel(BaseModel):\n",
    "    id: UUID\n",
    "    name: str\n",
    "    addresses: List[Address]\n",
    "    primary_address: Address\n",
    "    metadata: Dict[str, Any]\n",
    "\n",
    "show(NestedModel)"
   ]
  },
  {
   "cell_type": "markdown",
   "id": "5d692215-df5d-44a2-87a3-800683a9193d",
   "metadata": {},
   "source": [
    "## Generics / Template"
   ]
  },
  {
   "cell_type": "code",
   "execution_count": 50,
   "id": "1ff3ad29-5c34-445e-93ea-cd66667bc58a",
   "metadata": {},
   "outputs": [],
   "source": [
    "from typing import TypeVar, Generic\n",
    "\n",
    "T = TypeVar('T')\n",
    "class Generics(BaseModel, Generic[T]):\n",
    "    data: T\n",
    "    status: int\n",
    "    message: str\n",
    "\n"
   ]
  },
  {
   "cell_type": "code",
   "execution_count": 51,
   "id": "48315c28-c3fd-4837-a2e9-f60369520cda",
   "metadata": {},
   "outputs": [
    {
     "data": {
      "application/json": {
       "properties": {
        "data": {
         "title": "Data",
         "type": "integer"
        },
        "message": {
         "title": "Message",
         "type": "string"
        },
        "status": {
         "title": "Status",
         "type": "integer"
        }
       },
       "required": [
        "data",
        "status",
        "message"
       ],
       "title": "Generics[int]",
       "type": "object"
      },
      "text/plain": [
       "<__main__.JSONContainer at 0x11a0a07d0>"
      ]
     },
     "execution_count": 51,
     "metadata": {},
     "output_type": "execute_result"
    }
   ],
   "source": [
    "JSONContainer(Generics[int].model_json_schema())"
   ]
  },
  {
   "cell_type": "markdown",
   "id": "4371139f-70f1-4ebc-8b37-f8146d8872ef",
   "metadata": {},
   "source": [
    "## Network model"
   ]
  },
  {
   "cell_type": "code",
   "execution_count": 52,
   "id": "a2ff5319-ab7c-499d-9a16-f7c64729b0e9",
   "metadata": {},
   "outputs": [
    {
     "data": {
      "application/json": {
       "properties": {
        "ip": {
         "format": "ipvanyaddress",
         "title": "Ip",
         "type": "string"
        }
       },
       "required": [
        "ip"
       ],
       "title": "IpModel",
       "type": "object"
      },
      "text/plain": [
       "<__main__.JSONContainer at 0x118ec1a70>"
      ]
     },
     "execution_count": 52,
     "metadata": {},
     "output_type": "execute_result"
    }
   ],
   "source": [
    "from pydantic import BaseModel\n",
    "from pydantic.networks import IPvAnyAddress\n",
    "class IpModel(BaseModel):\n",
    "    ip: IPvAnyAddress\n",
    "\n",
    "JSONContainer(IpModel.model_json_schema())"
   ]
  },
  {
   "cell_type": "markdown",
   "id": "5f1717d7-5d3c-4b38-9d51-37e77f08d068",
   "metadata": {},
   "source": [
    "## Json"
   ]
  },
  {
   "cell_type": "code",
   "execution_count": 53,
   "id": "146d8ad5-447a-4293-b36a-89b118134aaf",
   "metadata": {},
   "outputs": [
    {
     "ename": "KeyError",
     "evalue": "'properties'",
     "output_type": "error",
     "traceback": [
      "\u001b[0;31m---------------------------------------------------------------------------\u001b[0m",
      "\u001b[0;31mKeyError\u001b[0m                                  Traceback (most recent call last)",
      "Cell \u001b[0;32mIn[53], line 7\u001b[0m\n\u001b[1;32m      4\u001b[0m     metadata: Dict[\u001b[38;5;28mstr\u001b[39m, Any]\n\u001b[1;32m      5\u001b[0m     settings_json: Json[Dict[\u001b[38;5;28mstr\u001b[39m, Any]]\n\u001b[0;32m----> 7\u001b[0m \u001b[43mshow\u001b[49m\u001b[43m(\u001b[49m\u001b[43mDynamicConfig\u001b[49m\u001b[43m)\u001b[49m\n",
      "Cell \u001b[0;32mIn[4], line 3\u001b[0m, in \u001b[0;36mshow\u001b[0;34m(model)\u001b[0m\n\u001b[1;32m      2\u001b[0m \u001b[38;5;28;01mdef\u001b[39;00m\u001b[38;5;250m \u001b[39m\u001b[38;5;21mshow\u001b[39m(model):\n\u001b[0;32m----> 3\u001b[0m     form \u001b[38;5;241m=\u001b[39m \u001b[43mForm\u001b[49m\u001b[43m(\u001b[49m\u001b[43mmodel\u001b[49m\u001b[38;5;241;43m.\u001b[39;49m\u001b[43mmodel_json_schema\u001b[49m\u001b[43m(\u001b[49m\u001b[43m)\u001b[49m\u001b[43m)\u001b[49m\n\u001b[1;32m      4\u001b[0m     form\u001b[38;5;241m.\u001b[39mshow()\n",
      "File \u001b[0;32m~/Projects/Pydantic_Ipywidgets/ipywidgets-jsonschema/ipywidgets_jsonschema/form.py:139\u001b[0m, in \u001b[0;36mForm.__init__\u001b[0;34m(self, schema, vertically_place_labels, use_sliders, preconstruct_array_items, sorter, date_time_fmt_func, date_time_parse_func, date_fmt_func, date_parse_func, time_fmt_func, time_parse_func, show_descriptions)\u001b[0m\n\u001b[1;32m    136\u001b[0m \u001b[38;5;28mself\u001b[39m\u001b[38;5;241m.\u001b[39m_observers \u001b[38;5;241m=\u001b[39m []\n\u001b[1;32m    138\u001b[0m \u001b[38;5;66;03m# Construct the widgets\u001b[39;00m\n\u001b[0;32m--> 139\u001b[0m \u001b[38;5;28mself\u001b[39m\u001b[38;5;241m.\u001b[39m_form_element \u001b[38;5;241m=\u001b[39m \u001b[38;5;28;43mself\u001b[39;49m\u001b[38;5;241;43m.\u001b[39;49m\u001b[43m_construct\u001b[49m\u001b[43m(\u001b[49m\u001b[43mschema\u001b[49m\u001b[43m,\u001b[49m\u001b[43m \u001b[49m\u001b[43mroot\u001b[49m\u001b[38;5;241;43m=\u001b[39;49m\u001b[38;5;28;43;01mTrue\u001b[39;49;00m\u001b[43m,\u001b[49m\u001b[43m \u001b[49m\u001b[43mlabel\u001b[49m\u001b[38;5;241;43m=\u001b[39;49m\u001b[38;5;28;43;01mNone\u001b[39;49;00m\u001b[43m)\u001b[49m\n",
      "File \u001b[0;32m~/Projects/Pydantic_Ipywidgets/ipywidgets-jsonschema/ipywidgets_jsonschema/form.py:232\u001b[0m, in \u001b[0;36mForm._construct\u001b[0;34m(self, schema, label, root)\u001b[0m\n\u001b[1;32m    227\u001b[0m     \u001b[38;5;28;01mif\u001b[39;00m (IS_VERSION_8 \u001b[38;5;129;01mand\u001b[39;00m format_ \u001b[38;5;129;01min\u001b[39;00m SUPPORTED_FORMATS_VERSION_8) \u001b[38;5;129;01mor\u001b[39;00m (\n\u001b[1;32m    228\u001b[0m         \u001b[38;5;129;01mnot\u001b[39;00m IS_VERSION_8 \u001b[38;5;129;01mand\u001b[39;00m format_ \u001b[38;5;129;01min\u001b[39;00m SUPPORTED_FORMATS_VERSION_7\n\u001b[1;32m    229\u001b[0m     ):\n\u001b[1;32m    230\u001b[0m         type_ \u001b[38;5;241m=\u001b[39m format_\u001b[38;5;241m.\u001b[39mreplace(\u001b[38;5;124m\"\u001b[39m\u001b[38;5;124m-\u001b[39m\u001b[38;5;124m\"\u001b[39m, \u001b[38;5;124m\"\u001b[39m\u001b[38;5;124m_\u001b[39m\u001b[38;5;124m\"\u001b[39m)\n\u001b[0;32m--> 232\u001b[0m \u001b[38;5;28;01mreturn\u001b[39;00m \u001b[38;5;28;43mgetattr\u001b[39;49m\u001b[43m(\u001b[49m\u001b[38;5;28;43mself\u001b[39;49m\u001b[43m,\u001b[49m\u001b[43m \u001b[49m\u001b[38;5;124;43mf\u001b[39;49m\u001b[38;5;124;43m\"\u001b[39;49m\u001b[38;5;124;43m_construct_\u001b[39;49m\u001b[38;5;132;43;01m{\u001b[39;49;00m\u001b[43mtype_\u001b[49m\u001b[38;5;132;43;01m}\u001b[39;49;00m\u001b[38;5;124;43m\"\u001b[39;49m\u001b[43m)\u001b[49m\u001b[43m(\u001b[49m\u001b[43mschema\u001b[49m\u001b[43m,\u001b[49m\u001b[43m \u001b[49m\u001b[43mlabel\u001b[49m\u001b[38;5;241;43m=\u001b[39;49m\u001b[43mlabel\u001b[49m\u001b[43m,\u001b[49m\u001b[43m \u001b[49m\u001b[43mroot\u001b[49m\u001b[38;5;241;43m=\u001b[39;49m\u001b[43mroot\u001b[49m\u001b[43m)\u001b[49m\n",
      "File \u001b[0;32m~/Projects/Pydantic_Ipywidgets/ipywidgets-jsonschema/ipywidgets_jsonschema/form.py:278\u001b[0m, in \u001b[0;36mForm._construct_object\u001b[0;34m(self, schema, label, root)\u001b[0m\n\u001b[1;32m    276\u001b[0m conditionals \u001b[38;5;241m=\u001b[39m []\n\u001b[1;32m    277\u001b[0m \u001b[38;5;28;01mfor\u001b[39;00m prop, subschema \u001b[38;5;129;01min\u001b[39;00m schema[\u001b[38;5;124m\"\u001b[39m\u001b[38;5;124mproperties\u001b[39m\u001b[38;5;124m\"\u001b[39m]\u001b[38;5;241m.\u001b[39mitems():\n\u001b[0;32m--> 278\u001b[0m     elements[prop] \u001b[38;5;241m=\u001b[39m \u001b[38;5;28;43mself\u001b[39;49m\u001b[38;5;241;43m.\u001b[39;49m\u001b[43m_construct\u001b[49m\u001b[43m(\u001b[49m\u001b[43msubschema\u001b[49m\u001b[43m,\u001b[49m\u001b[43m \u001b[49m\u001b[43mlabel\u001b[49m\u001b[38;5;241;43m=\u001b[39;49m\u001b[43mprop\u001b[49m\u001b[43m)\u001b[49m\n\u001b[1;32m    280\u001b[0m \u001b[38;5;66;03m# Add conditional elements\u001b[39;00m\n\u001b[1;32m    281\u001b[0m \u001b[38;5;28;01mdef\u001b[39;00m\u001b[38;5;250m \u001b[39m\u001b[38;5;21madd_conditional_elements\u001b[39m(s):\n\u001b[1;32m    282\u001b[0m     \u001b[38;5;66;03m# Check whether we have an if statement\u001b[39;00m\n",
      "File \u001b[0;32m~/Projects/Pydantic_Ipywidgets/ipywidgets-jsonschema/ipywidgets_jsonschema/form.py:232\u001b[0m, in \u001b[0;36mForm._construct\u001b[0;34m(self, schema, label, root)\u001b[0m\n\u001b[1;32m    227\u001b[0m     \u001b[38;5;28;01mif\u001b[39;00m (IS_VERSION_8 \u001b[38;5;129;01mand\u001b[39;00m format_ \u001b[38;5;129;01min\u001b[39;00m SUPPORTED_FORMATS_VERSION_8) \u001b[38;5;129;01mor\u001b[39;00m (\n\u001b[1;32m    228\u001b[0m         \u001b[38;5;129;01mnot\u001b[39;00m IS_VERSION_8 \u001b[38;5;129;01mand\u001b[39;00m format_ \u001b[38;5;129;01min\u001b[39;00m SUPPORTED_FORMATS_VERSION_7\n\u001b[1;32m    229\u001b[0m     ):\n\u001b[1;32m    230\u001b[0m         type_ \u001b[38;5;241m=\u001b[39m format_\u001b[38;5;241m.\u001b[39mreplace(\u001b[38;5;124m\"\u001b[39m\u001b[38;5;124m-\u001b[39m\u001b[38;5;124m\"\u001b[39m, \u001b[38;5;124m\"\u001b[39m\u001b[38;5;124m_\u001b[39m\u001b[38;5;124m\"\u001b[39m)\n\u001b[0;32m--> 232\u001b[0m \u001b[38;5;28;01mreturn\u001b[39;00m \u001b[38;5;28;43mgetattr\u001b[39;49m\u001b[43m(\u001b[49m\u001b[38;5;28;43mself\u001b[39;49m\u001b[43m,\u001b[49m\u001b[43m \u001b[49m\u001b[38;5;124;43mf\u001b[39;49m\u001b[38;5;124;43m\"\u001b[39;49m\u001b[38;5;124;43m_construct_\u001b[39;49m\u001b[38;5;132;43;01m{\u001b[39;49;00m\u001b[43mtype_\u001b[49m\u001b[38;5;132;43;01m}\u001b[39;49;00m\u001b[38;5;124;43m\"\u001b[39;49m\u001b[43m)\u001b[49m\u001b[43m(\u001b[49m\u001b[43mschema\u001b[49m\u001b[43m,\u001b[49m\u001b[43m \u001b[49m\u001b[43mlabel\u001b[49m\u001b[38;5;241;43m=\u001b[39;49m\u001b[43mlabel\u001b[49m\u001b[43m,\u001b[49m\u001b[43m \u001b[49m\u001b[43mroot\u001b[49m\u001b[38;5;241;43m=\u001b[39;49m\u001b[43mroot\u001b[49m\u001b[43m)\u001b[49m\n",
      "File \u001b[0;32m~/Projects/Pydantic_Ipywidgets/ipywidgets-jsonschema/ipywidgets_jsonschema/form.py:277\u001b[0m, in \u001b[0;36mForm._construct_object\u001b[0;34m(self, schema, label, root)\u001b[0m\n\u001b[1;32m    270\u001b[0m \u001b[38;5;66;03m# Store the conditional information from the schema in the following form:\u001b[39;00m\n\u001b[1;32m    271\u001b[0m \u001b[38;5;66;03m# [(schema, cprop, element), ..]\u001b[39;00m\n\u001b[1;32m    272\u001b[0m \u001b[38;5;66;03m# with the following meaning:\u001b[39;00m\n\u001b[1;32m    273\u001b[0m \u001b[38;5;66;03m#   schema: The schema that the data needs to match\u001b[39;00m\n\u001b[1;32m    274\u001b[0m \u001b[38;5;66;03m#   cprop: The property that is maybe added\u001b[39;00m\n\u001b[1;32m    275\u001b[0m \u001b[38;5;66;03m#   element: The subelement for the property\u001b[39;00m\n\u001b[1;32m    276\u001b[0m conditionals \u001b[38;5;241m=\u001b[39m []\n\u001b[0;32m--> 277\u001b[0m \u001b[38;5;28;01mfor\u001b[39;00m prop, subschema \u001b[38;5;129;01min\u001b[39;00m \u001b[43mschema\u001b[49m\u001b[43m[\u001b[49m\u001b[38;5;124;43m\"\u001b[39;49m\u001b[38;5;124;43mproperties\u001b[39;49m\u001b[38;5;124;43m\"\u001b[39;49m\u001b[43m]\u001b[49m\u001b[38;5;241m.\u001b[39mitems():\n\u001b[1;32m    278\u001b[0m     elements[prop] \u001b[38;5;241m=\u001b[39m \u001b[38;5;28mself\u001b[39m\u001b[38;5;241m.\u001b[39m_construct(subschema, label\u001b[38;5;241m=\u001b[39mprop)\n\u001b[1;32m    280\u001b[0m \u001b[38;5;66;03m# Add conditional elements\u001b[39;00m\n",
      "\u001b[0;31mKeyError\u001b[0m: 'properties'"
     ]
    }
   ],
   "source": [
    "from pydantic import Json\n",
    "class DynamicConfig(BaseModel):\n",
    "    raw_json: Json\n",
    "    metadata: Dict[str, Any]\n",
    "    settings_json: Json[Dict[str, Any]]\n",
    "\n",
    "show(DynamicConfig)"
   ]
  },
  {
   "cell_type": "code",
   "execution_count": 54,
   "id": "9b6b28e1-08ed-434e-ba98-f758e20bf939",
   "metadata": {},
   "outputs": [
    {
     "data": {
      "application/json": {
       "properties": {
        "metadata": {
         "title": "Metadata",
         "type": "object"
        },
        "raw_json": {
         "contentMediaType": "application/json",
         "contentSchema": {},
         "title": "Raw Json",
         "type": "string"
        },
        "settings_json": {
         "contentMediaType": "application/json",
         "contentSchema": {
          "type": "object"
         },
         "title": "Settings Json",
         "type": "string"
        }
       },
       "required": [
        "raw_json",
        "metadata",
        "settings_json"
       ],
       "title": "DynamicConfig",
       "type": "object"
      },
      "text/plain": [
       "<__main__.JSONContainer at 0x118ec0d60>"
      ]
     },
     "execution_count": 54,
     "metadata": {},
     "output_type": "execute_result"
    }
   ],
   "source": [
    "JSONContainer(DynamicConfig.model_json_schema())"
   ]
  },
  {
   "cell_type": "markdown",
   "id": "a201b9f5-88f3-4696-b46e-ba5e123932a6",
   "metadata": {},
   "source": [
    "## Optional typing"
   ]
  },
  {
   "cell_type": "code",
   "execution_count": 55,
   "id": "6b3d46f5-e490-4f86-9e90-ce21fdd09233",
   "metadata": {},
   "outputs": [
    {
     "ename": "FormError",
     "evalue": "Schemas within anyOf/oneOf/allOf need to set the title field",
     "output_type": "error",
     "traceback": [
      "\u001b[0;31m---------------------------------------------------------------------------\u001b[0m",
      "\u001b[0;31mFormError\u001b[0m                                 Traceback (most recent call last)",
      "Cell \u001b[0;32mIn[55], line 8\u001b[0m\n\u001b[1;32m      4\u001b[0m     field2: Optional[\u001b[38;5;28mint\u001b[39m] \u001b[38;5;241m=\u001b[39m \u001b[38;5;28;01mNone\u001b[39;00m\n\u001b[1;32m      5\u001b[0m     field3: Optional[List[\u001b[38;5;28mstr\u001b[39m]] \u001b[38;5;241m=\u001b[39m \u001b[38;5;28;01mNone\u001b[39;00m\n\u001b[0;32m----> 8\u001b[0m \u001b[43mshow\u001b[49m\u001b[43m(\u001b[49m\u001b[43mOptionalModel\u001b[49m\u001b[43m)\u001b[49m\n",
      "Cell \u001b[0;32mIn[4], line 3\u001b[0m, in \u001b[0;36mshow\u001b[0;34m(model)\u001b[0m\n\u001b[1;32m      2\u001b[0m \u001b[38;5;28;01mdef\u001b[39;00m\u001b[38;5;250m \u001b[39m\u001b[38;5;21mshow\u001b[39m(model):\n\u001b[0;32m----> 3\u001b[0m     form \u001b[38;5;241m=\u001b[39m \u001b[43mForm\u001b[49m\u001b[43m(\u001b[49m\u001b[43mmodel\u001b[49m\u001b[38;5;241;43m.\u001b[39;49m\u001b[43mmodel_json_schema\u001b[49m\u001b[43m(\u001b[49m\u001b[43m)\u001b[49m\u001b[43m)\u001b[49m\n\u001b[1;32m      4\u001b[0m     form\u001b[38;5;241m.\u001b[39mshow()\n",
      "File \u001b[0;32m~/Projects/Pydantic_Ipywidgets/ipywidgets-jsonschema/ipywidgets_jsonschema/form.py:139\u001b[0m, in \u001b[0;36mForm.__init__\u001b[0;34m(self, schema, vertically_place_labels, use_sliders, preconstruct_array_items, sorter, date_time_fmt_func, date_time_parse_func, date_fmt_func, date_parse_func, time_fmt_func, time_parse_func, show_descriptions)\u001b[0m\n\u001b[1;32m    136\u001b[0m \u001b[38;5;28mself\u001b[39m\u001b[38;5;241m.\u001b[39m_observers \u001b[38;5;241m=\u001b[39m []\n\u001b[1;32m    138\u001b[0m \u001b[38;5;66;03m# Construct the widgets\u001b[39;00m\n\u001b[0;32m--> 139\u001b[0m \u001b[38;5;28mself\u001b[39m\u001b[38;5;241m.\u001b[39m_form_element \u001b[38;5;241m=\u001b[39m \u001b[38;5;28;43mself\u001b[39;49m\u001b[38;5;241;43m.\u001b[39;49m\u001b[43m_construct\u001b[49m\u001b[43m(\u001b[49m\u001b[43mschema\u001b[49m\u001b[43m,\u001b[49m\u001b[43m \u001b[49m\u001b[43mroot\u001b[49m\u001b[38;5;241;43m=\u001b[39;49m\u001b[38;5;28;43;01mTrue\u001b[39;49;00m\u001b[43m,\u001b[49m\u001b[43m \u001b[49m\u001b[43mlabel\u001b[49m\u001b[38;5;241;43m=\u001b[39;49m\u001b[38;5;28;43;01mNone\u001b[39;49;00m\u001b[43m)\u001b[49m\n",
      "File \u001b[0;32m~/Projects/Pydantic_Ipywidgets/ipywidgets-jsonschema/ipywidgets_jsonschema/form.py:232\u001b[0m, in \u001b[0;36mForm._construct\u001b[0;34m(self, schema, label, root)\u001b[0m\n\u001b[1;32m    227\u001b[0m     \u001b[38;5;28;01mif\u001b[39;00m (IS_VERSION_8 \u001b[38;5;129;01mand\u001b[39;00m format_ \u001b[38;5;129;01min\u001b[39;00m SUPPORTED_FORMATS_VERSION_8) \u001b[38;5;129;01mor\u001b[39;00m (\n\u001b[1;32m    228\u001b[0m         \u001b[38;5;129;01mnot\u001b[39;00m IS_VERSION_8 \u001b[38;5;129;01mand\u001b[39;00m format_ \u001b[38;5;129;01min\u001b[39;00m SUPPORTED_FORMATS_VERSION_7\n\u001b[1;32m    229\u001b[0m     ):\n\u001b[1;32m    230\u001b[0m         type_ \u001b[38;5;241m=\u001b[39m format_\u001b[38;5;241m.\u001b[39mreplace(\u001b[38;5;124m\"\u001b[39m\u001b[38;5;124m-\u001b[39m\u001b[38;5;124m\"\u001b[39m, \u001b[38;5;124m\"\u001b[39m\u001b[38;5;124m_\u001b[39m\u001b[38;5;124m\"\u001b[39m)\n\u001b[0;32m--> 232\u001b[0m \u001b[38;5;28;01mreturn\u001b[39;00m \u001b[38;5;28;43mgetattr\u001b[39;49m\u001b[43m(\u001b[49m\u001b[38;5;28;43mself\u001b[39;49m\u001b[43m,\u001b[49m\u001b[43m \u001b[49m\u001b[38;5;124;43mf\u001b[39;49m\u001b[38;5;124;43m\"\u001b[39;49m\u001b[38;5;124;43m_construct_\u001b[39;49m\u001b[38;5;132;43;01m{\u001b[39;49;00m\u001b[43mtype_\u001b[49m\u001b[38;5;132;43;01m}\u001b[39;49;00m\u001b[38;5;124;43m\"\u001b[39;49m\u001b[43m)\u001b[49m\u001b[43m(\u001b[49m\u001b[43mschema\u001b[49m\u001b[43m,\u001b[49m\u001b[43m \u001b[49m\u001b[43mlabel\u001b[49m\u001b[38;5;241;43m=\u001b[39;49m\u001b[43mlabel\u001b[49m\u001b[43m,\u001b[49m\u001b[43m \u001b[49m\u001b[43mroot\u001b[49m\u001b[38;5;241;43m=\u001b[39;49m\u001b[43mroot\u001b[49m\u001b[43m)\u001b[49m\n",
      "File \u001b[0;32m~/Projects/Pydantic_Ipywidgets/ipywidgets-jsonschema/ipywidgets_jsonschema/form.py:278\u001b[0m, in \u001b[0;36mForm._construct_object\u001b[0;34m(self, schema, label, root)\u001b[0m\n\u001b[1;32m    276\u001b[0m conditionals \u001b[38;5;241m=\u001b[39m []\n\u001b[1;32m    277\u001b[0m \u001b[38;5;28;01mfor\u001b[39;00m prop, subschema \u001b[38;5;129;01min\u001b[39;00m schema[\u001b[38;5;124m\"\u001b[39m\u001b[38;5;124mproperties\u001b[39m\u001b[38;5;124m\"\u001b[39m]\u001b[38;5;241m.\u001b[39mitems():\n\u001b[0;32m--> 278\u001b[0m     elements[prop] \u001b[38;5;241m=\u001b[39m \u001b[38;5;28;43mself\u001b[39;49m\u001b[38;5;241;43m.\u001b[39;49m\u001b[43m_construct\u001b[49m\u001b[43m(\u001b[49m\u001b[43msubschema\u001b[49m\u001b[43m,\u001b[49m\u001b[43m \u001b[49m\u001b[43mlabel\u001b[49m\u001b[38;5;241;43m=\u001b[39;49m\u001b[43mprop\u001b[49m\u001b[43m)\u001b[49m\n\u001b[1;32m    280\u001b[0m \u001b[38;5;66;03m# Add conditional elements\u001b[39;00m\n\u001b[1;32m    281\u001b[0m \u001b[38;5;28;01mdef\u001b[39;00m\u001b[38;5;250m \u001b[39m\u001b[38;5;21madd_conditional_elements\u001b[39m(s):\n\u001b[1;32m    282\u001b[0m     \u001b[38;5;66;03m# Check whether we have an if statement\u001b[39;00m\n",
      "File \u001b[0;32m~/Projects/Pydantic_Ipywidgets/ipywidgets-jsonschema/ipywidgets_jsonschema/form.py:207\u001b[0m, in \u001b[0;36mForm._construct\u001b[0;34m(self, schema, label, root)\u001b[0m\n\u001b[1;32m    205\u001b[0m \u001b[38;5;66;03m# anyOf rules are handled with dropdown selections\u001b[39;00m\n\u001b[1;32m    206\u001b[0m \u001b[38;5;28;01mif\u001b[39;00m \u001b[38;5;124m\"\u001b[39m\u001b[38;5;124manyOf\u001b[39m\u001b[38;5;124m\"\u001b[39m \u001b[38;5;129;01min\u001b[39;00m schema:\n\u001b[0;32m--> 207\u001b[0m     \u001b[38;5;28;01mreturn\u001b[39;00m \u001b[38;5;28;43mself\u001b[39;49m\u001b[38;5;241;43m.\u001b[39;49m\u001b[43m_construct_anyof\u001b[49m\u001b[43m(\u001b[49m\u001b[43mschema\u001b[49m\u001b[43m,\u001b[49m\u001b[43m \u001b[49m\u001b[43mlabel\u001b[49m\u001b[38;5;241;43m=\u001b[39;49m\u001b[43mlabel\u001b[49m\u001b[43m)\u001b[49m\n\u001b[1;32m    209\u001b[0m \u001b[38;5;66;03m# We use the same code for oneOf and allOf - if the data cannot be validated,\u001b[39;00m\n\u001b[1;32m    210\u001b[0m \u001b[38;5;66;03m# a validation error will be thrown when accessing the data. There is no\u001b[39;00m\n\u001b[1;32m    211\u001b[0m \u001b[38;5;66;03m# upfront checking in the form.\u001b[39;00m\n\u001b[1;32m    212\u001b[0m \u001b[38;5;28;01mif\u001b[39;00m \u001b[38;5;124m\"\u001b[39m\u001b[38;5;124moneOf\u001b[39m\u001b[38;5;124m\"\u001b[39m \u001b[38;5;129;01min\u001b[39;00m schema:\n",
      "File \u001b[0;32m~/Projects/Pydantic_Ipywidgets/ipywidgets-jsonschema/ipywidgets_jsonschema/form.py:978\u001b[0m, in \u001b[0;36mForm._construct_anyof\u001b[0;34m(self, schema, label, key)\u001b[0m\n\u001b[1;32m    976\u001b[0m         elements\u001b[38;5;241m.\u001b[39mappend(\u001b[38;5;28mself\u001b[39m\u001b[38;5;241m.\u001b[39m_construct(s))\n\u001b[1;32m    977\u001b[0m     \u001b[38;5;28;01melse\u001b[39;00m:\n\u001b[0;32m--> 978\u001b[0m         \u001b[38;5;28;01mraise\u001b[39;00m FormError(\n\u001b[1;32m    979\u001b[0m             \u001b[38;5;124m\"\u001b[39m\u001b[38;5;124mSchemas within anyOf/oneOf/allOf need to set the title field\u001b[39m\u001b[38;5;124m\"\u001b[39m\n\u001b[1;32m    980\u001b[0m         )\n\u001b[1;32m    982\u001b[0m \u001b[38;5;66;03m# Create the selector and subschema widget\u001b[39;00m\n\u001b[1;32m    983\u001b[0m selector \u001b[38;5;241m=\u001b[39m ipywidgets\u001b[38;5;241m.\u001b[39mDropdown(options\u001b[38;5;241m=\u001b[39mnames, value\u001b[38;5;241m=\u001b[39mnames[\u001b[38;5;241m0\u001b[39m])\n",
      "\u001b[0;31mFormError\u001b[0m: Schemas within anyOf/oneOf/allOf need to set the title field"
     ]
    }
   ],
   "source": [
    "from typing import Optional\n",
    "class OptionalModel(BaseModel):\n",
    "    field1: Optional[str] = None\n",
    "    field2: Optional[int] = None\n",
    "    field3: Optional[List[str]] = None\n",
    "\n",
    "\n",
    "show(OptionalModel)"
   ]
  },
  {
   "cell_type": "code",
   "execution_count": 56,
   "id": "b5d5136a-13ea-41fc-a6d2-0522c7e21c67",
   "metadata": {},
   "outputs": [
    {
     "data": {
      "application/json": {
       "properties": {
        "field1": {
         "anyOf": [
          {
           "type": "string"
          },
          {
           "type": "null"
          }
         ],
         "default": null,
         "title": "Field1"
        },
        "field2": {
         "anyOf": [
          {
           "type": "integer"
          },
          {
           "type": "null"
          }
         ],
         "default": null,
         "title": "Field2"
        },
        "field3": {
         "anyOf": [
          {
           "items": {
            "type": "string"
           },
           "type": "array"
          },
          {
           "type": "null"
          }
         ],
         "default": null,
         "title": "Field3"
        }
       },
       "title": "OptionalModel",
       "type": "object"
      },
      "text/plain": [
       "<__main__.JSONContainer at 0x118ded250>"
      ]
     },
     "execution_count": 56,
     "metadata": {},
     "output_type": "execute_result"
    }
   ],
   "source": [
    "JSONContainer(OptionalModel.model_json_schema())"
   ]
  },
  {
   "cell_type": "code",
   "execution_count": 57,
   "id": "2b638bb5-b795-45e2-9025-5b8546c93148",
   "metadata": {},
   "outputs": [],
   "source": [
    "import json\n",
    "import logging\n",
    "import pydantic\n",
    "from typing import List, Type\n",
    "from pathlib import Path\n",
    "\n",
    "def generate_json_schema_files(models: List[Type[BaseModel]], output_dir: str = 'schemas'):\n",
    "    \"\"\"\n",
    "    Generate JSON schema files for a list of pydantic basemodels\n",
    "    \"\"\"\n",
    "    schema_dir = Path(output_dir)\n",
    "    schema_dir.mkdir(parents=True, exist_ok=True)\n",
    "\n",
    "    for model in models:\n",
    "        try:\n",
    "            model_name = model.__name__.lower()\n",
    "            schema = model.model_json_schema()\n",
    "            schema_path = schema_dir / f'{model_name}.json'\n",
    "\n",
    "            with open(schema_path, 'w', encoding='utf8') as f:\n",
    "                json.dump(schema,f, indent=2, ensure_ascii=False)\n",
    "\n",
    "            logging.info(f'Generated schema for {model_name} at {schema_path}')\n",
    "\n",
    "        except Exception as e:\n",
    "            logging.error(f'Failed to generate schema for {model.__name__}: {str(e)}')\n",
    "            \n",
    "\n",
    "\n",
    "\n",
    "\n",
    "\n",
    "models_to_process = [StringSimple, StringNested, StringAndInt, FloatMultipleOfMinumumContraint, StringMinLengthMaxLengthContraint, StringRegex, Group, DictMinProperties, CustomValidationFloat, StringWithAnnotations,\n",
    "                     FixedArraySize, CustomValidationModel, DynamicFields, IntAlias, IntField, StringPrivateField, Dog, Category, LiteralModel, Item, ListEnum, Modelannotated, UUIDModel, UnionIntFloat,DictUnion,\n",
    "                    BasicTypes, RecursiveModel, StringValidations, NumericValidations, EnumModel,NestedModel,Generics, IpModel, DynamicConfig, OptionalModel ]\n",
    "user_generated_models = []\n",
    "generate_json_schema_files(models_to_process, 'schemas')\n",
    "generate_json_schema_files(user_generated_models, 'schemas-user')"
   ]
  },
  {
   "cell_type": "code",
   "execution_count": 58,
   "id": "a8b58c5e-089a-40b7-989a-0f891359664a",
   "metadata": {},
   "outputs": [
    {
     "data": {
      "application/vnd.jupyter.widget-view+json": {
       "model_id": "233314f3f7fa4318864c8bc18364dc6d",
       "version_major": 2,
       "version_minor": 0
      },
      "text/plain": [
       "VBox(children=(Accordion(children=(VBox(children=(VBox(children=(Button(description='Add entry', icon='plus', …"
      ]
     },
     "metadata": {},
     "output_type": "display_data"
    }
   ],
   "source": [
    "from ipywidgets_jsonschema import Form\n",
    "\n",
    "\n",
    "#schema = Config.model_json_schema()\n",
    "\n",
    "form = Form(ListEnum.model_json_schema())\n",
    "form.show(width='500px')"
   ]
  },
  {
   "cell_type": "code",
   "execution_count": 59,
   "id": "c8e03704-fc7d-4fd6-b4db-7c502eda2d2e",
   "metadata": {},
   "outputs": [
    {
     "data": {
      "text/plain": [
       "{'colors': []}"
      ]
     },
     "execution_count": 59,
     "metadata": {},
     "output_type": "execute_result"
    }
   ],
   "source": [
    "form.data"
   ]
  },
  {
   "cell_type": "markdown",
   "id": "22ac825f-4690-4c6d-880d-62b71338138d",
   "metadata": {},
   "source": [
    "## Unsupported so far\n",
    "Enums (cant add entries),\n",
    "Union"
   ]
  },
  {
   "cell_type": "markdown",
   "id": "84d3f9a5-9dcc-47c4-9849-1849d6a25083",
   "metadata": {},
   "source": [
    "## Unsupported by JSON schema\n",
    "Custom validators, dynamic computed fields"
   ]
  },
  {
   "cell_type": "code",
   "execution_count": null,
   "id": "9ba7dd55-83a0-4c3f-91c3-fa7146d959e3",
   "metadata": {},
   "outputs": [],
   "source": []
  },
  {
   "cell_type": "code",
   "execution_count": null,
   "id": "ba5a38fc-4ecb-43e8-86bc-6953116d59a9",
   "metadata": {},
   "outputs": [],
   "source": []
  }
 ],
 "metadata": {
  "kernelspec": {
   "display_name": "Python 3 (ipykernel)",
   "language": "python",
   "name": "python3"
  },
  "language_info": {
   "codemirror_mode": {
    "name": "ipython",
    "version": 3
   },
   "file_extension": ".py",
   "mimetype": "text/x-python",
   "name": "python",
   "nbconvert_exporter": "python",
   "pygments_lexer": "ipython3",
   "version": "3.13.1"
  }
 },
 "nbformat": 4,
 "nbformat_minor": 5
}
